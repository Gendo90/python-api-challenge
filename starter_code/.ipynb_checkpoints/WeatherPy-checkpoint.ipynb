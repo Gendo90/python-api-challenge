{
 "cells": [
  {
   "cell_type": "markdown",
   "metadata": {},
   "source": [
    "# WeatherPy\n",
    "----\n",
    "\n",
    "#### Note\n",
    "* Instructions have been included for each segment. You do not have to follow them exactly, but they are included to help you think through the steps."
   ]
  },
  {
   "cell_type": "code",
   "execution_count": 1,
   "metadata": {
    "scrolled": true
   },
   "outputs": [],
   "source": [
    "# Dependencies and Setup\n",
    "import matplotlib.pyplot as plt\n",
    "import pandas as pd\n",
    "import numpy as np\n",
    "import requests\n",
    "import time\n",
    "from scipy.stats import linregress\n",
    "import json\n",
    "import datetime\n",
    "\n",
    "# Import API key\n",
    "from api_keys import weather_api_key\n",
    "\n",
    "# Incorporated citipy to determine city based on latitude and longitude\n",
    "from citipy import citipy\n",
    "\n",
    "# Output File (CSV)\n",
    "output_data_file = \"output_data/cities.csv\"\n",
    "\n",
    "# Range of latitudes and longitudes\n",
    "lat_range = (-90, 90)\n",
    "lng_range = (-180, 180)"
   ]
  },
  {
   "cell_type": "markdown",
   "metadata": {},
   "source": [
    "## Generate Cities List"
   ]
  },
  {
   "cell_type": "code",
   "execution_count": 2,
   "metadata": {},
   "outputs": [
    {
     "name": "stdout",
     "output_type": "stream",
     "text": [
      "605 cities have been identified to poll for weather\n"
     ]
    },
    {
     "data": {
      "text/html": [
       "<div>\n",
       "<style scoped>\n",
       "    .dataframe tbody tr th:only-of-type {\n",
       "        vertical-align: middle;\n",
       "    }\n",
       "\n",
       "    .dataframe tbody tr th {\n",
       "        vertical-align: top;\n",
       "    }\n",
       "\n",
       "    .dataframe thead th {\n",
       "        text-align: right;\n",
       "    }\n",
       "</style>\n",
       "<table border=\"1\" class=\"dataframe\">\n",
       "  <thead>\n",
       "    <tr style=\"text-align: right;\">\n",
       "      <th></th>\n",
       "      <th>City</th>\n",
       "      <th>Approx. Latitude</th>\n",
       "      <th>Approx. Longitude</th>\n",
       "    </tr>\n",
       "  </thead>\n",
       "  <tbody>\n",
       "    <tr>\n",
       "      <th>0</th>\n",
       "      <td>llangefni</td>\n",
       "      <td>53.191015</td>\n",
       "      <td>-4.435155</td>\n",
       "    </tr>\n",
       "    <tr>\n",
       "      <th>1</th>\n",
       "      <td>sharlyk</td>\n",
       "      <td>53.252014</td>\n",
       "      <td>54.455958</td>\n",
       "    </tr>\n",
       "    <tr>\n",
       "      <th>2</th>\n",
       "      <td>cidreira</td>\n",
       "      <td>-43.940274</td>\n",
       "      <td>-33.017035</td>\n",
       "    </tr>\n",
       "    <tr>\n",
       "      <th>3</th>\n",
       "      <td>bredasdorp</td>\n",
       "      <td>-58.980568</td>\n",
       "      <td>20.953094</td>\n",
       "    </tr>\n",
       "    <tr>\n",
       "      <th>4</th>\n",
       "      <td>coronel oviedo</td>\n",
       "      <td>-25.457511</td>\n",
       "      <td>-56.338665</td>\n",
       "    </tr>\n",
       "  </tbody>\n",
       "</table>\n",
       "</div>"
      ],
      "text/plain": [
       "             City  Approx. Latitude  Approx. Longitude\n",
       "0       llangefni         53.191015          -4.435155\n",
       "1         sharlyk         53.252014          54.455958\n",
       "2        cidreira        -43.940274         -33.017035\n",
       "3      bredasdorp        -58.980568          20.953094\n",
       "4  coronel oviedo        -25.457511         -56.338665"
      ]
     },
     "execution_count": 2,
     "metadata": {},
     "output_type": "execute_result"
    }
   ],
   "source": [
    "# List for holding lat_lngs and cities\n",
    "lat_lngs = []\n",
    "cities = []\n",
    "\n",
    "# Create a set of random lat and lng combinations\n",
    "lats = np.random.uniform(lat_range[0], lat_range[1], size=1500)\n",
    "lngs = np.random.uniform(lng_range[0], lng_range[1], size=1500)\n",
    "lat_lngs = zip(lats, lngs)\n",
    "\n",
    "saved_lats = []\n",
    "saved_longs = []\n",
    "\n",
    "# Identify nearest city for each lat, lng combination\n",
    "for lat_lng in lat_lngs:\n",
    "    city = citipy.nearest_city(lat_lng[0], lat_lng[1]).city_name\n",
    "    \n",
    "    # If the city is unique, then add it to a our cities list\n",
    "    #also add estimated latitude and longitude\n",
    "    if city not in cities:\n",
    "        cities.append(city)\n",
    "        saved_lats.append(lat_lng[0])\n",
    "        saved_longs.append(lat_lng[1])\n",
    "        \n",
    "# print(citipy.nearest_city(0, 0).keys())\n",
    "\n",
    "# Print the city count to confirm sufficient count\n",
    "print(\"{} cities have been identified to poll for weather\".format(len(cities)))\n",
    "\n",
    "city_list = pd.DataFrame({\"City\":cities, \"Approx. Latitude\":saved_lats, \"Approx. Longitude\":saved_longs})\n",
    "# city_list = pd.DataFrame({\"City\":cities})\n",
    "\n",
    "#save to a csv (for reference - can compare estimated coordinates to actual coordinates if there is time, which cannot be done\n",
    "#easily with citipy because the references only go one way -> approx. coordinates to city name, not city name to actual \n",
    "#coordinates)\n",
    "city_list.to_csv(\"./CityNameList.csv\")\n",
    "city_list.head()"
   ]
  },
  {
   "cell_type": "markdown",
   "metadata": {},
   "source": [
    "### Perform API Calls\n",
    "* Perform a weather check on each city using a series of successive API calls.\n",
    "* Include a print log of each city as it'sbeing processed (with the city number and city name).\n"
   ]
  },
  {
   "cell_type": "code",
   "execution_count": 3,
   "metadata": {},
   "outputs": [
    {
     "name": "stderr",
     "output_type": "stream",
     "text": [
      "C:\\Users\\patri\\anaconda3\\lib\\site-packages\\ipykernel_launcher.py:35: SettingWithCopyWarning: \n",
      "A value is trying to be set on a copy of a slice from a DataFrame\n",
      "\n",
      "See the caveats in the documentation: https://pandas.pydata.org/pandas-docs/stable/user_guide/indexing.html#returning-a-view-versus-a-copy\n",
      "C:\\Users\\patri\\anaconda3\\lib\\site-packages\\ipykernel_launcher.py:36: SettingWithCopyWarning: \n",
      "A value is trying to be set on a copy of a slice from a DataFrame\n",
      "\n",
      "See the caveats in the documentation: https://pandas.pydata.org/pandas-docs/stable/user_guide/indexing.html#returning-a-view-versus-a-copy\n",
      "C:\\Users\\patri\\anaconda3\\lib\\site-packages\\ipykernel_launcher.py:37: SettingWithCopyWarning: \n",
      "A value is trying to be set on a copy of a slice from a DataFrame\n",
      "\n",
      "See the caveats in the documentation: https://pandas.pydata.org/pandas-docs/stable/user_guide/indexing.html#returning-a-view-versus-a-copy\n",
      "C:\\Users\\patri\\anaconda3\\lib\\site-packages\\ipykernel_launcher.py:38: SettingWithCopyWarning: \n",
      "A value is trying to be set on a copy of a slice from a DataFrame\n",
      "\n",
      "See the caveats in the documentation: https://pandas.pydata.org/pandas-docs/stable/user_guide/indexing.html#returning-a-view-versus-a-copy\n",
      "C:\\Users\\patri\\anaconda3\\lib\\site-packages\\ipykernel_launcher.py:39: SettingWithCopyWarning: \n",
      "A value is trying to be set on a copy of a slice from a DataFrame\n",
      "\n",
      "See the caveats in the documentation: https://pandas.pydata.org/pandas-docs/stable/user_guide/indexing.html#returning-a-view-versus-a-copy\n",
      "C:\\Users\\patri\\anaconda3\\lib\\site-packages\\ipykernel_launcher.py:40: SettingWithCopyWarning: \n",
      "A value is trying to be set on a copy of a slice from a DataFrame\n",
      "\n",
      "See the caveats in the documentation: https://pandas.pydata.org/pandas-docs/stable/user_guide/indexing.html#returning-a-view-versus-a-copy\n",
      "C:\\Users\\patri\\anaconda3\\lib\\site-packages\\ipykernel_launcher.py:41: SettingWithCopyWarning: \n",
      "A value is trying to be set on a copy of a slice from a DataFrame\n",
      "\n",
      "See the caveats in the documentation: https://pandas.pydata.org/pandas-docs/stable/user_guide/indexing.html#returning-a-view-versus-a-copy\n",
      "C:\\Users\\patri\\anaconda3\\lib\\site-packages\\ipykernel_launcher.py:45: SettingWithCopyWarning: \n",
      "A value is trying to be set on a copy of a slice from a DataFrame\n",
      "\n",
      "See the caveats in the documentation: https://pandas.pydata.org/pandas-docs/stable/user_guide/indexing.html#returning-a-view-versus-a-copy\n"
     ]
    }
   ],
   "source": [
    "#url for advanced mapping using OpenWeatherMap's new OneCall API to get historical weather info by coordinates instead of \n",
    "#city names - not implemented for project initially due to setup being different\n",
    "# base_url = \"https://api.openweathermap.org/data/2.5/onecall?lat={lat}&lon={lon}&exclude={part}&appid={YOUR API KEY}\"\n",
    "# params = {\"exclude\":\"minutely,hourly,current\", \"appid\":weather_api_key, \"lat\":city_list[\"Latitude\"][0], \n",
    "#           \"lon\":city_list[\"Longitude\"][0]}\n",
    "\n",
    "#setup columns for temperature, humidity, cloudiness, and wind speed\n",
    "city_list[\"Max Temperature (F)\"] = \"\"\n",
    "city_list[\"Humidity (%)\"] = \"\"\n",
    "city_list[\"Cloudiness\"] = \"\"\n",
    "city_list[\"Wind Speed (mph)\"] = \"\"\n",
    "\n",
    "#setup columns for actual latitude and longitude\n",
    "city_list[\"Actual Latitude\"] = \"\"\n",
    "city_list[\"Actual Longitude\"] = \"\"\n",
    "\n",
    "#setup column for country code\n",
    "city_list[\"Country\"] = \"\"\n",
    "\n",
    "#setup column for city datetime\n",
    "city_list[\"Datetime (Local)\"] = \"\"\n",
    "#note that current timezone is PST (-7:00 from GMT)\n",
    "PST_offset = 7*60*60\n",
    "\n",
    "\n",
    "base_url_current = \"http://api.openweathermap.org/data/2.5/weather\"\n",
    "params = {\"q\":city_list[\"City\"][0], \"units\":\"imperial\", \"appid\":weather_api_key}\n",
    "\n",
    "test_response = requests.get(base_url_current, params)\n",
    "json_response = test_response.json()\n",
    "# json.dumps(json_response, indent=4)\n",
    "\n",
    "\n",
    "#establish pattern for getting data into columns from json object\n",
    "city_list[\"Actual Latitude\"][0] = json_response[\"coord\"][\"lat\"]\n",
    "city_list[\"Actual Longitude\"][0] = json_response[\"coord\"][\"lon\"]\n",
    "city_list[\"Max Temperature (F)\"][0] = json_response[\"main\"][\"temp_max\"]\n",
    "city_list[\"Humidity (%)\"][0] = json_response[\"main\"][\"humidity\"]\n",
    "city_list[\"Cloudiness\"][0] = json_response[\"clouds\"][\"all\"]\n",
    "city_list[\"Wind Speed (mph)\"][0] = json_response[\"wind\"][\"speed\"]\n",
    "city_list[\"Country\"][0] = json_response[\"sys\"][\"country\"]\n",
    "#create datetime.datetime object to give local date and time at the city of interest (need to add an offset from our \n",
    "#computer clock set to PST and then add in the timezone shift given by the API to change from GMT)\n",
    "first_city_time = datetime.datetime.fromtimestamp(json_response[\"dt\"]+json_response[\"timezone\"]+PST_offset)\n",
    "city_list[\"Datetime (Local)\"][0] = \"{} {}\".format(first_city_time.date(), first_city_time.time())\n",
    "\n",
    "#create helper function to give the Datetime (UTC) column string\n",
    "def getTimeString(resp_json, comp_time):\n",
    "    curr_city_datetime = datetime.datetime.fromtimestamp(resp_json[\"dt\"]+resp_json[\"timezone\"]+comp_time)\n",
    "    return \"{} {}\".format(curr_city_datetime.date(), curr_city_datetime.time())\n",
    "\n",
    "#create function to add all info to dataframe using the above pattern \n",
    "def addColumns(pd_df, resp_json, i, comp_time):\n",
    "    pd_df[\"Actual Latitude\"][i] = resp_json[\"coord\"][\"lat\"]\n",
    "    pd_df[\"Actual Longitude\"][i] = resp_json[\"coord\"][\"lon\"]\n",
    "    pd_df[\"Max Temperature (F)\"][i] = resp_json[\"main\"][\"temp_max\"]\n",
    "    pd_df[\"Humidity (%)\"][i] = resp_json[\"main\"][\"humidity\"]\n",
    "    pd_df[\"Cloudiness\"][i] = resp_json[\"clouds\"][\"all\"]\n",
    "    pd_df[\"Wind Speed (mph)\"][i] = resp_json[\"wind\"][\"speed\"]\n",
    "    pd_df[\"Country\"][i] = resp_json[\"sys\"][\"country\"]\n",
    "    #create datetime.datetime object to give local date and time at the city of interest (need to add an offset from our \n",
    "    #computer clock set to PST and then add in the timezone shift given by the API to change from GMT)\n",
    "    pd_df[\"Datetime (Local)\"][i] = getTimeString(resp_json, comp_time)\n",
    "        \n"
   ]
  },
  {
   "cell_type": "code",
   "execution_count": 4,
   "metadata": {},
   "outputs": [
    {
     "name": "stderr",
     "output_type": "stream",
     "text": [
      "C:\\Users\\patri\\anaconda3\\lib\\site-packages\\ipykernel_launcher.py:54: SettingWithCopyWarning: \n",
      "A value is trying to be set on a copy of a slice from a DataFrame\n",
      "\n",
      "See the caveats in the documentation: https://pandas.pydata.org/pandas-docs/stable/user_guide/indexing.html#returning-a-view-versus-a-copy\n",
      "C:\\Users\\patri\\anaconda3\\lib\\site-packages\\ipykernel_launcher.py:55: SettingWithCopyWarning: \n",
      "A value is trying to be set on a copy of a slice from a DataFrame\n",
      "\n",
      "See the caveats in the documentation: https://pandas.pydata.org/pandas-docs/stable/user_guide/indexing.html#returning-a-view-versus-a-copy\n",
      "C:\\Users\\patri\\anaconda3\\lib\\site-packages\\ipykernel_launcher.py:56: SettingWithCopyWarning: \n",
      "A value is trying to be set on a copy of a slice from a DataFrame\n",
      "\n",
      "See the caveats in the documentation: https://pandas.pydata.org/pandas-docs/stable/user_guide/indexing.html#returning-a-view-versus-a-copy\n",
      "C:\\Users\\patri\\anaconda3\\lib\\site-packages\\ipykernel_launcher.py:57: SettingWithCopyWarning: \n",
      "A value is trying to be set on a copy of a slice from a DataFrame\n",
      "\n",
      "See the caveats in the documentation: https://pandas.pydata.org/pandas-docs/stable/user_guide/indexing.html#returning-a-view-versus-a-copy\n",
      "C:\\Users\\patri\\anaconda3\\lib\\site-packages\\ipykernel_launcher.py:58: SettingWithCopyWarning: \n",
      "A value is trying to be set on a copy of a slice from a DataFrame\n",
      "\n",
      "See the caveats in the documentation: https://pandas.pydata.org/pandas-docs/stable/user_guide/indexing.html#returning-a-view-versus-a-copy\n",
      "C:\\Users\\patri\\anaconda3\\lib\\site-packages\\ipykernel_launcher.py:59: SettingWithCopyWarning: \n",
      "A value is trying to be set on a copy of a slice from a DataFrame\n",
      "\n",
      "See the caveats in the documentation: https://pandas.pydata.org/pandas-docs/stable/user_guide/indexing.html#returning-a-view-versus-a-copy\n",
      "C:\\Users\\patri\\anaconda3\\lib\\site-packages\\ipykernel_launcher.py:60: SettingWithCopyWarning: \n",
      "A value is trying to be set on a copy of a slice from a DataFrame\n",
      "\n",
      "See the caveats in the documentation: https://pandas.pydata.org/pandas-docs/stable/user_guide/indexing.html#returning-a-view-versus-a-copy\n",
      "C:\\Users\\patri\\anaconda3\\lib\\site-packages\\ipykernel_launcher.py:63: SettingWithCopyWarning: \n",
      "A value is trying to be set on a copy of a slice from a DataFrame\n",
      "\n",
      "See the caveats in the documentation: https://pandas.pydata.org/pandas-docs/stable/user_guide/indexing.html#returning-a-view-versus-a-copy\n"
     ]
    },
    {
     "name": "stdout",
     "output_type": "stream",
     "text": [
      "Retrieved record 1 of 605 for the city of llangefni\n",
      "Retrieved record 2 of 605 for the city of sharlyk\n",
      "Retrieved record 3 of 605 for the city of cidreira\n",
      "Retrieved record 4 of 605 for the city of bredasdorp\n",
      "Retrieved record 5 of 605 for the city of coronel oviedo\n",
      "Retrieved record 6 of 605 for the city of new norfolk\n",
      "Retrieved record 7 of 605 for the city of punta arenas\n",
      "Retrieved record 8 of 605 for the city of tadine\n",
      "Retrieved record 9 of 605 for the city of ontario\n",
      "Retrieved record 10 of 605 for the city of lebu\n",
      "Retrieved record 11 of 605 for the city of wanning\n",
      "Retrieved record 12 of 605 for the city of indianola\n"
     ]
    },
    {
     "name": "stderr",
     "output_type": "stream",
     "text": [
      "C:\\Users\\patri\\anaconda3\\lib\\site-packages\\ipykernel_launcher.py:14: SettingWithCopyWarning: \n",
      "A value is trying to be set on a copy of a slice from a DataFrame\n",
      "\n",
      "See the caveats in the documentation: https://pandas.pydata.org/pandas-docs/stable/user_guide/indexing.html#returning-a-view-versus-a-copy\n",
      "  \n"
     ]
    },
    {
     "name": "stdout",
     "output_type": "stream",
     "text": [
      "Could not retrieve record 13 of 605 for the city of illoqqortoormiut\n",
      "Retrieved record 14 of 605 for the city of isla mujeres\n",
      "Retrieved record 15 of 605 for the city of hobart\n",
      "Retrieved record 16 of 605 for the city of carnarvon\n",
      "Retrieved record 17 of 605 for the city of mercedes\n",
      "Retrieved record 18 of 605 for the city of hasaki\n",
      "Retrieved record 19 of 605 for the city of alugan\n",
      "Retrieved record 20 of 605 for the city of mahdasht\n",
      "Retrieved record 21 of 605 for the city of kodiak\n",
      "Retrieved record 22 of 605 for the city of hilo\n",
      "Retrieved record 23 of 605 for the city of solnechnyy\n",
      "Retrieved record 24 of 605 for the city of saint-pierre\n",
      "Retrieved record 25 of 605 for the city of ponta do sol\n",
      "Retrieved record 26 of 605 for the city of port elizabeth\n",
      "Retrieved record 27 of 605 for the city of atuona\n",
      "Retrieved record 28 of 605 for the city of rikitea\n",
      "Retrieved record 29 of 605 for the city of saint-philippe\n",
      "Retrieved record 30 of 605 for the city of ushuaia\n",
      "Retrieved record 31 of 605 for the city of tommot\n",
      "Could not retrieve record 32 of 605 for the city of taolanaro\n",
      "Retrieved record 33 of 605 for the city of albany\n",
      "Retrieved record 34 of 605 for the city of cabo san lucas\n",
      "Retrieved record 35 of 605 for the city of thompson\n",
      "Retrieved record 36 of 605 for the city of marrakesh\n",
      "Retrieved record 37 of 605 for the city of fontenay-le-comte\n",
      "Retrieved record 38 of 605 for the city of ancud\n",
      "Retrieved record 39 of 605 for the city of santa rosa\n",
      "Retrieved record 40 of 605 for the city of mehamn\n",
      "Retrieved record 41 of 605 for the city of boffa\n",
      "Retrieved record 42 of 605 for the city of nikolskoye\n",
      "Retrieved record 43 of 605 for the city of pevek\n",
      "Retrieved record 44 of 605 for the city of banepa\n",
      "Retrieved record 45 of 605 for the city of qaanaaq\n",
      "Retrieved record 46 of 605 for the city of sept-iles\n",
      "Retrieved record 47 of 605 for the city of mao\n",
      "Retrieved record 48 of 605 for the city of klaksvik\n",
      "Retrieved record 49 of 605 for the city of busselton\n",
      "Retrieved record 50 of 605 for the city of kerema\n",
      "Retrieved record 51 of 605 for the city of mataura\n",
      "Retrieved record 52 of 605 for the city of maiduguri\n",
      "Retrieved record 53 of 605 for the city of ilulissat\n",
      "Retrieved record 54 of 605 for the city of arman\n",
      "Retrieved record 55 of 605 for the city of kuching\n",
      "Retrieved record 56 of 605 for the city of ponta delgada\n",
      "Retrieved record 57 of 605 for the city of arraial do cabo\n",
      "Retrieved record 58 of 605 for the city of provideniya\n",
      "Retrieved record 59 of 605 for the city of moose factory\n",
      "Retrieved record 60 of 605 for the city of boksitogorsk\n",
      "Retrieved record 61 of 605 for the city of tessalit\n",
      "Retrieved record 62 of 605 for the city of mareeba\n",
      "Retrieved record 63 of 605 for the city of jamestown\n",
      "Retrieved record 64 of 605 for the city of chapais\n",
      "Retrieved record 65 of 605 for the city of najran\n",
      "Retrieved record 66 of 605 for the city of barrow\n",
      "Retrieved record 67 of 605 for the city of kaitangata\n",
      "Retrieved record 68 of 605 for the city of rio gallegos\n",
      "Retrieved record 69 of 605 for the city of cape town\n",
      "Retrieved record 70 of 605 for the city of mezen\n",
      "Retrieved record 71 of 605 for the city of narrabri\n",
      "Retrieved record 72 of 605 for the city of tuktoyaktuk\n",
      "Retrieved record 73 of 605 for the city of bambous virieux\n",
      "Could not retrieve record 74 of 605 for the city of wampusirpi\n",
      "Retrieved record 75 of 605 for the city of yellowknife\n",
      "Retrieved record 76 of 605 for the city of airai\n",
      "Retrieved record 77 of 605 for the city of margate\n",
      "Retrieved record 78 of 605 for the city of kudahuvadhoo\n",
      "Could not retrieve record 79 of 605 for the city of umm durman\n",
      "Retrieved record 80 of 605 for the city of qaqortoq\n",
      "Retrieved record 81 of 605 for the city of vardo\n",
      "Could not retrieve record 82 of 605 for the city of phrai bung\n",
      "Retrieved record 83 of 605 for the city of vaini\n",
      "Retrieved record 84 of 605 for the city of victoria\n",
      "Retrieved record 85 of 605 for the city of sabang\n",
      "Retrieved record 86 of 605 for the city of naze\n",
      "Could not retrieve record 87 of 605 for the city of viligili\n",
      "Retrieved record 88 of 605 for the city of aras\n",
      "Retrieved record 89 of 605 for the city of codrington\n",
      "Retrieved record 90 of 605 for the city of kislang\n",
      "Retrieved record 91 of 605 for the city of fort nelson\n",
      "Could not retrieve record 92 of 605 for the city of belushya guba\n",
      "Retrieved record 93 of 605 for the city of shasta lake\n",
      "Retrieved record 94 of 605 for the city of omboue\n",
      "Retrieved record 95 of 605 for the city of bluff\n",
      "Retrieved record 96 of 605 for the city of ferrol\n",
      "Retrieved record 97 of 605 for the city of ahipara\n",
      "Retrieved record 98 of 605 for the city of georgetown\n",
      "Retrieved record 99 of 605 for the city of hit\n",
      "Retrieved record 100 of 605 for the city of olga\n",
      "Retrieved record 101 of 605 for the city of butaritari\n",
      "Retrieved record 102 of 605 for the city of hermanus\n",
      "Could not retrieve record 103 of 605 for the city of ituni\n",
      "Retrieved record 104 of 605 for the city of quiindy\n",
      "Retrieved record 105 of 605 for the city of grand bend\n",
      "Retrieved record 106 of 605 for the city of makakilo city\n",
      "Retrieved record 107 of 605 for the city of ajdabiya\n",
      "Retrieved record 108 of 605 for the city of avarua\n",
      "Retrieved record 109 of 605 for the city of east london\n",
      "Retrieved record 110 of 605 for the city of saint-joseph\n",
      "Could not retrieve record 111 of 605 for the city of vaitupu\n",
      "Retrieved record 112 of 605 for the city of malaya purga\n",
      "Retrieved record 113 of 605 for the city of norman wells\n",
      "Retrieved record 114 of 605 for the city of umm lajj\n",
      "Could not retrieve record 115 of 605 for the city of sorvag\n",
      "Retrieved record 116 of 605 for the city of zhigansk\n",
      "Retrieved record 117 of 605 for the city of mersin\n",
      "Retrieved record 118 of 605 for the city of mahebourg\n",
      "Retrieved record 119 of 605 for the city of port alfred\n",
      "Retrieved record 120 of 605 for the city of pacifica\n",
      "Retrieved record 121 of 605 for the city of colonia\n",
      "Could not retrieve record 122 of 605 for the city of tsihombe\n",
      "Retrieved record 123 of 605 for the city of saint george\n",
      "Retrieved record 124 of 605 for the city of mar del plata\n",
      "Retrieved record 125 of 605 for the city of dakoro\n",
      "Retrieved record 126 of 605 for the city of cayenne\n",
      "Retrieved record 127 of 605 for the city of vila velha\n",
      "Retrieved record 128 of 605 for the city of banda aceh\n",
      "Retrieved record 129 of 605 for the city of pacific grove\n",
      "Retrieved record 130 of 605 for the city of mogadishu\n",
      "Retrieved record 131 of 605 for the city of mahibadhoo\n",
      "Retrieved record 132 of 605 for the city of port hedland\n",
      "Retrieved record 133 of 605 for the city of sobolevo\n",
      "Could not retrieve record 134 of 605 for the city of nizhneyansk\n",
      "Retrieved record 135 of 605 for the city of torbay\n",
      "Could not retrieve record 136 of 605 for the city of sentyabrskiy\n",
      "Retrieved record 137 of 605 for the city of axim\n",
      "Retrieved record 138 of 605 for the city of progreso\n",
      "Retrieved record 139 of 605 for the city of dikson\n",
      "Retrieved record 140 of 605 for the city of yulara\n",
      "Retrieved record 141 of 605 for the city of fortuna\n",
      "Retrieved record 142 of 605 for the city of faanui\n",
      "Retrieved record 143 of 605 for the city of deniliquin\n",
      "Retrieved record 144 of 605 for the city of mount pleasant\n",
      "Retrieved record 145 of 605 for the city of palmer\n",
      "Retrieved record 146 of 605 for the city of dongsheng\n",
      "Retrieved record 147 of 605 for the city of uyuni\n",
      "Retrieved record 148 of 605 for the city of santa helena\n",
      "Retrieved record 149 of 605 for the city of kindu\n",
      "Retrieved record 150 of 605 for the city of kloulklubed\n",
      "Retrieved record 151 of 605 for the city of maceio\n",
      "Retrieved record 152 of 605 for the city of clinton\n",
      "Could not retrieve record 153 of 605 for the city of karaul\n",
      "Retrieved record 154 of 605 for the city of isangel\n",
      "Retrieved record 155 of 605 for the city of hithadhoo\n",
      "Retrieved record 156 of 605 for the city of tahe\n",
      "Retrieved record 157 of 605 for the city of tres arroyos\n",
      "Retrieved record 158 of 605 for the city of pangnirtung\n",
      "Retrieved record 159 of 605 for the city of vagur\n",
      "Retrieved record 160 of 605 for the city of khatanga\n",
      "Retrieved record 161 of 605 for the city of kapaa\n",
      "Retrieved record 162 of 605 for the city of iqaluit\n",
      "Retrieved record 163 of 605 for the city of bethel\n",
      "Could not retrieve record 164 of 605 for the city of buariki\n",
      "Retrieved record 165 of 605 for the city of kutum\n"
     ]
    },
    {
     "name": "stdout",
     "output_type": "stream",
     "text": [
      "Retrieved record 166 of 605 for the city of upernavik\n",
      "Retrieved record 167 of 605 for the city of los llanos de aridane\n",
      "Retrieved record 168 of 605 for the city of poum\n",
      "Retrieved record 169 of 605 for the city of mulanje\n",
      "Retrieved record 170 of 605 for the city of mount gambier\n",
      "Could not retrieve record 171 of 605 for the city of blonduos\n",
      "Retrieved record 172 of 605 for the city of maldonado\n",
      "Retrieved record 173 of 605 for the city of sistranda\n",
      "Retrieved record 174 of 605 for the city of oranjestad\n",
      "Retrieved record 175 of 605 for the city of mogzon\n",
      "Retrieved record 176 of 605 for the city of biak\n",
      "Retrieved record 177 of 605 for the city of mongoumba\n",
      "Retrieved record 178 of 605 for the city of taywarah\n",
      "Retrieved record 179 of 605 for the city of chokurdakh\n",
      "Retrieved record 180 of 605 for the city of tulsipur\n",
      "Retrieved record 181 of 605 for the city of andalucia\n",
      "Retrieved record 182 of 605 for the city of asau\n",
      "Retrieved record 183 of 605 for the city of mount isa\n",
      "Retrieved record 184 of 605 for the city of urengoy\n",
      "Retrieved record 185 of 605 for the city of road town\n",
      "Retrieved record 186 of 605 for the city of sadalgi\n",
      "Retrieved record 187 of 605 for the city of ternate\n",
      "Retrieved record 188 of 605 for the city of los altos hills\n",
      "Could not retrieve record 189 of 605 for the city of grand river south east\n",
      "Could not retrieve record 190 of 605 for the city of galgani\n",
      "Retrieved record 191 of 605 for the city of verkhoyansk\n",
      "Retrieved record 192 of 605 for the city of plast\n",
      "Retrieved record 193 of 605 for the city of clyde river\n",
      "Retrieved record 194 of 605 for the city of inhambane\n",
      "Retrieved record 195 of 605 for the city of severo-kurilsk\n",
      "Retrieved record 196 of 605 for the city of aklavik\n",
      "Retrieved record 197 of 605 for the city of saldanha\n",
      "Retrieved record 198 of 605 for the city of usinsk\n",
      "Retrieved record 199 of 605 for the city of singaparna\n",
      "Retrieved record 200 of 605 for the city of takoradi\n",
      "Retrieved record 201 of 605 for the city of flinders\n",
      "Retrieved record 202 of 605 for the city of zeya\n",
      "Retrieved record 203 of 605 for the city of deer lake\n",
      "Retrieved record 204 of 605 for the city of kahului\n",
      "Could not retrieve record 205 of 605 for the city of samusu\n",
      "Retrieved record 206 of 605 for the city of la montanita\n",
      "Retrieved record 207 of 605 for the city of lasa\n",
      "Could not retrieve record 208 of 605 for the city of barentsburg\n",
      "Could not retrieve record 209 of 605 for the city of marcona\n",
      "Retrieved record 210 of 605 for the city of bowen\n",
      "Retrieved record 211 of 605 for the city of kosh-agach\n",
      "Retrieved record 212 of 605 for the city of swidnik\n",
      "Retrieved record 213 of 605 for the city of prieska\n",
      "Could not retrieve record 214 of 605 for the city of attawapiskat\n",
      "Retrieved record 215 of 605 for the city of coquimbo\n",
      "Retrieved record 216 of 605 for the city of lagoa\n",
      "Retrieved record 217 of 605 for the city of anadyr\n",
      "Retrieved record 218 of 605 for the city of tura\n",
      "Retrieved record 219 of 605 for the city of nishihara\n",
      "Retrieved record 220 of 605 for the city of nichinan\n",
      "Retrieved record 221 of 605 for the city of taber\n",
      "Retrieved record 222 of 605 for the city of montrose\n",
      "Retrieved record 223 of 605 for the city of sakakah\n",
      "Could not retrieve record 224 of 605 for the city of richard toll\n",
      "Retrieved record 225 of 605 for the city of longyearbyen\n",
      "Retrieved record 226 of 605 for the city of itarema\n",
      "Retrieved record 227 of 605 for the city of tucurui\n",
      "Retrieved record 228 of 605 for the city of puerto ayora\n",
      "Retrieved record 229 of 605 for the city of chuy\n",
      "Retrieved record 230 of 605 for the city of itaueira\n",
      "Could not retrieve record 231 of 605 for the city of mocambique\n",
      "Could not retrieve record 232 of 605 for the city of samalaeulu\n",
      "Retrieved record 233 of 605 for the city of hofn\n",
      "Could not retrieve record 234 of 605 for the city of bolungarvik\n",
      "Retrieved record 235 of 605 for the city of dubrovnik\n",
      "Retrieved record 236 of 605 for the city of berlevag\n",
      "Retrieved record 237 of 605 for the city of watsa\n",
      "Could not retrieve record 238 of 605 for the city of aflu\n",
      "Retrieved record 239 of 605 for the city of ravar\n",
      "Retrieved record 240 of 605 for the city of qingdao\n",
      "Retrieved record 241 of 605 for the city of alta floresta\n",
      "Retrieved record 242 of 605 for the city of ribeira grande\n",
      "Retrieved record 243 of 605 for the city of besuki\n",
      "Retrieved record 244 of 605 for the city of rawson\n",
      "Retrieved record 245 of 605 for the city of urumqi\n",
      "Could not retrieve record 246 of 605 for the city of umzimvubu\n",
      "Retrieved record 247 of 605 for the city of atherton\n",
      "Retrieved record 248 of 605 for the city of taoudenni\n",
      "Retrieved record 249 of 605 for the city of la ligua\n",
      "Retrieved record 250 of 605 for the city of vestmanna\n",
      "Retrieved record 251 of 605 for the city of san cristobal\n",
      "Retrieved record 252 of 605 for the city of chegdomyn\n",
      "Retrieved record 253 of 605 for the city of carballo\n",
      "Retrieved record 254 of 605 for the city of zambezi\n",
      "Retrieved record 255 of 605 for the city of sao joao da barra\n",
      "Retrieved record 256 of 605 for the city of masindi\n",
      "Retrieved record 257 of 605 for the city of crowley\n",
      "Retrieved record 258 of 605 for the city of bouna\n",
      "Retrieved record 259 of 605 for the city of tuatapere\n",
      "Retrieved record 260 of 605 for the city of bardiyah\n",
      "Retrieved record 261 of 605 for the city of castro\n",
      "Retrieved record 262 of 605 for the city of oriximina\n",
      "Retrieved record 263 of 605 for the city of bubaque\n",
      "Retrieved record 264 of 605 for the city of laguna\n",
      "Retrieved record 265 of 605 for the city of lorengau\n",
      "Retrieved record 266 of 605 for the city of trapani\n",
      "Retrieved record 267 of 605 for the city of aykhal\n",
      "Retrieved record 268 of 605 for the city of te anau\n",
      "Retrieved record 269 of 605 for the city of nabire\n",
      "Could not retrieve record 270 of 605 for the city of bolshiye uki\n",
      "Could not retrieve record 271 of 605 for the city of amderma\n",
      "Retrieved record 272 of 605 for the city of port macquarie\n",
      "Retrieved record 273 of 605 for the city of montego bay\n",
      "Retrieved record 274 of 605 for the city of ust-nera\n",
      "Retrieved record 275 of 605 for the city of alexandria\n",
      "Retrieved record 276 of 605 for the city of roald\n",
      "Retrieved record 277 of 605 for the city of tual\n",
      "Retrieved record 278 of 605 for the city of carauari\n",
      "Retrieved record 279 of 605 for the city of padang\n",
      "Retrieved record 280 of 605 for the city of coihueco\n",
      "Retrieved record 281 of 605 for the city of cherskiy\n",
      "Retrieved record 282 of 605 for the city of leningradskiy\n",
      "Retrieved record 283 of 605 for the city of dhadar\n",
      "Retrieved record 284 of 605 for the city of puerto cabezas\n",
      "Retrieved record 285 of 605 for the city of otavi\n",
      "Retrieved record 286 of 605 for the city of vilcun\n",
      "Could not retrieve record 287 of 605 for the city of berikulskiy\n",
      "Retrieved record 288 of 605 for the city of xingcheng\n",
      "Retrieved record 289 of 605 for the city of ishigaki\n",
      "Retrieved record 290 of 605 for the city of malandag\n",
      "Retrieved record 291 of 605 for the city of amberley\n",
      "Retrieved record 292 of 605 for the city of vauvert\n",
      "Retrieved record 293 of 605 for the city of constitucion\n",
      "Retrieved record 294 of 605 for the city of cockburn town\n",
      "Retrieved record 295 of 605 for the city of olafsvik\n",
      "Retrieved record 296 of 605 for the city of merauke\n",
      "Retrieved record 297 of 605 for the city of pisco\n",
      "Could not retrieve record 298 of 605 for the city of tumannyy\n",
      "Retrieved record 299 of 605 for the city of rapid valley\n",
      "Retrieved record 300 of 605 for the city of bara\n",
      "Retrieved record 301 of 605 for the city of san jose\n",
      "Retrieved record 302 of 605 for the city of esso\n",
      "Retrieved record 303 of 605 for the city of esperance\n",
      "Retrieved record 304 of 605 for the city of kumphawapi\n",
      "Retrieved record 305 of 605 for the city of tasiilaq\n",
      "Retrieved record 306 of 605 for the city of kruisfontein\n",
      "Retrieved record 307 of 605 for the city of acapulco\n",
      "Retrieved record 308 of 605 for the city of kungurtug\n",
      "Retrieved record 309 of 605 for the city of jiana\n",
      "Retrieved record 310 of 605 for the city of petropavlovsk-kamchatskiy\n",
      "Retrieved record 311 of 605 for the city of faya\n",
      "Retrieved record 312 of 605 for the city of bad lippspringe\n",
      "Retrieved record 313 of 605 for the city of pizarro\n",
      "Retrieved record 314 of 605 for the city of huilong\n",
      "Retrieved record 315 of 605 for the city of kavaratti\n",
      "Retrieved record 316 of 605 for the city of ostrovnoy\n"
     ]
    },
    {
     "name": "stdout",
     "output_type": "stream",
     "text": [
      "Retrieved record 317 of 605 for the city of platanos\n",
      "Could not retrieve record 318 of 605 for the city of mys shmidta\n",
      "Retrieved record 319 of 605 for the city of camacha\n",
      "Could not retrieve record 320 of 605 for the city of mrirt\n",
      "Retrieved record 321 of 605 for the city of evensk\n",
      "Retrieved record 322 of 605 for the city of pinega\n",
      "Retrieved record 323 of 605 for the city of port-gentil\n",
      "Retrieved record 324 of 605 for the city of sterling\n",
      "Retrieved record 325 of 605 for the city of varberg\n",
      "Retrieved record 326 of 605 for the city of banjarmasin\n",
      "Retrieved record 327 of 605 for the city of dicabisagan\n",
      "Retrieved record 328 of 605 for the city of huangpi\n",
      "Retrieved record 329 of 605 for the city of tiksi\n",
      "Could not retrieve record 330 of 605 for the city of bababe\n",
      "Retrieved record 331 of 605 for the city of floro\n",
      "Retrieved record 332 of 605 for the city of alice springs\n",
      "Retrieved record 333 of 605 for the city of dodge city\n",
      "Retrieved record 334 of 605 for the city of dunda\n",
      "Could not retrieve record 335 of 605 for the city of dien bien\n",
      "Retrieved record 336 of 605 for the city of egvekinot\n",
      "Retrieved record 337 of 605 for the city of dobruska\n",
      "Retrieved record 338 of 605 for the city of narsaq\n",
      "Could not retrieve record 339 of 605 for the city of sayanskiy\n",
      "Retrieved record 340 of 605 for the city of honningsvag\n",
      "Retrieved record 341 of 605 for the city of panzhihua\n",
      "Retrieved record 342 of 605 for the city of sitka\n",
      "Retrieved record 343 of 605 for the city of tabas\n",
      "Retrieved record 344 of 605 for the city of santa isabel\n",
      "Retrieved record 345 of 605 for the city of san quintin\n",
      "Retrieved record 346 of 605 for the city of visby\n",
      "Could not retrieve record 347 of 605 for the city of utiroa\n",
      "Retrieved record 348 of 605 for the city of belmonte\n",
      "Retrieved record 349 of 605 for the city of clarence town\n",
      "Could not retrieve record 350 of 605 for the city of lolua\n",
      "Retrieved record 351 of 605 for the city of hirara\n",
      "Retrieved record 352 of 605 for the city of palauig\n",
      "Retrieved record 353 of 605 for the city of katobu\n",
      "Retrieved record 354 of 605 for the city of rabo de peixe\n",
      "Could not retrieve record 355 of 605 for the city of kamenskoye\n",
      "Retrieved record 356 of 605 for the city of half moon bay\n",
      "Retrieved record 357 of 605 for the city of elizabeth city\n",
      "Retrieved record 358 of 605 for the city of aden\n",
      "Retrieved record 359 of 605 for the city of saint anthony\n",
      "Could not retrieve record 360 of 605 for the city of fort saint john\n",
      "Retrieved record 361 of 605 for the city of sawakin\n",
      "Retrieved record 362 of 605 for the city of venado\n",
      "Retrieved record 363 of 605 for the city of adrar\n",
      "Retrieved record 364 of 605 for the city of guerrero negro\n",
      "Retrieved record 365 of 605 for the city of carmen\n",
      "Retrieved record 366 of 605 for the city of general roca\n",
      "Retrieved record 367 of 605 for the city of victoria point\n",
      "Retrieved record 368 of 605 for the city of kosa\n",
      "Retrieved record 369 of 605 for the city of santo antonio do ica\n",
      "Retrieved record 370 of 605 for the city of baykit\n",
      "Could not retrieve record 371 of 605 for the city of buqayq\n",
      "Retrieved record 372 of 605 for the city of campbell river\n",
      "Retrieved record 373 of 605 for the city of jalingo\n",
      "Retrieved record 374 of 605 for the city of auki\n",
      "Retrieved record 375 of 605 for the city of santa ana\n",
      "Retrieved record 376 of 605 for the city of luderitz\n",
      "Retrieved record 377 of 605 for the city of villarrica\n",
      "Retrieved record 378 of 605 for the city of khangarh\n",
      "Retrieved record 379 of 605 for the city of kamaishi\n",
      "Retrieved record 380 of 605 for the city of luanda\n",
      "Retrieved record 381 of 605 for the city of altay\n",
      "Retrieved record 382 of 605 for the city of kyakhta\n",
      "Retrieved record 383 of 605 for the city of tongzi\n",
      "Retrieved record 384 of 605 for the city of karratha\n",
      "Retrieved record 385 of 605 for the city of nanortalik\n",
      "Retrieved record 386 of 605 for the city of shimoda\n",
      "Retrieved record 387 of 605 for the city of vila franca do campo\n",
      "Retrieved record 388 of 605 for the city of filingue\n",
      "Retrieved record 389 of 605 for the city of barcelona\n",
      "Retrieved record 390 of 605 for the city of anchorage\n",
      "Could not retrieve record 391 of 605 for the city of wa\n",
      "Retrieved record 392 of 605 for the city of saskylakh\n",
      "Retrieved record 393 of 605 for the city of fairview\n",
      "Retrieved record 394 of 605 for the city of tautira\n",
      "Retrieved record 395 of 605 for the city of tamasi\n",
      "Retrieved record 396 of 605 for the city of nouadhibou\n",
      "Retrieved record 397 of 605 for the city of tamiahua\n",
      "Retrieved record 398 of 605 for the city of banikoara\n",
      "Retrieved record 399 of 605 for the city of luau\n",
      "Retrieved record 400 of 605 for the city of doha\n",
      "Retrieved record 401 of 605 for the city of nome\n",
      "Retrieved record 402 of 605 for the city of tomakomai\n",
      "Retrieved record 403 of 605 for the city of viedma\n",
      "Retrieved record 404 of 605 for the city of voi\n",
      "Retrieved record 405 of 605 for the city of yashan\n",
      "Retrieved record 406 of 605 for the city of rawlins\n",
      "Retrieved record 407 of 605 for the city of storsteinnes\n",
      "Retrieved record 408 of 605 for the city of menongue\n",
      "Retrieved record 409 of 605 for the city of catuday\n",
      "Retrieved record 410 of 605 for the city of ixtapa\n",
      "Retrieved record 411 of 605 for the city of sines\n",
      "Retrieved record 412 of 605 for the city of abeche\n",
      "Retrieved record 413 of 605 for the city of anloga\n",
      "Retrieved record 414 of 605 for the city of hobyo\n",
      "Retrieved record 415 of 605 for the city of corbeanca\n",
      "Could not retrieve record 416 of 605 for the city of masjed-e soleyman\n",
      "Retrieved record 417 of 605 for the city of cabugao\n",
      "Retrieved record 418 of 605 for the city of williston\n",
      "Retrieved record 419 of 605 for the city of vanavara\n",
      "Retrieved record 420 of 605 for the city of tabuk\n",
      "Retrieved record 421 of 605 for the city of valley city\n",
      "Retrieved record 422 of 605 for the city of mahenge\n",
      "Retrieved record 423 of 605 for the city of manitouwadge\n",
      "Retrieved record 424 of 605 for the city of harur\n",
      "Retrieved record 425 of 605 for the city of ossora\n",
      "Retrieved record 426 of 605 for the city of namatanai\n",
      "Retrieved record 427 of 605 for the city of pozzallo\n",
      "Retrieved record 428 of 605 for the city of mambajao\n",
      "Retrieved record 429 of 605 for the city of campos altos\n",
      "Retrieved record 430 of 605 for the city of katsuura\n",
      "Could not retrieve record 431 of 605 for the city of milingimbi\n",
      "Retrieved record 432 of 605 for the city of moron\n",
      "Retrieved record 433 of 605 for the city of puerto colombia\n",
      "Retrieved record 434 of 605 for the city of huicheng\n",
      "Retrieved record 435 of 605 for the city of havre-saint-pierre\n",
      "Retrieved record 436 of 605 for the city of korla\n",
      "Retrieved record 437 of 605 for the city of northam\n",
      "Could not retrieve record 438 of 605 for the city of khonuu\n",
      "Retrieved record 439 of 605 for the city of anshun\n",
      "Retrieved record 440 of 605 for the city of jijiga\n",
      "Retrieved record 441 of 605 for the city of salalah\n",
      "Retrieved record 442 of 605 for the city of bangangte\n",
      "Retrieved record 443 of 605 for the city of loandjili\n",
      "Retrieved record 444 of 605 for the city of krasnoselkup\n",
      "Retrieved record 445 of 605 for the city of pontianak\n",
      "Retrieved record 446 of 605 for the city of tambovka\n",
      "Retrieved record 447 of 605 for the city of marihatag\n",
      "Could not retrieve record 448 of 605 for the city of louisbourg\n",
      "Retrieved record 449 of 605 for the city of lavrentiya\n",
      "Retrieved record 450 of 605 for the city of cananeia\n",
      "Retrieved record 451 of 605 for the city of pringsewu\n",
      "Retrieved record 452 of 605 for the city of katherine\n",
      "Retrieved record 453 of 605 for the city of arlit\n",
      "Retrieved record 454 of 605 for the city of yining\n",
      "Retrieved record 455 of 605 for the city of san patricio\n",
      "Retrieved record 456 of 605 for the city of spirit river\n",
      "Retrieved record 457 of 605 for the city of hamilton\n",
      "Retrieved record 458 of 605 for the city of westport\n",
      "Retrieved record 459 of 605 for the city of pimenta bueno\n",
      "Retrieved record 460 of 605 for the city of benguela\n",
      "Retrieved record 461 of 605 for the city of wum\n",
      "Retrieved record 462 of 605 for the city of hami\n",
      "Retrieved record 463 of 605 for the city of alofi\n",
      "Could not retrieve record 464 of 605 for the city of balimo\n",
      "Retrieved record 465 of 605 for the city of sibolga\n",
      "Retrieved record 466 of 605 for the city of olinda\n",
      "Could not retrieve record 467 of 605 for the city of wulanhaote\n",
      "Retrieved record 468 of 605 for the city of inuvik\n"
     ]
    },
    {
     "name": "stdout",
     "output_type": "stream",
     "text": [
      "Retrieved record 469 of 605 for the city of portland\n",
      "Retrieved record 470 of 605 for the city of beloha\n",
      "Could not retrieve record 471 of 605 for the city of saleaula\n",
      "Retrieved record 472 of 605 for the city of ukiah\n",
      "Retrieved record 473 of 605 for the city of caravelas\n",
      "Retrieved record 474 of 605 for the city of miraflores\n",
      "Retrieved record 475 of 605 for the city of chenzhou\n",
      "Retrieved record 476 of 605 for the city of southbridge\n",
      "Retrieved record 477 of 605 for the city of mamallapuram\n",
      "Retrieved record 478 of 605 for the city of arica\n",
      "Retrieved record 479 of 605 for the city of csokmo\n",
      "Retrieved record 480 of 605 for the city of haines junction\n",
      "Retrieved record 481 of 605 for the city of port hardy\n",
      "Retrieved record 482 of 605 for the city of cabedelo\n",
      "Retrieved record 483 of 605 for the city of dingle\n",
      "Retrieved record 484 of 605 for the city of port lincoln\n",
      "Retrieved record 485 of 605 for the city of goderich\n",
      "Could not retrieve record 486 of 605 for the city of eldikan\n",
      "Retrieved record 487 of 605 for the city of glens falls\n",
      "Retrieved record 488 of 605 for the city of ottawa\n",
      "Retrieved record 489 of 605 for the city of dunedin\n",
      "Retrieved record 490 of 605 for the city of impfondo\n",
      "Retrieved record 491 of 605 for the city of lagunas\n",
      "Retrieved record 492 of 605 for the city of babushkin\n",
      "Retrieved record 493 of 605 for the city of bonavista\n",
      "Retrieved record 494 of 605 for the city of khash\n",
      "Retrieved record 495 of 605 for the city of guarapari\n",
      "Retrieved record 496 of 605 for the city of riyadh\n",
      "Retrieved record 497 of 605 for the city of kismayo\n",
      "Retrieved record 498 of 605 for the city of irbil\n",
      "Retrieved record 499 of 605 for the city of burns lake\n",
      "Could not retrieve record 500 of 605 for the city of kuche\n",
      "Retrieved record 501 of 605 for the city of palmas bellas\n",
      "Retrieved record 502 of 605 for the city of iskateley\n",
      "Could not retrieve record 503 of 605 for the city of tarudant\n",
      "Retrieved record 504 of 605 for the city of dawson creek\n",
      "Retrieved record 505 of 605 for the city of havelock\n",
      "Retrieved record 506 of 605 for the city of north vernon\n",
      "Retrieved record 507 of 605 for the city of vogar\n",
      "Retrieved record 508 of 605 for the city of vazante\n",
      "Retrieved record 509 of 605 for the city of matagami\n",
      "Retrieved record 510 of 605 for the city of maryville\n",
      "Retrieved record 511 of 605 for the city of prince rupert\n",
      "Retrieved record 512 of 605 for the city of daru\n",
      "Retrieved record 513 of 605 for the city of morros\n",
      "Retrieved record 514 of 605 for the city of lompoc\n",
      "Retrieved record 515 of 605 for the city of schijndel\n",
      "Retrieved record 516 of 605 for the city of yumen\n",
      "Retrieved record 517 of 605 for the city of komsomolskiy\n",
      "Retrieved record 518 of 605 for the city of sao filipe\n",
      "Retrieved record 519 of 605 for the city of la serena\n",
      "Retrieved record 520 of 605 for the city of guanica\n",
      "Retrieved record 521 of 605 for the city of balugaon\n",
      "Retrieved record 522 of 605 for the city of pedro carbo\n",
      "Retrieved record 523 of 605 for the city of atchison\n",
      "Retrieved record 524 of 605 for the city of north bend\n",
      "Retrieved record 525 of 605 for the city of deputatskiy\n",
      "Retrieved record 526 of 605 for the city of greytown\n",
      "Retrieved record 527 of 605 for the city of ranfurly\n",
      "Retrieved record 528 of 605 for the city of kuala terengganu\n",
      "Retrieved record 529 of 605 for the city of broken hill\n",
      "Retrieved record 530 of 605 for the city of feijo\n",
      "Retrieved record 531 of 605 for the city of sarh\n",
      "Could not retrieve record 532 of 605 for the city of palabuhanratu\n",
      "Retrieved record 533 of 605 for the city of plouzane\n",
      "Retrieved record 534 of 605 for the city of ghanzi\n",
      "Could not retrieve record 535 of 605 for the city of zhitikara\n",
      "Retrieved record 536 of 605 for the city of loudi\n",
      "Retrieved record 537 of 605 for the city of tieling\n",
      "Retrieved record 538 of 605 for the city of la llanada\n",
      "Retrieved record 539 of 605 for the city of khorixas\n",
      "Retrieved record 540 of 605 for the city of qui nhon\n",
      "Retrieved record 541 of 605 for the city of majene\n",
      "Retrieved record 542 of 605 for the city of inta\n",
      "Retrieved record 543 of 605 for the city of grong\n",
      "Retrieved record 544 of 605 for the city of santa maria\n",
      "Retrieved record 545 of 605 for the city of djenne\n",
      "Retrieved record 546 of 605 for the city of sola\n",
      "Retrieved record 547 of 605 for the city of antalaha\n",
      "Retrieved record 548 of 605 for the city of maxixe\n",
      "Retrieved record 549 of 605 for the city of elat\n",
      "Retrieved record 550 of 605 for the city of marzuq\n",
      "Retrieved record 551 of 605 for the city of kintampo\n",
      "Retrieved record 552 of 605 for the city of honiara\n",
      "Could not retrieve record 553 of 605 for the city of halalo\n",
      "Retrieved record 554 of 605 for the city of camana\n",
      "Retrieved record 555 of 605 for the city of cururupu\n",
      "Retrieved record 556 of 605 for the city of holsted\n",
      "Retrieved record 557 of 605 for the city of umm kaddadah\n",
      "Retrieved record 558 of 605 for the city of pincher creek\n",
      "Retrieved record 559 of 605 for the city of chachapoyas\n",
      "Retrieved record 560 of 605 for the city of san carlos de bariloche\n",
      "Retrieved record 561 of 605 for the city of roseburg\n",
      "Retrieved record 562 of 605 for the city of along\n",
      "Retrieved record 563 of 605 for the city of avera\n",
      "Retrieved record 564 of 605 for the city of capoterra\n",
      "Retrieved record 565 of 605 for the city of odweyne\n",
      "Could not retrieve record 566 of 605 for the city of maghama\n",
      "Retrieved record 567 of 605 for the city of borogontsy\n",
      "Retrieved record 568 of 605 for the city of seoul\n",
      "Retrieved record 569 of 605 for the city of dondo\n",
      "Retrieved record 570 of 605 for the city of parabel\n",
      "Retrieved record 571 of 605 for the city of luwuk\n",
      "Retrieved record 572 of 605 for the city of abu samrah\n",
      "Retrieved record 573 of 605 for the city of coos bay\n",
      "Retrieved record 574 of 605 for the city of saint-augustin\n",
      "Retrieved record 575 of 605 for the city of tilichiki\n",
      "Retrieved record 576 of 605 for the city of urucara\n",
      "Retrieved record 577 of 605 for the city of lufilufi\n",
      "Retrieved record 578 of 605 for the city of hopelchen\n",
      "Could not retrieve record 579 of 605 for the city of warqla\n",
      "Retrieved record 580 of 605 for the city of tongliao\n",
      "Retrieved record 581 of 605 for the city of noyabrsk\n",
      "Retrieved record 582 of 605 for the city of kandrian\n",
      "Retrieved record 583 of 605 for the city of anahuac\n",
      "Retrieved record 584 of 605 for the city of kontagora\n",
      "Retrieved record 585 of 605 for the city of sisophon\n",
      "Retrieved record 586 of 605 for the city of kendari\n",
      "Retrieved record 587 of 605 for the city of indian head\n",
      "Retrieved record 588 of 605 for the city of atasu\n",
      "Retrieved record 589 of 605 for the city of ambilobe\n",
      "Could not retrieve record 590 of 605 for the city of saryshagan\n",
      "Retrieved record 591 of 605 for the city of yinchuan\n",
      "Retrieved record 592 of 605 for the city of fakel\n",
      "Retrieved record 593 of 605 for the city of caborca\n",
      "Retrieved record 594 of 605 for the city of kavieng\n",
      "Retrieved record 595 of 605 for the city of griffith\n",
      "Retrieved record 596 of 605 for the city of cap-aux-meules\n",
      "Retrieved record 597 of 605 for the city of cap malheureux\n",
      "Retrieved record 598 of 605 for the city of emerald\n",
      "Retrieved record 599 of 605 for the city of dalvik\n",
      "Retrieved record 600 of 605 for the city of terney\n",
      "Retrieved record 601 of 605 for the city of nioro\n",
      "Retrieved record 602 of 605 for the city of anamur\n",
      "Retrieved record 603 of 605 for the city of agadir\n",
      "Retrieved record 604 of 605 for the city of ampanihy\n",
      "Retrieved record 605 of 605 for the city of high level\n"
     ]
    },
    {
     "data": {
      "text/html": [
       "<div>\n",
       "<style scoped>\n",
       "    .dataframe tbody tr th:only-of-type {\n",
       "        vertical-align: middle;\n",
       "    }\n",
       "\n",
       "    .dataframe tbody tr th {\n",
       "        vertical-align: top;\n",
       "    }\n",
       "\n",
       "    .dataframe thead th {\n",
       "        text-align: right;\n",
       "    }\n",
       "</style>\n",
       "<table border=\"1\" class=\"dataframe\">\n",
       "  <thead>\n",
       "    <tr style=\"text-align: right;\">\n",
       "      <th></th>\n",
       "      <th>City</th>\n",
       "      <th>Approx. Latitude</th>\n",
       "      <th>Approx. Longitude</th>\n",
       "      <th>Max Temperature (F)</th>\n",
       "      <th>Humidity (%)</th>\n",
       "      <th>Cloudiness</th>\n",
       "      <th>Wind Speed (mph)</th>\n",
       "      <th>Actual Latitude</th>\n",
       "      <th>Actual Longitude</th>\n",
       "      <th>Country</th>\n",
       "      <th>Datetime (Local)</th>\n",
       "    </tr>\n",
       "  </thead>\n",
       "  <tbody>\n",
       "    <tr>\n",
       "      <th>0</th>\n",
       "      <td>llangefni</td>\n",
       "      <td>53.191015</td>\n",
       "      <td>-4.435155</td>\n",
       "      <td>59</td>\n",
       "      <td>87</td>\n",
       "      <td>100</td>\n",
       "      <td>9.17</td>\n",
       "      <td>53.26</td>\n",
       "      <td>-4.31</td>\n",
       "      <td>GB</td>\n",
       "      <td>2020-06-30 21:18:46</td>\n",
       "    </tr>\n",
       "    <tr>\n",
       "      <th>1</th>\n",
       "      <td>sharlyk</td>\n",
       "      <td>53.252014</td>\n",
       "      <td>54.455958</td>\n",
       "      <td>48.02</td>\n",
       "      <td>84</td>\n",
       "      <td>5</td>\n",
       "      <td>7.76</td>\n",
       "      <td>52.92</td>\n",
       "      <td>54.75</td>\n",
       "      <td>RU</td>\n",
       "      <td>2020-07-01 01:20:52</td>\n",
       "    </tr>\n",
       "    <tr>\n",
       "      <th>2</th>\n",
       "      <td>cidreira</td>\n",
       "      <td>-43.940274</td>\n",
       "      <td>-33.017035</td>\n",
       "      <td>62.26</td>\n",
       "      <td>89</td>\n",
       "      <td>100</td>\n",
       "      <td>24.38</td>\n",
       "      <td>-30.18</td>\n",
       "      <td>-50.21</td>\n",
       "      <td>BR</td>\n",
       "      <td>2020-06-30 17:19:22</td>\n",
       "    </tr>\n",
       "    <tr>\n",
       "      <th>3</th>\n",
       "      <td>bredasdorp</td>\n",
       "      <td>-58.980568</td>\n",
       "      <td>20.953094</td>\n",
       "      <td>50</td>\n",
       "      <td>93</td>\n",
       "      <td>100</td>\n",
       "      <td>4.7</td>\n",
       "      <td>-34.53</td>\n",
       "      <td>20.04</td>\n",
       "      <td>ZA</td>\n",
       "      <td>2020-06-30 22:16:14</td>\n",
       "    </tr>\n",
       "    <tr>\n",
       "      <th>4</th>\n",
       "      <td>coronel oviedo</td>\n",
       "      <td>-25.457511</td>\n",
       "      <td>-56.338665</td>\n",
       "      <td>62.76</td>\n",
       "      <td>79</td>\n",
       "      <td>65</td>\n",
       "      <td>7.65</td>\n",
       "      <td>-25.42</td>\n",
       "      <td>-56.45</td>\n",
       "      <td>PY</td>\n",
       "      <td>2020-06-30 16:20:52</td>\n",
       "    </tr>\n",
       "  </tbody>\n",
       "</table>\n",
       "</div>"
      ],
      "text/plain": [
       "             City  Approx. Latitude  Approx. Longitude Max Temperature (F)  \\\n",
       "0       llangefni         53.191015          -4.435155                  59   \n",
       "1         sharlyk         53.252014          54.455958               48.02   \n",
       "2        cidreira        -43.940274         -33.017035               62.26   \n",
       "3      bredasdorp        -58.980568          20.953094                  50   \n",
       "4  coronel oviedo        -25.457511         -56.338665               62.76   \n",
       "\n",
       "  Humidity (%) Cloudiness Wind Speed (mph) Actual Latitude Actual Longitude  \\\n",
       "0           87        100             9.17           53.26            -4.31   \n",
       "1           84          5             7.76           52.92            54.75   \n",
       "2           89        100            24.38          -30.18           -50.21   \n",
       "3           93        100              4.7          -34.53            20.04   \n",
       "4           79         65             7.65          -25.42           -56.45   \n",
       "\n",
       "  Country     Datetime (Local)  \n",
       "0      GB  2020-06-30 21:18:46  \n",
       "1      RU  2020-07-01 01:20:52  \n",
       "2      BR  2020-06-30 17:19:22  \n",
       "3      ZA  2020-06-30 22:16:14  \n",
       "4      PY  2020-06-30 16:20:52  "
      ]
     },
     "execution_count": 4,
     "metadata": {},
     "output_type": "execute_result"
    }
   ],
   "source": [
    "#loop over rows in dataframe to gather info for each city's weather\n",
    "#put in its own cell to allow running separately from the test/setup of the API calls\n",
    "record_count = len(city_list)\n",
    "\n",
    "for i, row in city_list.iterrows():\n",
    "    #use try/except construct to skip over missing cities or missing info\n",
    "    try:\n",
    "        params[\"q\"] = row[\"City\"]\n",
    "        response = requests.get(base_url_current, params)\n",
    "        json_resp = response.json()\n",
    "        addColumns(city_list, json_resp, i, PST_offset)\n",
    "        print(\"Retrieved record {} of {} for the city of {}\".format(i+1, record_count, row[\"City\"]))\n",
    "    except:\n",
    "        city_list[\"City\"][i] = \"Failed\"\n",
    "        print(\"Could not retrieve record {} of {} for the city of {}\".format(i+1, record_count, row[\"City\"]))\n",
    "        \n",
    "\n",
    "city_list.head()"
   ]
  },
  {
   "cell_type": "markdown",
   "metadata": {},
   "source": [
    "### Convert Raw Data to DataFrame\n",
    "* Export the city data into a .csv.\n",
    "* Display the DataFrame"
   ]
  },
  {
   "cell_type": "code",
   "execution_count": 5,
   "metadata": {},
   "outputs": [
    {
     "name": "stdout",
     "output_type": "stream",
     "text": [
      "There is data for 546 cities out of the 605 cities identified, for a retrieval success rate of 90.2%\n"
     ]
    },
    {
     "name": "stderr",
     "output_type": "stream",
     "text": [
      "C:\\Users\\patri\\anaconda3\\lib\\site-packages\\ipykernel_launcher.py:15: SettingWithCopyWarning: \n",
      "A value is trying to be set on a copy of a slice from a DataFrame.\n",
      "Try using .loc[row_indexer,col_indexer] = value instead\n",
      "\n",
      "See the caveats in the documentation: https://pandas.pydata.org/pandas-docs/stable/user_guide/indexing.html#returning-a-view-versus-a-copy\n",
      "  from ipykernel import kernelapp as app\n"
     ]
    },
    {
     "data": {
      "text/html": [
       "<div>\n",
       "<style scoped>\n",
       "    .dataframe tbody tr th:only-of-type {\n",
       "        vertical-align: middle;\n",
       "    }\n",
       "\n",
       "    .dataframe tbody tr th {\n",
       "        vertical-align: top;\n",
       "    }\n",
       "\n",
       "    .dataframe thead th {\n",
       "        text-align: right;\n",
       "    }\n",
       "</style>\n",
       "<table border=\"1\" class=\"dataframe\">\n",
       "  <thead>\n",
       "    <tr style=\"text-align: right;\">\n",
       "      <th></th>\n",
       "      <th>City</th>\n",
       "      <th>Approx. Latitude</th>\n",
       "      <th>Approx. Longitude</th>\n",
       "      <th>Max Temperature (F)</th>\n",
       "      <th>Humidity (%)</th>\n",
       "      <th>Cloudiness</th>\n",
       "      <th>Wind Speed (mph)</th>\n",
       "      <th>Actual Latitude</th>\n",
       "      <th>Actual Longitude</th>\n",
       "      <th>Country</th>\n",
       "      <th>Datetime (Local)</th>\n",
       "    </tr>\n",
       "  </thead>\n",
       "  <tbody>\n",
       "    <tr>\n",
       "      <th>0</th>\n",
       "      <td>llangefni</td>\n",
       "      <td>53.191015</td>\n",
       "      <td>-4.435155</td>\n",
       "      <td>59.00</td>\n",
       "      <td>87</td>\n",
       "      <td>100</td>\n",
       "      <td>9.17</td>\n",
       "      <td>53.26</td>\n",
       "      <td>-4.31</td>\n",
       "      <td>GB</td>\n",
       "      <td>2020-06-30 21:18:46</td>\n",
       "    </tr>\n",
       "    <tr>\n",
       "      <th>1</th>\n",
       "      <td>sharlyk</td>\n",
       "      <td>53.252014</td>\n",
       "      <td>54.455958</td>\n",
       "      <td>48.02</td>\n",
       "      <td>84</td>\n",
       "      <td>5</td>\n",
       "      <td>7.76</td>\n",
       "      <td>52.92</td>\n",
       "      <td>54.75</td>\n",
       "      <td>RU</td>\n",
       "      <td>2020-07-01 01:20:52</td>\n",
       "    </tr>\n",
       "    <tr>\n",
       "      <th>2</th>\n",
       "      <td>cidreira</td>\n",
       "      <td>-43.940274</td>\n",
       "      <td>-33.017035</td>\n",
       "      <td>62.26</td>\n",
       "      <td>89</td>\n",
       "      <td>100</td>\n",
       "      <td>24.38</td>\n",
       "      <td>-30.18</td>\n",
       "      <td>-50.21</td>\n",
       "      <td>BR</td>\n",
       "      <td>2020-06-30 17:19:22</td>\n",
       "    </tr>\n",
       "    <tr>\n",
       "      <th>3</th>\n",
       "      <td>bredasdorp</td>\n",
       "      <td>-58.980568</td>\n",
       "      <td>20.953094</td>\n",
       "      <td>50.00</td>\n",
       "      <td>93</td>\n",
       "      <td>100</td>\n",
       "      <td>4.70</td>\n",
       "      <td>-34.53</td>\n",
       "      <td>20.04</td>\n",
       "      <td>ZA</td>\n",
       "      <td>2020-06-30 22:16:14</td>\n",
       "    </tr>\n",
       "    <tr>\n",
       "      <th>4</th>\n",
       "      <td>coronel oviedo</td>\n",
       "      <td>-25.457511</td>\n",
       "      <td>-56.338665</td>\n",
       "      <td>62.76</td>\n",
       "      <td>79</td>\n",
       "      <td>65</td>\n",
       "      <td>7.65</td>\n",
       "      <td>-25.42</td>\n",
       "      <td>-56.45</td>\n",
       "      <td>PY</td>\n",
       "      <td>2020-06-30 16:20:52</td>\n",
       "    </tr>\n",
       "    <tr>\n",
       "      <th>...</th>\n",
       "      <td>...</td>\n",
       "      <td>...</td>\n",
       "      <td>...</td>\n",
       "      <td>...</td>\n",
       "      <td>...</td>\n",
       "      <td>...</td>\n",
       "      <td>...</td>\n",
       "      <td>...</td>\n",
       "      <td>...</td>\n",
       "      <td>...</td>\n",
       "      <td>...</td>\n",
       "    </tr>\n",
       "    <tr>\n",
       "      <th>541</th>\n",
       "      <td>nioro</td>\n",
       "      <td>16.432541</td>\n",
       "      <td>-8.972844</td>\n",
       "      <td>85.41</td>\n",
       "      <td>59</td>\n",
       "      <td>94</td>\n",
       "      <td>12.86</td>\n",
       "      <td>13.35</td>\n",
       "      <td>-15.75</td>\n",
       "      <td>GM</td>\n",
       "      <td>2020-06-30 20:23:02</td>\n",
       "    </tr>\n",
       "    <tr>\n",
       "      <th>542</th>\n",
       "      <td>anamur</td>\n",
       "      <td>35.865997</td>\n",
       "      <td>32.951940</td>\n",
       "      <td>75.20</td>\n",
       "      <td>94</td>\n",
       "      <td>20</td>\n",
       "      <td>2.24</td>\n",
       "      <td>36.08</td>\n",
       "      <td>32.84</td>\n",
       "      <td>TR</td>\n",
       "      <td>2020-06-30 23:23:02</td>\n",
       "    </tr>\n",
       "    <tr>\n",
       "      <th>543</th>\n",
       "      <td>agadir</td>\n",
       "      <td>30.568263</td>\n",
       "      <td>-11.143565</td>\n",
       "      <td>69.80</td>\n",
       "      <td>83</td>\n",
       "      <td>0</td>\n",
       "      <td>6.93</td>\n",
       "      <td>30.42</td>\n",
       "      <td>-9.60</td>\n",
       "      <td>MA</td>\n",
       "      <td>2020-06-30 21:23:02</td>\n",
       "    </tr>\n",
       "    <tr>\n",
       "      <th>544</th>\n",
       "      <td>ampanihy</td>\n",
       "      <td>-24.934980</td>\n",
       "      <td>44.710550</td>\n",
       "      <td>61.07</td>\n",
       "      <td>83</td>\n",
       "      <td>0</td>\n",
       "      <td>2.53</td>\n",
       "      <td>-24.70</td>\n",
       "      <td>44.75</td>\n",
       "      <td>MG</td>\n",
       "      <td>2020-06-30 23:23:02</td>\n",
       "    </tr>\n",
       "    <tr>\n",
       "      <th>545</th>\n",
       "      <td>high level</td>\n",
       "      <td>57.495258</td>\n",
       "      <td>-115.181319</td>\n",
       "      <td>73.40</td>\n",
       "      <td>53</td>\n",
       "      <td>75</td>\n",
       "      <td>11.41</td>\n",
       "      <td>58.52</td>\n",
       "      <td>-117.14</td>\n",
       "      <td>CA</td>\n",
       "      <td>2020-06-30 14:23:03</td>\n",
       "    </tr>\n",
       "  </tbody>\n",
       "</table>\n",
       "<p>546 rows × 11 columns</p>\n",
       "</div>"
      ],
      "text/plain": [
       "               City  Approx. Latitude  Approx. Longitude  Max Temperature (F)  \\\n",
       "0         llangefni         53.191015          -4.435155                59.00   \n",
       "1           sharlyk         53.252014          54.455958                48.02   \n",
       "2          cidreira        -43.940274         -33.017035                62.26   \n",
       "3        bredasdorp        -58.980568          20.953094                50.00   \n",
       "4    coronel oviedo        -25.457511         -56.338665                62.76   \n",
       "..              ...               ...                ...                  ...   \n",
       "541           nioro         16.432541          -8.972844                85.41   \n",
       "542          anamur         35.865997          32.951940                75.20   \n",
       "543          agadir         30.568263         -11.143565                69.80   \n",
       "544        ampanihy        -24.934980          44.710550                61.07   \n",
       "545      high level         57.495258        -115.181319                73.40   \n",
       "\n",
       "     Humidity (%)  Cloudiness  Wind Speed (mph)  Actual Latitude  \\\n",
       "0              87         100              9.17            53.26   \n",
       "1              84           5              7.76            52.92   \n",
       "2              89         100             24.38           -30.18   \n",
       "3              93         100              4.70           -34.53   \n",
       "4              79          65              7.65           -25.42   \n",
       "..            ...         ...               ...              ...   \n",
       "541            59          94             12.86            13.35   \n",
       "542            94          20              2.24            36.08   \n",
       "543            83           0              6.93            30.42   \n",
       "544            83           0              2.53           -24.70   \n",
       "545            53          75             11.41            58.52   \n",
       "\n",
       "     Actual Longitude Country     Datetime (Local)  \n",
       "0               -4.31      GB  2020-06-30 21:18:46  \n",
       "1               54.75      RU  2020-07-01 01:20:52  \n",
       "2              -50.21      BR  2020-06-30 17:19:22  \n",
       "3               20.04      ZA  2020-06-30 22:16:14  \n",
       "4              -56.45      PY  2020-06-30 16:20:52  \n",
       "..                ...     ...                  ...  \n",
       "541            -15.75      GM  2020-06-30 20:23:02  \n",
       "542             32.84      TR  2020-06-30 23:23:02  \n",
       "543             -9.60      MA  2020-06-30 21:23:02  \n",
       "544             44.75      MG  2020-06-30 23:23:02  \n",
       "545           -117.14      CA  2020-06-30 14:23:03  \n",
       "\n",
       "[546 rows x 11 columns]"
      ]
     },
     "execution_count": 5,
     "metadata": {},
     "output_type": "execute_result"
    }
   ],
   "source": [
    "remaining_cities = city_list.loc[city_list[\"City\"] != \"Failed\"]\n",
    "city_left_count = len(remaining_cities)\n",
    "print(\"There is data for {} cities out of the {} cities identified, for a retrieval success rate of {:.1%}\"\n",
    "      .format(city_left_count, record_count, (city_left_count/record_count)))\n",
    "\n",
    "remaining_cities.index = [a for a in range(city_left_count)]\n",
    "\n",
    "\n",
    "#must change all the columns other than the three below to numeric types - \n",
    "#they are currently strings!\n",
    "non_numeric_cols = [\"City\", \"Country\", \"Datetime (Local)\"]\n",
    "\n",
    "for col in remaining_cities.columns:\n",
    "    if(col not in non_numeric_cols):\n",
    "        remaining_cities[col] = pd.to_numeric(remaining_cities[col])\n",
    "        \n",
    "remaining_cities.dtypes\n",
    "remaining_cities"
   ]
  },
  {
   "cell_type": "raw",
   "metadata": {},
   "source": []
  },
  {
   "cell_type": "code",
   "execution_count": null,
   "metadata": {},
   "outputs": [],
   "source": []
  },
  {
   "cell_type": "markdown",
   "metadata": {},
   "source": [
    "## Inspect the data and remove the cities where the humidity > 100%.\n",
    "----\n",
    "Skip this step if there are no cities that have humidity > 100%. "
   ]
  },
  {
   "cell_type": "code",
   "execution_count": 25,
   "metadata": {},
   "outputs": [
    {
     "name": "stdout",
     "output_type": "stream",
     "text": [
      "By inspection, the maximum humidity value is 100%, so there are no values greater than 100% in our data!\n"
     ]
    },
    {
     "data": {
      "text/plain": [
       "count    546.000000\n",
       "mean      70.890110\n",
       "std       20.662487\n",
       "min        8.000000\n",
       "25%       60.000000\n",
       "50%       76.000000\n",
       "75%       87.000000\n",
       "max      100.000000\n",
       "Name: Humidity (%), dtype: float64"
      ]
     },
     "execution_count": 25,
     "metadata": {},
     "output_type": "execute_result"
    }
   ],
   "source": [
    "#check if there are any cities with >100% humidity\n",
    "test_stats = remaining_cities[\"Humidity (%)\"].describe(include = \"all\")\n",
    "print(\"By inspection, the maximum humidity value is 100%, so there are no values greater than 100% in our data!\")\n",
    "test_stats\n",
    "\n",
    "#remaining_cities[\"Humidity (%)\"].value_counts()"
   ]
  },
  {
   "cell_type": "code",
   "execution_count": 7,
   "metadata": {},
   "outputs": [],
   "source": [
    "#  Get the indices of cities that have humidity over 100%."
   ]
  },
  {
   "cell_type": "code",
   "execution_count": 8,
   "metadata": {},
   "outputs": [],
   "source": [
    "# Make a new DataFrame equal to the city data to drop all humidity outliers by index.\n",
    "# Passing \"inplace=False\" will make a copy of the city_data DataFrame, which we call \"clean_city_data\".\n"
   ]
  },
  {
   "cell_type": "code",
   "execution_count": 9,
   "metadata": {},
   "outputs": [
    {
     "data": {
      "text/html": [
       "<div>\n",
       "<style scoped>\n",
       "    .dataframe tbody tr th:only-of-type {\n",
       "        vertical-align: middle;\n",
       "    }\n",
       "\n",
       "    .dataframe tbody tr th {\n",
       "        vertical-align: top;\n",
       "    }\n",
       "\n",
       "    .dataframe thead th {\n",
       "        text-align: right;\n",
       "    }\n",
       "</style>\n",
       "<table border=\"1\" class=\"dataframe\">\n",
       "  <thead>\n",
       "    <tr style=\"text-align: right;\">\n",
       "      <th></th>\n",
       "      <th>City</th>\n",
       "      <th>Approx. Latitude</th>\n",
       "      <th>Approx. Longitude</th>\n",
       "      <th>Max Temperature (F)</th>\n",
       "      <th>Humidity (%)</th>\n",
       "      <th>Cloudiness</th>\n",
       "      <th>Wind Speed (mph)</th>\n",
       "      <th>Actual Latitude</th>\n",
       "      <th>Actual Longitude</th>\n",
       "      <th>Country</th>\n",
       "      <th>Datetime (Local)</th>\n",
       "    </tr>\n",
       "  </thead>\n",
       "  <tbody>\n",
       "    <tr>\n",
       "      <th>0</th>\n",
       "      <td>llangefni</td>\n",
       "      <td>53.191015</td>\n",
       "      <td>-4.435155</td>\n",
       "      <td>59.00</td>\n",
       "      <td>87</td>\n",
       "      <td>100</td>\n",
       "      <td>9.17</td>\n",
       "      <td>53.26</td>\n",
       "      <td>-4.31</td>\n",
       "      <td>GB</td>\n",
       "      <td>2020-06-30 21:18:46</td>\n",
       "    </tr>\n",
       "    <tr>\n",
       "      <th>1</th>\n",
       "      <td>sharlyk</td>\n",
       "      <td>53.252014</td>\n",
       "      <td>54.455958</td>\n",
       "      <td>48.02</td>\n",
       "      <td>84</td>\n",
       "      <td>5</td>\n",
       "      <td>7.76</td>\n",
       "      <td>52.92</td>\n",
       "      <td>54.75</td>\n",
       "      <td>RU</td>\n",
       "      <td>2020-07-01 01:20:52</td>\n",
       "    </tr>\n",
       "    <tr>\n",
       "      <th>2</th>\n",
       "      <td>cidreira</td>\n",
       "      <td>-43.940274</td>\n",
       "      <td>-33.017035</td>\n",
       "      <td>62.26</td>\n",
       "      <td>89</td>\n",
       "      <td>100</td>\n",
       "      <td>24.38</td>\n",
       "      <td>-30.18</td>\n",
       "      <td>-50.21</td>\n",
       "      <td>BR</td>\n",
       "      <td>2020-06-30 17:19:22</td>\n",
       "    </tr>\n",
       "    <tr>\n",
       "      <th>3</th>\n",
       "      <td>bredasdorp</td>\n",
       "      <td>-58.980568</td>\n",
       "      <td>20.953094</td>\n",
       "      <td>50.00</td>\n",
       "      <td>93</td>\n",
       "      <td>100</td>\n",
       "      <td>4.70</td>\n",
       "      <td>-34.53</td>\n",
       "      <td>20.04</td>\n",
       "      <td>ZA</td>\n",
       "      <td>2020-06-30 22:16:14</td>\n",
       "    </tr>\n",
       "    <tr>\n",
       "      <th>4</th>\n",
       "      <td>coronel oviedo</td>\n",
       "      <td>-25.457511</td>\n",
       "      <td>-56.338665</td>\n",
       "      <td>62.76</td>\n",
       "      <td>79</td>\n",
       "      <td>65</td>\n",
       "      <td>7.65</td>\n",
       "      <td>-25.42</td>\n",
       "      <td>-56.45</td>\n",
       "      <td>PY</td>\n",
       "      <td>2020-06-30 16:20:52</td>\n",
       "    </tr>\n",
       "    <tr>\n",
       "      <th>...</th>\n",
       "      <td>...</td>\n",
       "      <td>...</td>\n",
       "      <td>...</td>\n",
       "      <td>...</td>\n",
       "      <td>...</td>\n",
       "      <td>...</td>\n",
       "      <td>...</td>\n",
       "      <td>...</td>\n",
       "      <td>...</td>\n",
       "      <td>...</td>\n",
       "      <td>...</td>\n",
       "    </tr>\n",
       "    <tr>\n",
       "      <th>541</th>\n",
       "      <td>nioro</td>\n",
       "      <td>16.432541</td>\n",
       "      <td>-8.972844</td>\n",
       "      <td>85.41</td>\n",
       "      <td>59</td>\n",
       "      <td>94</td>\n",
       "      <td>12.86</td>\n",
       "      <td>13.35</td>\n",
       "      <td>-15.75</td>\n",
       "      <td>GM</td>\n",
       "      <td>2020-06-30 20:23:02</td>\n",
       "    </tr>\n",
       "    <tr>\n",
       "      <th>542</th>\n",
       "      <td>anamur</td>\n",
       "      <td>35.865997</td>\n",
       "      <td>32.951940</td>\n",
       "      <td>75.20</td>\n",
       "      <td>94</td>\n",
       "      <td>20</td>\n",
       "      <td>2.24</td>\n",
       "      <td>36.08</td>\n",
       "      <td>32.84</td>\n",
       "      <td>TR</td>\n",
       "      <td>2020-06-30 23:23:02</td>\n",
       "    </tr>\n",
       "    <tr>\n",
       "      <th>543</th>\n",
       "      <td>agadir</td>\n",
       "      <td>30.568263</td>\n",
       "      <td>-11.143565</td>\n",
       "      <td>69.80</td>\n",
       "      <td>83</td>\n",
       "      <td>0</td>\n",
       "      <td>6.93</td>\n",
       "      <td>30.42</td>\n",
       "      <td>-9.60</td>\n",
       "      <td>MA</td>\n",
       "      <td>2020-06-30 21:23:02</td>\n",
       "    </tr>\n",
       "    <tr>\n",
       "      <th>544</th>\n",
       "      <td>ampanihy</td>\n",
       "      <td>-24.934980</td>\n",
       "      <td>44.710550</td>\n",
       "      <td>61.07</td>\n",
       "      <td>83</td>\n",
       "      <td>0</td>\n",
       "      <td>2.53</td>\n",
       "      <td>-24.70</td>\n",
       "      <td>44.75</td>\n",
       "      <td>MG</td>\n",
       "      <td>2020-06-30 23:23:02</td>\n",
       "    </tr>\n",
       "    <tr>\n",
       "      <th>545</th>\n",
       "      <td>high level</td>\n",
       "      <td>57.495258</td>\n",
       "      <td>-115.181319</td>\n",
       "      <td>73.40</td>\n",
       "      <td>53</td>\n",
       "      <td>75</td>\n",
       "      <td>11.41</td>\n",
       "      <td>58.52</td>\n",
       "      <td>-117.14</td>\n",
       "      <td>CA</td>\n",
       "      <td>2020-06-30 14:23:03</td>\n",
       "    </tr>\n",
       "  </tbody>\n",
       "</table>\n",
       "<p>546 rows × 11 columns</p>\n",
       "</div>"
      ],
      "text/plain": [
       "               City  Approx. Latitude  Approx. Longitude  Max Temperature (F)  \\\n",
       "0         llangefni         53.191015          -4.435155                59.00   \n",
       "1           sharlyk         53.252014          54.455958                48.02   \n",
       "2          cidreira        -43.940274         -33.017035                62.26   \n",
       "3        bredasdorp        -58.980568          20.953094                50.00   \n",
       "4    coronel oviedo        -25.457511         -56.338665                62.76   \n",
       "..              ...               ...                ...                  ...   \n",
       "541           nioro         16.432541          -8.972844                85.41   \n",
       "542          anamur         35.865997          32.951940                75.20   \n",
       "543          agadir         30.568263         -11.143565                69.80   \n",
       "544        ampanihy        -24.934980          44.710550                61.07   \n",
       "545      high level         57.495258        -115.181319                73.40   \n",
       "\n",
       "     Humidity (%)  Cloudiness  Wind Speed (mph)  Actual Latitude  \\\n",
       "0              87         100              9.17            53.26   \n",
       "1              84           5              7.76            52.92   \n",
       "2              89         100             24.38           -30.18   \n",
       "3              93         100              4.70           -34.53   \n",
       "4              79          65              7.65           -25.42   \n",
       "..            ...         ...               ...              ...   \n",
       "541            59          94             12.86            13.35   \n",
       "542            94          20              2.24            36.08   \n",
       "543            83           0              6.93            30.42   \n",
       "544            83           0              2.53           -24.70   \n",
       "545            53          75             11.41            58.52   \n",
       "\n",
       "     Actual Longitude Country     Datetime (Local)  \n",
       "0               -4.31      GB  2020-06-30 21:18:46  \n",
       "1               54.75      RU  2020-07-01 01:20:52  \n",
       "2              -50.21      BR  2020-06-30 17:19:22  \n",
       "3               20.04      ZA  2020-06-30 22:16:14  \n",
       "4              -56.45      PY  2020-06-30 16:20:52  \n",
       "..                ...     ...                  ...  \n",
       "541            -15.75      GM  2020-06-30 20:23:02  \n",
       "542             32.84      TR  2020-06-30 23:23:02  \n",
       "543             -9.60      MA  2020-06-30 21:23:02  \n",
       "544             44.75      MG  2020-06-30 23:23:02  \n",
       "545           -117.14      CA  2020-06-30 14:23:03  \n",
       "\n",
       "[546 rows x 11 columns]"
      ]
     },
     "execution_count": 9,
     "metadata": {},
     "output_type": "execute_result"
    }
   ],
   "source": [
    "# Extract relevant fields from the data frame\n",
    "\n",
    "\n",
    "# Export the City_Data into a csv\n",
    "remaining_cities.to_csv(\"../output_data/Retrieved_City_Weather_Data.csv\")\n",
    "remaining_cities"
   ]
  },
  {
   "cell_type": "markdown",
   "metadata": {},
   "source": [
    "## Plotting the Data\n",
    "* Use proper labeling of the plots using plot titles (including date of analysis) and axes labels.\n",
    "* Save the plotted figures as .pngs."
   ]
  },
  {
   "cell_type": "markdown",
   "metadata": {},
   "source": [
    "## Latitude vs. Temperature Plot"
   ]
  },
  {
   "cell_type": "code",
   "execution_count": 10,
   "metadata": {
    "scrolled": true
   },
   "outputs": [
    {
     "data": {
      "image/png": "[encoded data removed]",
      "text/plain": [
       "<Figure size 432x288 with 1 Axes>"
      ]
     },
     "metadata": {
      "needs_background": "light"
     },
     "output_type": "display_data"
    }
   ],
   "source": [
    "lat_vs_T_axes = remaining_cities.plot(kind=\"scatter\", x=\"Actual Latitude\", y=\"Max Temperature (F)\", \n",
    "                                      title=\"Maximum Temperature (F) vs. City Latitude\")\n",
    "\n",
    "lat_vs_T_axes.get_figure().savefig(\"../output_data/Fig1.png\")"
   ]
  },
  {
   "cell_type": "markdown",
   "metadata": {},
   "source": [
    "## Latitude vs. Humidity Plot"
   ]
  },
  {
   "cell_type": "code",
   "execution_count": 11,
   "metadata": {},
   "outputs": [
    {
     "data": {
      "image/png": "[encoded data removed]",
      "text/plain": [
       "<Figure size 432x288 with 1 Axes>"
      ]
     },
     "metadata": {
      "needs_background": "light"
     },
     "output_type": "display_data"
    }
   ],
   "source": [
    "lat_vs_humidity_axes = remaining_cities.plot(kind=\"scatter\", x=\"Actual Latitude\", y=\"Humidity (%)\", \n",
    "                                      title=\"Humidity (%) vs. City Latitude\")\n",
    "\n",
    "lat_vs_humidity_axes.get_figure().savefig(\"../output_data/Fig2.png\")"
   ]
  },
  {
   "cell_type": "markdown",
   "metadata": {},
   "source": [
    "## Latitude vs. Cloudiness Plot"
   ]
  },
  {
   "cell_type": "code",
   "execution_count": 12,
   "metadata": {},
   "outputs": [
    {
     "data": {
      "image/png": "[encoded data removed]",
      "text/plain": [
       "<Figure size 432x288 with 1 Axes>"
      ]
     },
     "metadata": {
      "needs_background": "light"
     },
     "output_type": "display_data"
    }
   ],
   "source": [
    "lat_vs_cloudiness_axes = remaining_cities.plot(kind=\"scatter\", x=\"Actual Latitude\", y=\"Cloudiness\", \n",
    "                                      title=\"Cloudiness vs. City Latitude\")\n",
    "\n",
    "lat_vs_cloudiness_axes.get_figure().savefig(\"../output_data/Fig3.png\")"
   ]
  },
  {
   "cell_type": "markdown",
   "metadata": {},
   "source": [
    "## Latitude vs. Wind Speed Plot"
   ]
  },
  {
   "cell_type": "code",
   "execution_count": 13,
   "metadata": {},
   "outputs": [
    {
     "data": {
      "image/png": "[encoded data removed]",
      "text/plain": [
       "<Figure size 432x288 with 1 Axes>"
      ]
     },
     "metadata": {
      "needs_background": "light"
     },
     "output_type": "display_data"
    }
   ],
   "source": [
    "lat_vs_wind_speed_axes = remaining_cities.plot(kind=\"scatter\", x=\"Actual Latitude\", y=\"Wind Speed (mph)\", \n",
    "                                      title=\"Wind Speed (mph) vs. City Latitude\")\n",
    "\n",
    "lat_vs_wind_speed_axes.get_figure().savefig(\"../output_data/Fig4.png\")"
   ]
  },
  {
   "cell_type": "markdown",
   "metadata": {},
   "source": [
    "## Linear Regression"
   ]
  },
  {
   "cell_type": "code",
   "execution_count": 14,
   "metadata": {},
   "outputs": [],
   "source": [
    "# OPTIONAL: Create a function to create Linear Regression plots\n",
    "\n",
    "#takes in as arguments a DataFrame (df), the x-axis String column name (x_Col), and the y-axis String column name (y_Col)\n",
    "#plots a scatter plot with the df[x_Col] on the x-axis and the df[y_Col] data on the y-axis, and the linear regression line\n",
    "#prints information about the best fit line from the linear regression\n",
    "#returns the axes object for the plot, so more changes can be made later if necessary\n",
    "def makeLinRegression(df, x_Col, y_Col):\n",
    "    #first, perform the linear regression on the data\n",
    "    (regr_slope, regr_intercept, regr_r_val, _, _) = linregress(df[x_Col], \n",
    "                                                           df[y_Col])\n",
    "    #setup the linear regression line x and y axes data points\n",
    "    regr_line_x = np.array([a for a in range(int(min(df[x_Col].values)), int(max(df[x_Col].values)+1))])\n",
    "    regr_line_y = regr_slope * regr_line_x + regr_intercept\n",
    "\n",
    "    #plot the scatterplot with the raw data first!\n",
    "    df_axes = df.plot(kind=\"scatter\", x=x_Col, y=y_Col, title=f\"{x_Col} vs. {y_Col}\")\n",
    "\n",
    "    #add the best fit lines to the plot as a solid red line\n",
    "    df_axes.plot(regr_line_x, regr_line_y, 'r')\n",
    "\n",
    "    #output best-fit line information\n",
    "    print(\"The equation of the best-fit linear regression line for this chart is y={:.2f}x+{:.2f}\"\n",
    "          .format(regr_slope, regr_intercept))\n",
    "    print(\"The r-squared correlation coefficient for this line is {:.2f}\".format(regr_r_val))\n",
    "                  \n",
    "    #return the axes object for the plots, in case any changes need to be made\n",
    "    return df_axes"
   ]
  },
  {
   "cell_type": "code",
   "execution_count": 15,
   "metadata": {},
   "outputs": [
    {
     "name": "stdout",
     "output_type": "stream",
     "text": [
      "There are 376 cities in the northern hemisphere out of 546 cities total, representing 68.9% of all cities in the data set.\n",
      "There are 170 cities in the southern hemisphere out of 546 cities total, representing 31.1% of all cities in the data set.\n"
     ]
    }
   ],
   "source": [
    "# Create Northern and Southern Hemisphere DataFrames\n",
    "\n",
    "#first, get a subset of all the cities that are on or north of the equator for the Northern Hemisphere DataFrame\n",
    "northern_hemisphere = remaining_cities.loc[remaining_cities[\"Actual Latitude\"] >= 0]\n",
    "northern_cities_count = len(northern_hemisphere)\n",
    "print(\"There are {} cities in the northern hemisphere out of {} cities total, representing {:.1%} of all cities in the data set.\"\n",
    "     .format(northern_cities_count, city_left_count, (northern_cities_count/city_left_count)))\n",
    "\n",
    "#first, get a subset of all the cities that are south of the equator for the Southern Hemisphere DataFrame\n",
    "southern_hemisphere = remaining_cities.loc[remaining_cities[\"Actual Latitude\"] < 0]\n",
    "southern_cities_count = len(southern_hemisphere)\n",
    "print(\"There are {} cities in the southern hemisphere out of {} cities total, representing {:.1%} of all cities in the data set.\"\n",
    "     .format(southern_cities_count, city_left_count, (southern_cities_count/city_left_count)))\n"
   ]
  },
  {
   "cell_type": "markdown",
   "metadata": {},
   "source": [
    "####  Northern Hemisphere - Max Temp vs. Latitude Linear Regression"
   ]
  },
  {
   "cell_type": "code",
   "execution_count": 16,
   "metadata": {},
   "outputs": [
    {
     "name": "stdout",
     "output_type": "stream",
     "text": [
      "The equation of the best-fit linear regression line for this chart is y=-0.53x+91.23\n",
      "The r-squared correlation coefficient for this line is -0.71\n"
     ]
    },
    {
     "data": {
      "image/png": "[encoded data removed]",
      "text/plain": [
       "<Figure size 432x288 with 1 Axes>"
      ]
     },
     "metadata": {
      "needs_background": "light"
     },
     "output_type": "display_data"
    }
   ],
   "source": [
    "(n_temp_slope, n_temp_intercept, n_temp_r_val, _, _) = linregress(northern_hemisphere[\"Actual Latitude\"], \n",
    "                                                           northern_hemisphere[\"Max Temperature (F)\"])\n",
    "\n",
    "regr_line_x = np.array([a for a in range(80)])\n",
    "regr_line_y = n_temp_slope * regr_line_x + n_temp_intercept\n",
    "\n",
    "n_temp_axes = northern_hemisphere.plot(kind=\"scatter\", x=\"Actual Latitude\", \n",
    "                                       y=\"Max Temperature (F)\", title=\"Max Temperature (F) vs. Actual Latitude\")\n",
    "\n",
    "n_temp_axes.plot(regr_line_x, regr_line_y, 'r')\n",
    "\n",
    "print(\"The equation of the best-fit linear regression line for this chart is y={:.2f}x+{:.2f}\"\n",
    "      .format(n_temp_slope, n_temp_intercept))\n",
    "print(\"The r-squared correlation coefficient for this line is {:.2f}\".format(n_temp_r_val))"
   ]
  },
  {
   "cell_type": "markdown",
   "metadata": {},
   "source": [
    "####  Southern Hemisphere - Max Temp vs. Latitude Linear Regression"
   ]
  },
  {
   "cell_type": "code",
   "execution_count": 17,
   "metadata": {},
   "outputs": [
    {
     "name": "stdout",
     "output_type": "stream",
     "text": [
      "The equation of the best-fit linear regression line for this chart is y=0.89x+82.83\n",
      "The r-squared correlation coefficient for this line is 0.86\n"
     ]
    },
    {
     "data": {
      "text/plain": [
       "<matplotlib.axes._subplots.AxesSubplot at 0x202bd4464c8>"
      ]
     },
     "execution_count": 17,
     "metadata": {},
     "output_type": "execute_result"
    },
    {
     "data": {
      "image/png": "[encoded data removed]",
      "text/plain": [
       "<Figure size 432x288 with 1 Axes>"
      ]
     },
     "metadata": {
      "needs_background": "light"
     },
     "output_type": "display_data"
    }
   ],
   "source": [
    "makeLinRegression(southern_hemisphere, \"Actual Latitude\", \"Max Temperature (F)\")"
   ]
  },
  {
   "cell_type": "markdown",
   "metadata": {},
   "source": [
    "####  Northern Hemisphere - Humidity (%) vs. Latitude Linear Regression"
   ]
  },
  {
   "cell_type": "code",
   "execution_count": 18,
   "metadata": {},
   "outputs": [
    {
     "name": "stdout",
     "output_type": "stream",
     "text": [
      "The equation of the best-fit linear regression line for this chart is y=0.03x+67.59\n",
      "The r-squared correlation coefficient for this line is 0.03\n"
     ]
    },
    {
     "data": {
      "text/plain": [
       "<matplotlib.axes._subplots.AxesSubplot at 0x202bd4c8308>"
      ]
     },
     "execution_count": 18,
     "metadata": {},
     "output_type": "execute_result"
    },
    {
     "data": {
      "image/png": "[encoded data removed]",
      "text/plain": [
       "<Figure size 432x288 with 1 Axes>"
      ]
     },
     "metadata": {
      "needs_background": "light"
     },
     "output_type": "display_data"
    }
   ],
   "source": [
    "makeLinRegression(northern_hemisphere, \"Actual Latitude\", \"Humidity (%)\")"
   ]
  },
  {
   "cell_type": "markdown",
   "metadata": {},
   "source": [
    "####  Southern Hemisphere - Humidity (%) vs. Latitude Linear Regression"
   ]
  },
  {
   "cell_type": "code",
   "execution_count": 19,
   "metadata": {},
   "outputs": [
    {
     "name": "stdout",
     "output_type": "stream",
     "text": [
      "The equation of the best-fit linear regression line for this chart is y=-0.18x+71.82\n",
      "The r-squared correlation coefficient for this line is -0.15\n"
     ]
    },
    {
     "data": {
      "text/plain": [
       "<matplotlib.axes._subplots.AxesSubplot at 0x202bd532048>"
      ]
     },
     "execution_count": 19,
     "metadata": {},
     "output_type": "execute_result"
    },
    {
     "data": {
      "image/png": "[encoded data removed]",
      "text/plain": [
       "<Figure size 432x288 with 1 Axes>"
      ]
     },
     "metadata": {
      "needs_background": "light"
     },
     "output_type": "display_data"
    }
   ],
   "source": [
    "makeLinRegression(southern_hemisphere, \"Actual Latitude\", \"Humidity (%)\")"
   ]
  },
  {
   "cell_type": "markdown",
   "metadata": {},
   "source": [
    "####  Northern Hemisphere - Cloudiness (%) vs. Latitude Linear Regression"
   ]
  },
  {
   "cell_type": "code",
   "execution_count": 20,
   "metadata": {},
   "outputs": [
    {
     "name": "stdout",
     "output_type": "stream",
     "text": [
      "The equation of the best-fit linear regression line for this chart is y=0.02x+51.21\n",
      "The r-squared correlation coefficient for this line is 0.01\n"
     ]
    },
    {
     "data": {
      "text/plain": [
       "<matplotlib.axes._subplots.AxesSubplot at 0x202bd5a6588>"
      ]
     },
     "execution_count": 20,
     "metadata": {},
     "output_type": "execute_result"
    },
    {
     "data": {
      "image/png": "[encoded data removed]",
      "text/plain": [
       "<Figure size 432x288 with 1 Axes>"
      ]
     },
     "metadata": {
      "needs_background": "light"
     },
     "output_type": "display_data"
    }
   ],
   "source": [
    "makeLinRegression(northern_hemisphere, \"Actual Latitude\", \"Cloudiness\")"
   ]
  },
  {
   "cell_type": "markdown",
   "metadata": {},
   "source": [
    "####  Southern Hemisphere - Cloudiness (%) vs. Latitude Linear Regression"
   ]
  },
  {
   "cell_type": "code",
   "execution_count": 21,
   "metadata": {},
   "outputs": [
    {
     "name": "stdout",
     "output_type": "stream",
     "text": [
      "The equation of the best-fit linear regression line for this chart is y=-0.30x+40.48\n",
      "The r-squared correlation coefficient for this line is -0.10\n"
     ]
    },
    {
     "data": {
      "text/plain": [
       "<matplotlib.axes._subplots.AxesSubplot at 0x202bd6186c8>"
      ]
     },
     "execution_count": 21,
     "metadata": {},
     "output_type": "execute_result"
    },
    {
     "data": {
      "image/png": "[encoded data removed]",
      "text/plain": [
       "<Figure size 432x288 with 1 Axes>"
      ]
     },
     "metadata": {
      "needs_background": "light"
     },
     "output_type": "display_data"
    }
   ],
   "source": [
    "makeLinRegression(southern_hemisphere, \"Actual Latitude\", \"Cloudiness\")"
   ]
  },
  {
   "cell_type": "markdown",
   "metadata": {},
   "source": [
    "####  Northern Hemisphere - Wind Speed (mph) vs. Latitude Linear Regression"
   ]
  },
  {
   "cell_type": "code",
   "execution_count": 22,
   "metadata": {},
   "outputs": [
    {
     "name": "stdout",
     "output_type": "stream",
     "text": [
      "The equation of the best-fit linear regression line for this chart is y=0.04x+6.56\n",
      "The r-squared correlation coefficient for this line is 0.16\n"
     ]
    },
    {
     "data": {
      "text/plain": [
       "<matplotlib.axes._subplots.AxesSubplot at 0x202bd6735c8>"
      ]
     },
     "execution_count": 22,
     "metadata": {},
     "output_type": "execute_result"
    },
    {
     "data": {
      "image/png": "[encoded data removed]",
      "text/plain": [
       "<Figure size 432x288 with 1 Axes>"
      ]
     },
     "metadata": {
      "needs_background": "light"
     },
     "output_type": "display_data"
    }
   ],
   "source": [
    "makeLinRegression(northern_hemisphere, \"Actual Latitude\", \"Wind Speed (mph)\")"
   ]
  },
  {
   "cell_type": "markdown",
   "metadata": {},
   "source": [
    "####  Southern Hemisphere - Wind Speed (mph) vs. Latitude Linear Regression"
   ]
  },
  {
   "cell_type": "code",
   "execution_count": 23,
   "metadata": {},
   "outputs": [
    {
     "name": "stdout",
     "output_type": "stream",
     "text": [
      "The equation of the best-fit linear regression line for this chart is y=-0.06x+6.72\n",
      "The r-squared correlation coefficient for this line is -0.15\n"
     ]
    },
    {
     "data": {
      "text/plain": [
       "<matplotlib.axes._subplots.AxesSubplot at 0x202bd6ffc08>"
      ]
     },
     "execution_count": 23,
     "metadata": {},
     "output_type": "execute_result"
    },
    {
     "data": {
      "image/png": "[encoded data removed]",
      "text/plain": [
       "<Figure size 432x288 with 1 Axes>"
      ]
     },
     "metadata": {
      "needs_background": "light"
     },
     "output_type": "display_data"
    }
   ],
   "source": [
    "makeLinRegression(southern_hemisphere, \"Actual Latitude\", \"Wind Speed (mph)\")"
   ]
  },
  {
   "cell_type": "code",
   "execution_count": null,
   "metadata": {},
   "outputs": [],
   "source": []
  }
 ],
 "metadata": {
  "anaconda-cloud": {},
  "kernel_info": {
   "name": "python3"
  },
  "kernelspec": {
   "display_name": "Python 3",
   "language": "python",
   "name": "python3"
  },
  "language_info": {
   "codemirror_mode": {
    "name": "ipython",
    "version": 3
   },
   "file_extension": ".py",
   "mimetype": "text/x-python",
   "name": "python",
   "nbconvert_exporter": "python",
   "pygments_lexer": "ipython3",
   "version": "3.7.6"
  },
  "latex_envs": {
   "LaTeX_envs_menu_present": true,
   "autoclose": false,
   "autocomplete": true,
   "bibliofile": "biblio.bib",
   "cite_by": "apalike",
   "current_citInitial": 1,
   "eqLabelWithNumbers": true,
   "eqNumInitial": 1,
   "hotkeys": {
    "equation": "Ctrl-E",
    "itemize": "Ctrl-I"
   },
   "labels_anchors": false,
   "latex_user_defs": false,
   "report_style_numbering": false,
   "user_envs_cfg": false
  },
  "nteract": {
   "version": "0.12.3"
  }
 },
 "nbformat": 4,
 "nbformat_minor": 2
}
