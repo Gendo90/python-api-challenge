{
 "cells": [
  {
   "cell_type": "markdown",
   "metadata": {},
   "source": [
    "# VacationPy\n",
    "----\n",
    "\n",
    "#### Note\n",
    "* Instructions have been included for each segment. You do not have to follow them exactly, but they are included to help you think through the steps."
   ]
  },
  {
   "cell_type": "code",
   "execution_count": 1,
   "metadata": {},
   "outputs": [],
   "source": [
    "# Dependencies and Setup\n",
    "import matplotlib.pyplot as plt\n",
    "import pandas as pd\n",
    "import numpy as np\n",
    "import requests\n",
    "import gmaps\n",
    "import os\n",
    "\n",
    "# Import API key\n",
    "from api_keys import g_key"
   ]
  },
  {
   "cell_type": "markdown",
   "metadata": {},
   "source": [
    "### Store Part I results into DataFrame\n",
    "* Load the csv exported in Part I to a DataFrame"
   ]
  },
  {
   "cell_type": "code",
   "execution_count": 2,
   "metadata": {},
   "outputs": [
    {
     "data": {
      "text/html": [
       "<div>\n",
       "<style scoped>\n",
       "    .dataframe tbody tr th:only-of-type {\n",
       "        vertical-align: middle;\n",
       "    }\n",
       "\n",
       "    .dataframe tbody tr th {\n",
       "        vertical-align: top;\n",
       "    }\n",
       "\n",
       "    .dataframe thead th {\n",
       "        text-align: right;\n",
       "    }\n",
       "</style>\n",
       "<table border=\"1\" class=\"dataframe\">\n",
       "  <thead>\n",
       "    <tr style=\"text-align: right;\">\n",
       "      <th></th>\n",
       "      <th>Unnamed: 0</th>\n",
       "      <th>City</th>\n",
       "      <th>Approx. Latitude</th>\n",
       "      <th>Approx. Longitude</th>\n",
       "      <th>Max Temperature (F)</th>\n",
       "      <th>Humidity (%)</th>\n",
       "      <th>Cloudiness</th>\n",
       "      <th>Wind Speed (mph)</th>\n",
       "      <th>Actual Latitude</th>\n",
       "      <th>Actual Longitude</th>\n",
       "      <th>Country</th>\n",
       "      <th>Datetime (Local)</th>\n",
       "    </tr>\n",
       "  </thead>\n",
       "  <tbody>\n",
       "    <tr>\n",
       "      <th>0</th>\n",
       "      <td>0</td>\n",
       "      <td>bredasdorp</td>\n",
       "      <td>-80.318442</td>\n",
       "      <td>15.532365</td>\n",
       "      <td>55.40</td>\n",
       "      <td>82</td>\n",
       "      <td>8</td>\n",
       "      <td>10.29</td>\n",
       "      <td>-34.53</td>\n",
       "      <td>20.04</td>\n",
       "      <td>ZA</td>\n",
       "      <td>2020-06-29 01:39:56</td>\n",
       "    </tr>\n",
       "    <tr>\n",
       "      <th>1</th>\n",
       "      <td>1</td>\n",
       "      <td>vaini</td>\n",
       "      <td>-86.226736</td>\n",
       "      <td>-175.515797</td>\n",
       "      <td>78.80</td>\n",
       "      <td>88</td>\n",
       "      <td>75</td>\n",
       "      <td>10.29</td>\n",
       "      <td>-21.20</td>\n",
       "      <td>-175.20</td>\n",
       "      <td>TO</td>\n",
       "      <td>2020-06-29 12:38:34</td>\n",
       "    </tr>\n",
       "    <tr>\n",
       "      <th>2</th>\n",
       "      <td>2</td>\n",
       "      <td>norman wells</td>\n",
       "      <td>74.582597</td>\n",
       "      <td>-120.095072</td>\n",
       "      <td>75.20</td>\n",
       "      <td>27</td>\n",
       "      <td>40</td>\n",
       "      <td>2.77</td>\n",
       "      <td>65.28</td>\n",
       "      <td>-126.83</td>\n",
       "      <td>CA</td>\n",
       "      <td>2020-06-28 17:39:56</td>\n",
       "    </tr>\n",
       "    <tr>\n",
       "      <th>3</th>\n",
       "      <td>3</td>\n",
       "      <td>charlestown</td>\n",
       "      <td>15.318038</td>\n",
       "      <td>-64.231231</td>\n",
       "      <td>55.00</td>\n",
       "      <td>93</td>\n",
       "      <td>57</td>\n",
       "      <td>5.68</td>\n",
       "      <td>-32.95</td>\n",
       "      <td>151.67</td>\n",
       "      <td>AU</td>\n",
       "      <td>2020-06-29 09:35:58</td>\n",
       "    </tr>\n",
       "    <tr>\n",
       "      <th>4</th>\n",
       "      <td>4</td>\n",
       "      <td>okha</td>\n",
       "      <td>54.451828</td>\n",
       "      <td>142.697843</td>\n",
       "      <td>48.88</td>\n",
       "      <td>90</td>\n",
       "      <td>98</td>\n",
       "      <td>3.47</td>\n",
       "      <td>53.57</td>\n",
       "      <td>142.95</td>\n",
       "      <td>RU</td>\n",
       "      <td>2020-06-29 10:39:56</td>\n",
       "    </tr>\n",
       "  </tbody>\n",
       "</table>\n",
       "</div>"
      ],
      "text/plain": [
       "   Unnamed: 0          City  Approx. Latitude  Approx. Longitude  \\\n",
       "0           0    bredasdorp        -80.318442          15.532365   \n",
       "1           1         vaini        -86.226736        -175.515797   \n",
       "2           2  norman wells         74.582597        -120.095072   \n",
       "3           3   charlestown         15.318038         -64.231231   \n",
       "4           4          okha         54.451828         142.697843   \n",
       "\n",
       "   Max Temperature (F)  Humidity (%)  Cloudiness  Wind Speed (mph)  \\\n",
       "0                55.40            82           8             10.29   \n",
       "1                78.80            88          75             10.29   \n",
       "2                75.20            27          40              2.77   \n",
       "3                55.00            93          57              5.68   \n",
       "4                48.88            90          98              3.47   \n",
       "\n",
       "   Actual Latitude  Actual Longitude Country     Datetime (Local)  \n",
       "0           -34.53             20.04      ZA  2020-06-29 01:39:56  \n",
       "1           -21.20           -175.20      TO  2020-06-29 12:38:34  \n",
       "2            65.28           -126.83      CA  2020-06-28 17:39:56  \n",
       "3           -32.95            151.67      AU  2020-06-29 09:35:58  \n",
       "4            53.57            142.95      RU  2020-06-29 10:39:56  "
      ]
     },
     "execution_count": 2,
     "metadata": {},
     "output_type": "execute_result"
    }
   ],
   "source": [
    "cities_examined = pd.read_csv(\"../output_data/Retrieved_City_Weather_Data.csv\")\n",
    "cities_examined.head()"
   ]
  },
  {
   "cell_type": "markdown",
   "metadata": {},
   "source": [
    "### Humidity Heatmap\n",
    "* Configure gmaps.\n",
    "* Use the Lat and Lng as locations and Humidity as the weight.\n",
    "* Add Heatmap layer to map."
   ]
  },
  {
   "cell_type": "code",
   "execution_count": 16,
   "metadata": {},
   "outputs": [
    {
     "data": {
      "application/vnd.jupyter.widget-view+json": {
       "model_id": "fb40d2bca099414084848c07e4b682dd",
       "version_major": 2,
       "version_minor": 0
      },
      "text/plain": [
       "Figure(layout=FigureLayout(height='420px'))"
      ]
     },
     "metadata": {},
     "output_type": "display_data"
    }
   ],
   "source": [
    "#enable gmaps extension for this notebook\n",
    "# !pip install gmaps\n",
    "# jupyter nbextension enable --py gmaps\n",
    "\n",
    "# Configure gmaps\n",
    "gmaps.configure(api_key=g_key)\n",
    "\n",
    "#set locations (lat, long) data for the heatmap\n",
    "locations = cities_examined.loc[:, [\"Actual Latitude\", \"Actual Longitude\"]]\n",
    "\n",
    "\n",
    "# Plot Heatmap\n",
    "fig = gmaps.figure()\n",
    "\n",
    "\n",
    "# Create heat layer\n",
    "heat_layer = gmaps.heatmap_layer(locations, weights=cities_examined[\"Humidity (%)\"], \n",
    "                                 dissipating=False, #max_intensity=120,\n",
    "                                 point_radius=4)\n",
    "\n",
    "\n",
    "# Add layer\n",
    "fig.add_layer(heat_layer)\n",
    "\n",
    "# Display figure\n",
    "fig"
   ]
  },
  {
   "cell_type": "code",
   "execution_count": null,
   "metadata": {},
   "outputs": [],
   "source": []
  },
  {
   "cell_type": "markdown",
   "metadata": {},
   "source": [
    "### Create new DataFrame fitting weather criteria\n",
    "* Narrow down the cities to fit weather conditions.\n",
    "* Drop any rows will null values."
   ]
  },
  {
   "cell_type": "code",
   "execution_count": null,
   "metadata": {},
   "outputs": [],
   "source": []
  },
  {
   "cell_type": "markdown",
   "metadata": {},
   "source": [
    "### Hotel Map\n",
    "* Store into variable named `hotel_df`.\n",
    "* Add a \"Hotel Name\" column to the DataFrame.\n",
    "* Set parameters to search for hotels with 5000 meters.\n",
    "* Hit the Google Places API for each city's coordinates.\n",
    "* Store the first Hotel result into the DataFrame.\n",
    "* Plot markers on top of the heatmap."
   ]
  },
  {
   "cell_type": "code",
   "execution_count": null,
   "metadata": {},
   "outputs": [],
   "source": [
    "# params dictionary to update each iteration\n",
    "params = {\n",
    "    \"radius\": 50000,\n",
    "    \"types\": \"airport\",\n",
    "    \"keyword\": \"international airport\",\n",
    "    \"key\": g_key\n",
    "}\n",
    "\n",
    "curr_lat = cities_examined[\"Actual Latitude\"][0]\n",
    "curr_lng = cities_examined[\"Actual Longitude\"][0]\n",
    "params[\"location\"] = f\"{curr_lat},{curr_lng}\"\n",
    "\n",
    "base_places_url = \"https://maps.googleapis.com/maps/api/place/nearbysearch/json\"\n",
    "\n",
    "name_address = requests.get(base_places_url, params)\n",
    "print(name_address.json())"
   ]
  },
  {
   "cell_type": "code",
   "execution_count": null,
   "metadata": {},
   "outputs": [],
   "source": []
  },
  {
   "cell_type": "code",
   "execution_count": null,
   "metadata": {},
   "outputs": [],
   "source": [
    "# NOTE: Do not change any of the code in this cell\n",
    "\n",
    "# Using the template add the hotel marks to the heatmap\n",
    "info_box_template = \"\"\"\n",
    "<dl>\n",
    "<dt>Name</dt><dd>{Hotel Name}</dd>\n",
    "<dt>City</dt><dd>{City}</dd>\n",
    "<dt>Country</dt><dd>{Country}</dd>\n",
    "</dl>\n",
    "\"\"\"\n",
    "# Store the DataFrame Row\n",
    "# NOTE: be sure to update with your DataFrame name\n",
    "hotel_info = [info_box_template.format(**row) for index, row in hotel_df.iterrows()]\n",
    "locations = hotel_df[[\"Lat\", \"Lng\"]]"
   ]
  },
  {
   "cell_type": "code",
   "execution_count": null,
   "metadata": {},
   "outputs": [],
   "source": [
    "# Add marker layer ontop of heat map\n",
    "\n",
    "\n",
    "# Display figure\n"
   ]
  },
  {
   "cell_type": "code",
   "execution_count": null,
   "metadata": {},
   "outputs": [],
   "source": []
  }
 ],
 "metadata": {
  "kernelspec": {
   "display_name": "Python 3",
   "language": "python",
   "name": "python3"
  },
  "language_info": {
   "codemirror_mode": {
    "name": "ipython",
    "version": 3
   },
   "file_extension": ".py",
   "mimetype": "text/x-python",
   "name": "python",
   "nbconvert_exporter": "python",
   "pygments_lexer": "ipython3",
   "version": "3.7.6"
  },
  "latex_envs": {
   "LaTeX_envs_menu_present": true,
   "autoclose": false,
   "autocomplete": true,
   "bibliofile": "biblio.bib",
   "cite_by": "apalike",
   "current_citInitial": 1,
   "eqLabelWithNumbers": true,
   "eqNumInitial": 1,
   "hotkeys": {
    "equation": "Ctrl-E",
    "itemize": "Ctrl-I"
   },
   "labels_anchors": false,
   "latex_user_defs": false,
   "report_style_numbering": false,
   "user_envs_cfg": false
  }
 },
 "nbformat": 4,
 "nbformat_minor": 2
}
