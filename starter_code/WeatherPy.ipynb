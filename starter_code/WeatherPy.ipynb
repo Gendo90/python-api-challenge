{
 "cells": [
  {
   "cell_type": "markdown",
   "metadata": {},
   "source": [
    "# WeatherPy\n",
    "----\n",
    "\n",
    "#### Note\n",
    "* Instructions have been included for each segment. You do not have to follow them exactly, but they are included to help you think through the steps."
   ]
  },
  {
   "cell_type": "code",
   "execution_count": 56,
   "metadata": {
    "scrolled": true
   },
   "outputs": [],
   "source": [
    "# Dependencies and Setup\n",
    "import matplotlib.pyplot as plt\n",
    "import pandas as pd\n",
    "import numpy as np\n",
    "import requests\n",
    "import time\n",
    "from scipy.stats import linregress\n",
    "import json\n",
    "import datetime\n",
    "\n",
    "# Import API key\n",
    "from api_keys import weather_api_key\n",
    "\n",
    "# Incorporated citipy to determine city based on latitude and longitude\n",
    "from citipy import citipy\n",
    "\n",
    "# Output File (CSV)\n",
    "output_data_file = \"output_data/cities.csv\"\n",
    "\n",
    "# Range of latitudes and longitudes\n",
    "lat_range = (-90, 90)\n",
    "lng_range = (-180, 180)"
   ]
  },
  {
   "cell_type": "markdown",
   "metadata": {},
   "source": [
    "## Generate Cities List"
   ]
  },
  {
   "cell_type": "code",
   "execution_count": 57,
   "metadata": {},
   "outputs": [
    {
     "name": "stdout",
     "output_type": "stream",
     "text": [
      "608 cities have been identified to poll for weather\n"
     ]
    },
    {
     "data": {
      "text/html": [
       "<div>\n",
       "<style scoped>\n",
       "    .dataframe tbody tr th:only-of-type {\n",
       "        vertical-align: middle;\n",
       "    }\n",
       "\n",
       "    .dataframe tbody tr th {\n",
       "        vertical-align: top;\n",
       "    }\n",
       "\n",
       "    .dataframe thead th {\n",
       "        text-align: right;\n",
       "    }\n",
       "</style>\n",
       "<table border=\"1\" class=\"dataframe\">\n",
       "  <thead>\n",
       "    <tr style=\"text-align: right;\">\n",
       "      <th></th>\n",
       "      <th>City</th>\n",
       "      <th>Approx. Latitude</th>\n",
       "      <th>Approx. Longitude</th>\n",
       "    </tr>\n",
       "  </thead>\n",
       "  <tbody>\n",
       "    <tr>\n",
       "      <th>0</th>\n",
       "      <td>bredasdorp</td>\n",
       "      <td>-80.318442</td>\n",
       "      <td>15.532365</td>\n",
       "    </tr>\n",
       "    <tr>\n",
       "      <th>1</th>\n",
       "      <td>vaini</td>\n",
       "      <td>-86.226736</td>\n",
       "      <td>-175.515797</td>\n",
       "    </tr>\n",
       "    <tr>\n",
       "      <th>2</th>\n",
       "      <td>norman wells</td>\n",
       "      <td>74.582597</td>\n",
       "      <td>-120.095072</td>\n",
       "    </tr>\n",
       "    <tr>\n",
       "      <th>3</th>\n",
       "      <td>charlestown</td>\n",
       "      <td>15.318038</td>\n",
       "      <td>-64.231231</td>\n",
       "    </tr>\n",
       "    <tr>\n",
       "      <th>4</th>\n",
       "      <td>okha</td>\n",
       "      <td>54.451828</td>\n",
       "      <td>142.697843</td>\n",
       "    </tr>\n",
       "  </tbody>\n",
       "</table>\n",
       "</div>"
      ],
      "text/plain": [
       "           City  Approx. Latitude  Approx. Longitude\n",
       "0    bredasdorp        -80.318442          15.532365\n",
       "1         vaini        -86.226736        -175.515797\n",
       "2  norman wells         74.582597        -120.095072\n",
       "3   charlestown         15.318038         -64.231231\n",
       "4          okha         54.451828         142.697843"
      ]
     },
     "execution_count": 57,
     "metadata": {},
     "output_type": "execute_result"
    }
   ],
   "source": [
    "# List for holding lat_lngs and cities\n",
    "lat_lngs = []\n",
    "cities = []\n",
    "\n",
    "# Create a set of random lat and lng combinations\n",
    "lats = np.random.uniform(lat_range[0], lat_range[1], size=1500)\n",
    "lngs = np.random.uniform(lng_range[0], lng_range[1], size=1500)\n",
    "lat_lngs = zip(lats, lngs)\n",
    "\n",
    "saved_lats = []\n",
    "saved_longs = []\n",
    "\n",
    "# Identify nearest city for each lat, lng combination\n",
    "for lat_lng in lat_lngs:\n",
    "    city = citipy.nearest_city(lat_lng[0], lat_lng[1]).city_name\n",
    "    \n",
    "    # If the city is unique, then add it to a our cities list\n",
    "    #also add estimated latitude and longitude\n",
    "    if city not in cities:\n",
    "        cities.append(city)\n",
    "        saved_lats.append(lat_lng[0])\n",
    "        saved_longs.append(lat_lng[1])\n",
    "        \n",
    "# print(citipy.nearest_city(0, 0).keys())\n",
    "\n",
    "# Print the city count to confirm sufficient count\n",
    "print(\"{} cities have been identified to poll for weather\".format(len(cities)))\n",
    "\n",
    "city_list = pd.DataFrame({\"City\":cities, \"Approx. Latitude\":saved_lats, \"Approx. Longitude\":saved_longs})\n",
    "# city_list = pd.DataFrame({\"City\":cities})\n",
    "\n",
    "#save to a csv (for reference - can compare estimated coordinates to actual coordinates if there is time, which cannot be done\n",
    "#easily with citipy because the references only go one way -> approx. coordinates to city name, not city name to actual \n",
    "#coordinates)\n",
    "city_list.to_csv(\"./CityNameList.csv\")\n",
    "city_list.head()"
   ]
  },
  {
   "cell_type": "markdown",
   "metadata": {},
   "source": [
    "### Perform API Calls\n",
    "* Perform a weather check on each city using a series of successive API calls.\n",
    "* Include a print log of each city as it'sbeing processed (with the city number and city name).\n"
   ]
  },
  {
   "cell_type": "code",
   "execution_count": 58,
   "metadata": {},
   "outputs": [
    {
     "name": "stderr",
     "output_type": "stream",
     "text": [
      "C:\\Users\\patri\\anaconda3\\lib\\site-packages\\ipykernel_launcher.py:35: SettingWithCopyWarning: \n",
      "A value is trying to be set on a copy of a slice from a DataFrame\n",
      "\n",
      "See the caveats in the documentation: https://pandas.pydata.org/pandas-docs/stable/user_guide/indexing.html#returning-a-view-versus-a-copy\n",
      "C:\\Users\\patri\\anaconda3\\lib\\site-packages\\ipykernel_launcher.py:36: SettingWithCopyWarning: \n",
      "A value is trying to be set on a copy of a slice from a DataFrame\n",
      "\n",
      "See the caveats in the documentation: https://pandas.pydata.org/pandas-docs/stable/user_guide/indexing.html#returning-a-view-versus-a-copy\n",
      "C:\\Users\\patri\\anaconda3\\lib\\site-packages\\ipykernel_launcher.py:37: SettingWithCopyWarning: \n",
      "A value is trying to be set on a copy of a slice from a DataFrame\n",
      "\n",
      "See the caveats in the documentation: https://pandas.pydata.org/pandas-docs/stable/user_guide/indexing.html#returning-a-view-versus-a-copy\n",
      "C:\\Users\\patri\\anaconda3\\lib\\site-packages\\ipykernel_launcher.py:38: SettingWithCopyWarning: \n",
      "A value is trying to be set on a copy of a slice from a DataFrame\n",
      "\n",
      "See the caveats in the documentation: https://pandas.pydata.org/pandas-docs/stable/user_guide/indexing.html#returning-a-view-versus-a-copy\n",
      "C:\\Users\\patri\\anaconda3\\lib\\site-packages\\ipykernel_launcher.py:39: SettingWithCopyWarning: \n",
      "A value is trying to be set on a copy of a slice from a DataFrame\n",
      "\n",
      "See the caveats in the documentation: https://pandas.pydata.org/pandas-docs/stable/user_guide/indexing.html#returning-a-view-versus-a-copy\n",
      "C:\\Users\\patri\\anaconda3\\lib\\site-packages\\ipykernel_launcher.py:40: SettingWithCopyWarning: \n",
      "A value is trying to be set on a copy of a slice from a DataFrame\n",
      "\n",
      "See the caveats in the documentation: https://pandas.pydata.org/pandas-docs/stable/user_guide/indexing.html#returning-a-view-versus-a-copy\n",
      "C:\\Users\\patri\\anaconda3\\lib\\site-packages\\ipykernel_launcher.py:41: SettingWithCopyWarning: \n",
      "A value is trying to be set on a copy of a slice from a DataFrame\n",
      "\n",
      "See the caveats in the documentation: https://pandas.pydata.org/pandas-docs/stable/user_guide/indexing.html#returning-a-view-versus-a-copy\n",
      "C:\\Users\\patri\\anaconda3\\lib\\site-packages\\ipykernel_launcher.py:45: SettingWithCopyWarning: \n",
      "A value is trying to be set on a copy of a slice from a DataFrame\n",
      "\n",
      "See the caveats in the documentation: https://pandas.pydata.org/pandas-docs/stable/user_guide/indexing.html#returning-a-view-versus-a-copy\n"
     ]
    }
   ],
   "source": [
    "#url for advanced mapping using OpenWeatherMap's new OneCall API to get historical weather info by coordinates instead of \n",
    "#city names - not implemented for project initially due to setup being different\n",
    "# base_url = \"https://api.openweathermap.org/data/2.5/onecall?lat={lat}&lon={lon}&exclude={part}&appid={YOUR API KEY}\"\n",
    "# params = {\"exclude\":\"minutely,hourly,current\", \"appid\":weather_api_key, \"lat\":city_list[\"Latitude\"][0], \n",
    "#           \"lon\":city_list[\"Longitude\"][0]}\n",
    "\n",
    "#setup columns for temperature, humidity, cloudiness, and wind speed\n",
    "city_list[\"Max Temperature (F)\"] = \"\"\n",
    "city_list[\"Humidity (%)\"] = \"\"\n",
    "city_list[\"Cloudiness\"] = \"\"\n",
    "city_list[\"Wind Speed (mph)\"] = \"\"\n",
    "\n",
    "#setup columns for actual latitude and longitude\n",
    "city_list[\"Actual Latitude\"] = \"\"\n",
    "city_list[\"Actual Longitude\"] = \"\"\n",
    "\n",
    "#setup column for country code\n",
    "city_list[\"Country\"] = \"\"\n",
    "\n",
    "#setup column for city datetime\n",
    "city_list[\"Datetime (Local)\"] = \"\"\n",
    "#note that current timezone is PST (-7:00 from GMT)\n",
    "PST_offset = 7*60*60\n",
    "\n",
    "\n",
    "base_url_current = \"http://api.openweathermap.org/data/2.5/weather\"\n",
    "params = {\"q\":city_list[\"City\"][0], \"units\":\"imperial\", \"appid\":weather_api_key}\n",
    "\n",
    "test_response = requests.get(base_url_current, params)\n",
    "json_response = test_response.json()\n",
    "# json.dumps(json_response, indent=4)\n",
    "\n",
    "\n",
    "#establish pattern for getting data into columns from json object\n",
    "city_list[\"Actual Latitude\"][0] = json_response[\"coord\"][\"lat\"]\n",
    "city_list[\"Actual Longitude\"][0] = json_response[\"coord\"][\"lon\"]\n",
    "city_list[\"Max Temperature (F)\"][0] = json_response[\"main\"][\"temp_max\"]\n",
    "city_list[\"Humidity (%)\"][0] = json_response[\"main\"][\"humidity\"]\n",
    "city_list[\"Cloudiness\"][0] = json_response[\"clouds\"][\"all\"]\n",
    "city_list[\"Wind Speed (mph)\"][0] = json_response[\"wind\"][\"speed\"]\n",
    "city_list[\"Country\"][0] = json_response[\"sys\"][\"country\"]\n",
    "#create datetime.datetime object to give local date and time at the city of interest (need to add an offset from our \n",
    "#computer clock set to PST and then add in the timezone shift given by the API to change from GMT)\n",
    "first_city_time = datetime.datetime.fromtimestamp(json_response[\"dt\"]+json_response[\"timezone\"]+PST_offset)\n",
    "city_list[\"Datetime (Local)\"][0] = \"{} {}\".format(first_city_time.date(), first_city_time.time())\n",
    "\n",
    "#create helper function to give the Datetime (UTC) column string\n",
    "def getTimeString(resp_json, comp_time):\n",
    "    curr_city_datetime = datetime.datetime.fromtimestamp(resp_json[\"dt\"]+resp_json[\"timezone\"]+comp_time)\n",
    "    return \"{} {}\".format(curr_city_datetime.date(), curr_city_datetime.time())\n",
    "\n",
    "#create function to add all info to dataframe using the above pattern \n",
    "def addColumns(pd_df, resp_json, i, comp_time):\n",
    "    pd_df[\"Actual Latitude\"][i] = resp_json[\"coord\"][\"lat\"]\n",
    "    pd_df[\"Actual Longitude\"][i] = resp_json[\"coord\"][\"lon\"]\n",
    "    pd_df[\"Max Temperature (F)\"][i] = resp_json[\"main\"][\"temp_max\"]\n",
    "    pd_df[\"Humidity (%)\"][i] = resp_json[\"main\"][\"humidity\"]\n",
    "    pd_df[\"Cloudiness\"][i] = resp_json[\"clouds\"][\"all\"]\n",
    "    pd_df[\"Wind Speed (mph)\"][i] = resp_json[\"wind\"][\"speed\"]\n",
    "    pd_df[\"Country\"][i] = resp_json[\"sys\"][\"country\"]\n",
    "    #create datetime.datetime object to give local date and time at the city of interest (need to add an offset from our \n",
    "    #computer clock set to PST and then add in the timezone shift given by the API to change from GMT)\n",
    "    pd_df[\"Datetime (Local)\"][i] = getTimeString(resp_json, comp_time)\n",
    "        \n"
   ]
  },
  {
   "cell_type": "code",
   "execution_count": 66,
   "metadata": {},
   "outputs": [
    {
     "name": "stderr",
     "output_type": "stream",
     "text": [
      "C:\\Users\\patri\\anaconda3\\lib\\site-packages\\ipykernel_launcher.py:54: SettingWithCopyWarning: \n",
      "A value is trying to be set on a copy of a slice from a DataFrame\n",
      "\n",
      "See the caveats in the documentation: https://pandas.pydata.org/pandas-docs/stable/user_guide/indexing.html#returning-a-view-versus-a-copy\n",
      "C:\\Users\\patri\\anaconda3\\lib\\site-packages\\ipykernel_launcher.py:55: SettingWithCopyWarning: \n",
      "A value is trying to be set on a copy of a slice from a DataFrame\n",
      "\n",
      "See the caveats in the documentation: https://pandas.pydata.org/pandas-docs/stable/user_guide/indexing.html#returning-a-view-versus-a-copy\n",
      "C:\\Users\\patri\\anaconda3\\lib\\site-packages\\ipykernel_launcher.py:56: SettingWithCopyWarning: \n",
      "A value is trying to be set on a copy of a slice from a DataFrame\n",
      "\n",
      "See the caveats in the documentation: https://pandas.pydata.org/pandas-docs/stable/user_guide/indexing.html#returning-a-view-versus-a-copy\n",
      "C:\\Users\\patri\\anaconda3\\lib\\site-packages\\ipykernel_launcher.py:57: SettingWithCopyWarning: \n",
      "A value is trying to be set on a copy of a slice from a DataFrame\n",
      "\n",
      "See the caveats in the documentation: https://pandas.pydata.org/pandas-docs/stable/user_guide/indexing.html#returning-a-view-versus-a-copy\n",
      "C:\\Users\\patri\\anaconda3\\lib\\site-packages\\ipykernel_launcher.py:58: SettingWithCopyWarning: \n",
      "A value is trying to be set on a copy of a slice from a DataFrame\n",
      "\n",
      "See the caveats in the documentation: https://pandas.pydata.org/pandas-docs/stable/user_guide/indexing.html#returning-a-view-versus-a-copy\n",
      "C:\\Users\\patri\\anaconda3\\lib\\site-packages\\ipykernel_launcher.py:59: SettingWithCopyWarning: \n",
      "A value is trying to be set on a copy of a slice from a DataFrame\n",
      "\n",
      "See the caveats in the documentation: https://pandas.pydata.org/pandas-docs/stable/user_guide/indexing.html#returning-a-view-versus-a-copy\n",
      "C:\\Users\\patri\\anaconda3\\lib\\site-packages\\ipykernel_launcher.py:60: SettingWithCopyWarning: \n",
      "A value is trying to be set on a copy of a slice from a DataFrame\n",
      "\n",
      "See the caveats in the documentation: https://pandas.pydata.org/pandas-docs/stable/user_guide/indexing.html#returning-a-view-versus-a-copy\n",
      "C:\\Users\\patri\\anaconda3\\lib\\site-packages\\ipykernel_launcher.py:63: SettingWithCopyWarning: \n",
      "A value is trying to be set on a copy of a slice from a DataFrame\n",
      "\n",
      "See the caveats in the documentation: https://pandas.pydata.org/pandas-docs/stable/user_guide/indexing.html#returning-a-view-versus-a-copy\n"
     ]
    },
    {
     "name": "stdout",
     "output_type": "stream",
     "text": [
      "Retrieved record 1 of 608 for the city of bredasdorp\n",
      "Retrieved record 2 of 608 for the city of vaini\n",
      "Retrieved record 3 of 608 for the city of norman wells\n",
      "Retrieved record 4 of 608 for the city of charlestown\n",
      "Retrieved record 5 of 608 for the city of okha\n",
      "Retrieved record 6 of 608 for the city of ushuaia\n",
      "Retrieved record 7 of 608 for the city of nikolskoye\n",
      "Retrieved record 8 of 608 for the city of hithadhoo\n",
      "Retrieved record 9 of 608 for the city of watsa\n",
      "Retrieved record 10 of 608 for the city of hermanus\n",
      "Retrieved record 11 of 608 for the city of mataura\n",
      "Retrieved record 12 of 608 for the city of wasilla\n",
      "Retrieved record 13 of 608 for the city of muhos\n",
      "Retrieved record 14 of 608 for the city of rajshahi\n",
      "Could not retrieve record 15 of 608 for the city of toliary\n"
     ]
    },
    {
     "name": "stderr",
     "output_type": "stream",
     "text": [
      "C:\\Users\\patri\\anaconda3\\lib\\site-packages\\ipykernel_launcher.py:14: SettingWithCopyWarning: \n",
      "A value is trying to be set on a copy of a slice from a DataFrame\n",
      "\n",
      "See the caveats in the documentation: https://pandas.pydata.org/pandas-docs/stable/user_guide/indexing.html#returning-a-view-versus-a-copy\n",
      "  \n"
     ]
    },
    {
     "name": "stdout",
     "output_type": "stream",
     "text": [
      "Retrieved record 16 of 608 for the city of chokurdakh\n",
      "Retrieved record 17 of 608 for the city of rikitea\n",
      "Retrieved record 18 of 608 for the city of muswellbrook\n",
      "Retrieved record 19 of 608 for the city of katsuura\n",
      "Could not retrieve record 20 of 608 for the city of amderma\n",
      "Retrieved record 21 of 608 for the city of teluk nibung\n",
      "Retrieved record 22 of 608 for the city of tasiilaq\n",
      "Retrieved record 23 of 608 for the city of lomza\n",
      "Retrieved record 24 of 608 for the city of tanabe\n",
      "Retrieved record 25 of 608 for the city of busselton\n",
      "Retrieved record 26 of 608 for the city of puerto ayora\n",
      "Could not retrieve record 27 of 608 for the city of mys shmidta\n",
      "Retrieved record 28 of 608 for the city of bubaque\n",
      "Retrieved record 29 of 608 for the city of tamandare\n",
      "Retrieved record 30 of 608 for the city of barpali\n",
      "Retrieved record 31 of 608 for the city of atuona\n",
      "Retrieved record 32 of 608 for the city of saint george\n",
      "Retrieved record 33 of 608 for the city of bethel\n",
      "Retrieved record 34 of 608 for the city of kasongo-lunda\n",
      "Retrieved record 35 of 608 for the city of trincomalee\n",
      "Could not retrieve record 36 of 608 for the city of crab hill\n",
      "Retrieved record 37 of 608 for the city of east london\n",
      "Retrieved record 38 of 608 for the city of albany\n",
      "Retrieved record 39 of 608 for the city of vestmannaeyjar\n",
      "Retrieved record 40 of 608 for the city of dawei\n",
      "Could not retrieve record 41 of 608 for the city of taolanaro\n",
      "Retrieved record 42 of 608 for the city of roebourne\n",
      "Retrieved record 43 of 608 for the city of ostrovnoy\n",
      "Retrieved record 44 of 608 for the city of avarua\n",
      "Retrieved record 45 of 608 for the city of kamyshin\n",
      "Retrieved record 46 of 608 for the city of touros\n",
      "Retrieved record 47 of 608 for the city of srednekolymsk\n",
      "Retrieved record 48 of 608 for the city of itarema\n",
      "Retrieved record 49 of 608 for the city of punta arenas\n",
      "Retrieved record 50 of 608 for the city of hurghada\n",
      "Retrieved record 51 of 608 for the city of ponta do sol\n",
      "Retrieved record 52 of 608 for the city of megion\n",
      "Retrieved record 53 of 608 for the city of kodiak\n",
      "Retrieved record 54 of 608 for the city of port blair\n",
      "Retrieved record 55 of 608 for the city of ust-barguzin\n",
      "Retrieved record 56 of 608 for the city of longyearbyen\n",
      "Retrieved record 57 of 608 for the city of cape town\n",
      "Retrieved record 58 of 608 for the city of half moon bay\n",
      "Could not retrieve record 59 of 608 for the city of ambodifototra\n",
      "Retrieved record 60 of 608 for the city of praya\n",
      "Retrieved record 61 of 608 for the city of chernyshevskiy\n",
      "Retrieved record 62 of 608 for the city of lokosovo\n",
      "Retrieved record 63 of 608 for the city of batagay-alyta\n",
      "Retrieved record 64 of 608 for the city of petropavlovsk-kamchatskiy\n",
      "Could not retrieve record 65 of 608 for the city of sentyabrskiy\n",
      "Retrieved record 66 of 608 for the city of terney\n",
      "Retrieved record 67 of 608 for the city of bluff\n",
      "Retrieved record 68 of 608 for the city of haines junction\n",
      "Retrieved record 69 of 608 for the city of magadi\n",
      "Retrieved record 70 of 608 for the city of seoul\n",
      "Retrieved record 71 of 608 for the city of haverhill\n",
      "Retrieved record 72 of 608 for the city of fort nelson\n",
      "Could not retrieve record 73 of 608 for the city of warqla\n",
      "Retrieved record 74 of 608 for the city of atar\n",
      "Could not retrieve record 75 of 608 for the city of vaitupu\n",
      "Retrieved record 76 of 608 for the city of hobart\n",
      "Retrieved record 77 of 608 for the city of luwingu\n",
      "Retrieved record 78 of 608 for the city of hami\n",
      "Retrieved record 79 of 608 for the city of port alfred\n",
      "Retrieved record 80 of 608 for the city of amapa\n",
      "Retrieved record 81 of 608 for the city of borova\n",
      "Could not retrieve record 82 of 608 for the city of hunza\n",
      "Retrieved record 83 of 608 for the city of torbay\n",
      "Retrieved record 84 of 608 for the city of chuy\n",
      "Could not retrieve record 85 of 608 for the city of belushya guba\n",
      "Retrieved record 86 of 608 for the city of arraial do cabo\n",
      "Retrieved record 87 of 608 for the city of syamzha\n",
      "Retrieved record 88 of 608 for the city of tombouctou\n",
      "Retrieved record 89 of 608 for the city of butaritari\n",
      "Retrieved record 90 of 608 for the city of zelenoborskiy\n",
      "Could not retrieve record 91 of 608 for the city of grand river south east\n",
      "Retrieved record 92 of 608 for the city of saint-louis\n",
      "Retrieved record 93 of 608 for the city of saint-marc-des-carrieres\n",
      "Retrieved record 94 of 608 for the city of pocoes\n",
      "Retrieved record 95 of 608 for the city of pisco\n",
      "Retrieved record 96 of 608 for the city of fortuna\n",
      "Retrieved record 97 of 608 for the city of saint-philippe\n",
      "Retrieved record 98 of 608 for the city of khatanga\n",
      "Retrieved record 99 of 608 for the city of barrow\n",
      "Could not retrieve record 100 of 608 for the city of illoqqortoormiut\n",
      "Retrieved record 101 of 608 for the city of saint anthony\n",
      "Retrieved record 102 of 608 for the city of sistranda\n",
      "Retrieved record 103 of 608 for the city of cidreira\n",
      "Retrieved record 104 of 608 for the city of tecoanapa\n",
      "Retrieved record 105 of 608 for the city of sharjah\n",
      "Could not retrieve record 106 of 608 for the city of attawapiskat\n",
      "Retrieved record 107 of 608 for the city of coihaique\n",
      "Retrieved record 108 of 608 for the city of borogontsy\n",
      "Retrieved record 109 of 608 for the city of djambala\n",
      "Retrieved record 110 of 608 for the city of hofn\n",
      "Retrieved record 111 of 608 for the city of hilo\n",
      "Retrieved record 112 of 608 for the city of talnakh\n",
      "Retrieved record 113 of 608 for the city of gharo\n",
      "Retrieved record 114 of 608 for the city of pacific grove\n",
      "Retrieved record 115 of 608 for the city of jamestown\n",
      "Retrieved record 116 of 608 for the city of bambous virieux\n",
      "Retrieved record 117 of 608 for the city of karakol\n",
      "Retrieved record 118 of 608 for the city of auki\n",
      "Retrieved record 119 of 608 for the city of brae\n",
      "Retrieved record 120 of 608 for the city of moissac\n",
      "Retrieved record 121 of 608 for the city of severnyy\n",
      "Retrieved record 122 of 608 for the city of kahului\n",
      "Could not retrieve record 123 of 608 for the city of wahran\n",
      "Retrieved record 124 of 608 for the city of ulaanbaatar\n",
      "Retrieved record 125 of 608 for the city of saint-pierre\n",
      "Retrieved record 126 of 608 for the city of chongwe\n",
      "Retrieved record 127 of 608 for the city of ejea de los caballeros\n",
      "Retrieved record 128 of 608 for the city of esso\n",
      "Retrieved record 129 of 608 for the city of petrozavodsk\n",
      "Retrieved record 130 of 608 for the city of caravelas\n",
      "Retrieved record 131 of 608 for the city of coahuayana\n",
      "Retrieved record 132 of 608 for the city of lorengau\n",
      "Retrieved record 133 of 608 for the city of peruibe\n",
      "Could not retrieve record 134 of 608 for the city of tabialan\n",
      "Retrieved record 135 of 608 for the city of mahina\n",
      "Retrieved record 136 of 608 for the city of paamiut\n",
      "Retrieved record 137 of 608 for the city of kavieng\n",
      "Retrieved record 138 of 608 for the city of qaanaaq\n",
      "Retrieved record 139 of 608 for the city of heihe\n",
      "Retrieved record 140 of 608 for the city of trat\n",
      "Retrieved record 141 of 608 for the city of toledo\n",
      "Retrieved record 142 of 608 for the city of kapaa\n",
      "Retrieved record 143 of 608 for the city of kyaukse\n",
      "Retrieved record 144 of 608 for the city of upernavik\n",
      "Retrieved record 145 of 608 for the city of chokwe\n",
      "Retrieved record 146 of 608 for the city of svetlaya\n",
      "Could not retrieve record 147 of 608 for the city of bolungarvik\n",
      "Retrieved record 148 of 608 for the city of thompson\n",
      "Could not retrieve record 149 of 608 for the city of addis zemen\n",
      "Retrieved record 150 of 608 for the city of burdur\n",
      "Could not retrieve record 151 of 608 for the city of palabuhanratu\n",
      "Retrieved record 152 of 608 for the city of hadejia\n",
      "Retrieved record 153 of 608 for the city of qandala\n",
      "Retrieved record 154 of 608 for the city of harindanga\n",
      "Retrieved record 155 of 608 for the city of laguna\n",
      "Retrieved record 156 of 608 for the city of georgetown\n",
      "Retrieved record 157 of 608 for the city of lebedinyy\n",
      "Retrieved record 158 of 608 for the city of hasaki\n",
      "Retrieved record 159 of 608 for the city of yellowknife\n",
      "Retrieved record 160 of 608 for the city of carnarvon\n",
      "Retrieved record 161 of 608 for the city of nelson bay\n",
      "Retrieved record 162 of 608 for the city of edd\n",
      "Retrieved record 163 of 608 for the city of hamilton\n",
      "Retrieved record 164 of 608 for the city of aktash\n",
      "Retrieved record 165 of 608 for the city of kuryk\n",
      "Retrieved record 166 of 608 for the city of chapais\n",
      "Retrieved record 167 of 608 for the city of deer lake\n"
     ]
    },
    {
     "name": "stdout",
     "output_type": "stream",
     "text": [
      "Retrieved record 168 of 608 for the city of lukovetskiy\n",
      "Retrieved record 169 of 608 for the city of airai\n",
      "Retrieved record 170 of 608 for the city of sao miguel do araguaia\n",
      "Retrieved record 171 of 608 for the city of hualmay\n",
      "Retrieved record 172 of 608 for the city of kashi\n",
      "Retrieved record 173 of 608 for the city of bentiu\n",
      "Retrieved record 174 of 608 for the city of biltine\n",
      "Retrieved record 175 of 608 for the city of kozhva\n",
      "Retrieved record 176 of 608 for the city of santa catalina\n",
      "Retrieved record 177 of 608 for the city of ahipara\n",
      "Retrieved record 178 of 608 for the city of rorvik\n",
      "Retrieved record 179 of 608 for the city of sao joao da barra\n",
      "Retrieved record 180 of 608 for the city of santa vitoria do palmar\n",
      "Retrieved record 181 of 608 for the city of mafra\n",
      "Retrieved record 182 of 608 for the city of cherskiy\n",
      "Retrieved record 183 of 608 for the city of geraldton\n",
      "Retrieved record 184 of 608 for the city of tabou\n",
      "Retrieved record 185 of 608 for the city of pizhma\n",
      "Retrieved record 186 of 608 for the city of lagoa\n",
      "Retrieved record 187 of 608 for the city of corpus christi\n",
      "Retrieved record 188 of 608 for the city of miajadas\n",
      "Retrieved record 189 of 608 for the city of narsaq\n",
      "Retrieved record 190 of 608 for the city of san patricio\n",
      "Retrieved record 191 of 608 for the city of bandarbeyla\n",
      "Retrieved record 192 of 608 for the city of jining\n",
      "Retrieved record 193 of 608 for the city of san ramon\n",
      "Retrieved record 194 of 608 for the city of slave lake\n",
      "Retrieved record 195 of 608 for the city of alofi\n",
      "Retrieved record 196 of 608 for the city of porto novo\n",
      "Retrieved record 197 of 608 for the city of tiksi\n",
      "Retrieved record 198 of 608 for the city of huarmey\n",
      "Could not retrieve record 199 of 608 for the city of tsihombe\n",
      "Retrieved record 200 of 608 for the city of zanjan\n",
      "Retrieved record 201 of 608 for the city of vila velha\n",
      "Retrieved record 202 of 608 for the city of buraydah\n",
      "Retrieved record 203 of 608 for the city of beian\n",
      "Retrieved record 204 of 608 for the city of beyneu\n",
      "Retrieved record 205 of 608 for the city of new norfolk\n",
      "Retrieved record 206 of 608 for the city of mahebourg\n",
      "Retrieved record 207 of 608 for the city of tuktoyaktuk\n",
      "Retrieved record 208 of 608 for the city of kloulklubed\n",
      "Could not retrieve record 209 of 608 for the city of tuggurt\n",
      "Retrieved record 210 of 608 for the city of kamaishi\n",
      "Retrieved record 211 of 608 for the city of tocopilla\n",
      "Retrieved record 212 of 608 for the city of port lincoln\n",
      "Retrieved record 213 of 608 for the city of hambantota\n",
      "Retrieved record 214 of 608 for the city of charters towers\n",
      "Could not retrieve record 215 of 608 for the city of buqayq\n",
      "Retrieved record 216 of 608 for the city of curup\n",
      "Retrieved record 217 of 608 for the city of lipin bor\n",
      "Retrieved record 218 of 608 for the city of nome\n",
      "Retrieved record 219 of 608 for the city of port elizabeth\n",
      "Retrieved record 220 of 608 for the city of carutapera\n",
      "Retrieved record 221 of 608 for the city of bengkulu\n",
      "Retrieved record 222 of 608 for the city of high level\n",
      "Retrieved record 223 of 608 for the city of yulara\n",
      "Retrieved record 224 of 608 for the city of tilichiki\n",
      "Retrieved record 225 of 608 for the city of ewa beach\n",
      "Could not retrieve record 226 of 608 for the city of ruatoria\n",
      "Could not retrieve record 227 of 608 for the city of marcona\n",
      "Retrieved record 228 of 608 for the city of saint-augustin\n",
      "Retrieved record 229 of 608 for the city of broome\n",
      "Retrieved record 230 of 608 for the city of te anau\n",
      "Retrieved record 231 of 608 for the city of mayumba\n",
      "Retrieved record 232 of 608 for the city of dalton\n",
      "Retrieved record 233 of 608 for the city of lebu\n",
      "Retrieved record 234 of 608 for the city of castro\n",
      "Retrieved record 235 of 608 for the city of bonthe\n",
      "Retrieved record 236 of 608 for the city of faanui\n",
      "Retrieved record 237 of 608 for the city of vila\n",
      "Retrieved record 238 of 608 for the city of san quintin\n",
      "Retrieved record 239 of 608 for the city of dikson\n",
      "Retrieved record 240 of 608 for the city of flinders\n",
      "Retrieved record 241 of 608 for the city of mocuba\n",
      "Retrieved record 242 of 608 for the city of birao\n",
      "Retrieved record 243 of 608 for the city of pevek\n",
      "Retrieved record 244 of 608 for the city of kununurra\n",
      "Retrieved record 245 of 608 for the city of atagay\n",
      "Retrieved record 246 of 608 for the city of nhulunbuy\n",
      "Retrieved record 247 of 608 for the city of les cayes\n",
      "Retrieved record 248 of 608 for the city of kirksville\n",
      "Retrieved record 249 of 608 for the city of sao filipe\n",
      "Retrieved record 250 of 608 for the city of belaya gora\n",
      "Retrieved record 251 of 608 for the city of provideniya\n",
      "Retrieved record 252 of 608 for the city of ribeira grande\n",
      "Could not retrieve record 253 of 608 for the city of barbar\n",
      "Retrieved record 254 of 608 for the city of severo-kurilsk\n",
      "Retrieved record 255 of 608 for the city of neiafu\n",
      "Retrieved record 256 of 608 for the city of savannah bight\n",
      "Could not retrieve record 257 of 608 for the city of nizhneyansk\n",
      "Retrieved record 258 of 608 for the city of saskylakh\n",
      "Could not retrieve record 259 of 608 for the city of karamay\n",
      "Retrieved record 260 of 608 for the city of deputatskiy\n",
      "Retrieved record 261 of 608 for the city of andenes\n",
      "Retrieved record 262 of 608 for the city of alekseyevsk\n",
      "Retrieved record 263 of 608 for the city of zyryanka\n",
      "Retrieved record 264 of 608 for the city of conceicao da barra\n",
      "Retrieved record 265 of 608 for the city of kirakira\n",
      "Retrieved record 266 of 608 for the city of victoria\n",
      "Retrieved record 267 of 608 for the city of bani walid\n",
      "Retrieved record 268 of 608 for the city of selikhino\n",
      "Retrieved record 269 of 608 for the city of berlevag\n",
      "Retrieved record 270 of 608 for the city of tuatapere\n",
      "Retrieved record 271 of 608 for the city of virginia beach\n",
      "Retrieved record 272 of 608 for the city of salgueiro\n",
      "Retrieved record 273 of 608 for the city of honiara\n",
      "Retrieved record 274 of 608 for the city of tual\n",
      "Retrieved record 275 of 608 for the city of esperance\n",
      "Retrieved record 276 of 608 for the city of nipawin\n",
      "Retrieved record 277 of 608 for the city of ambilobe\n",
      "Retrieved record 278 of 608 for the city of san vicente\n",
      "Retrieved record 279 of 608 for the city of tulagi\n",
      "Retrieved record 280 of 608 for the city of mumford\n",
      "Retrieved record 281 of 608 for the city of yar-sale\n",
      "Retrieved record 282 of 608 for the city of acarau\n",
      "Could not retrieve record 283 of 608 for the city of umzimvubu\n",
      "Retrieved record 284 of 608 for the city of mar del plata\n",
      "Retrieved record 285 of 608 for the city of pangai\n",
      "Retrieved record 286 of 608 for the city of korla\n",
      "Retrieved record 287 of 608 for the city of souillac\n",
      "Retrieved record 288 of 608 for the city of antofagasta\n",
      "Retrieved record 289 of 608 for the city of iwaki\n",
      "Could not retrieve record 290 of 608 for the city of kleck\n",
      "Retrieved record 291 of 608 for the city of pastos bons\n",
      "Retrieved record 292 of 608 for the city of poum\n",
      "Could not retrieve record 293 of 608 for the city of lolua\n",
      "Retrieved record 294 of 608 for the city of kokopo\n",
      "Retrieved record 295 of 608 for the city of aykhal\n",
      "Retrieved record 296 of 608 for the city of grindavik\n",
      "Retrieved record 297 of 608 for the city of carnot\n",
      "Retrieved record 298 of 608 for the city of bela\n",
      "Could not retrieve record 299 of 608 for the city of karaul\n",
      "Retrieved record 300 of 608 for the city of ponta delgada\n",
      "Retrieved record 301 of 608 for the city of pachperwa\n",
      "Retrieved record 302 of 608 for the city of ben tre\n",
      "Retrieved record 303 of 608 for the city of sevierville\n",
      "Retrieved record 304 of 608 for the city of inhambane\n",
      "Retrieved record 305 of 608 for the city of dingle\n",
      "Could not retrieve record 306 of 608 for the city of galgani\n",
      "Retrieved record 307 of 608 for the city of buala\n",
      "Retrieved record 308 of 608 for the city of mecca\n",
      "Retrieved record 309 of 608 for the city of codrington\n",
      "Retrieved record 310 of 608 for the city of mount isa\n",
      "Could not retrieve record 311 of 608 for the city of bargal\n",
      "Retrieved record 312 of 608 for the city of svetlogorsk\n",
      "Retrieved record 313 of 608 for the city of matara\n",
      "Retrieved record 314 of 608 for the city of apac\n",
      "Retrieved record 315 of 608 for the city of copiapo\n",
      "Retrieved record 316 of 608 for the city of niono\n",
      "Retrieved record 317 of 608 for the city of constitucion\n",
      "Retrieved record 318 of 608 for the city of mgandu\n",
      "Retrieved record 319 of 608 for the city of parana\n"
     ]
    },
    {
     "name": "stdout",
     "output_type": "stream",
     "text": [
      "Retrieved record 320 of 608 for the city of bilma\n",
      "Retrieved record 321 of 608 for the city of xining\n",
      "Retrieved record 322 of 608 for the city of ouargaye\n",
      "Retrieved record 323 of 608 for the city of salalah\n",
      "Retrieved record 324 of 608 for the city of vostok\n",
      "Retrieved record 325 of 608 for the city of moyale\n",
      "Retrieved record 326 of 608 for the city of playa vicente\n",
      "Retrieved record 327 of 608 for the city of prince rupert\n",
      "Retrieved record 328 of 608 for the city of corinto\n",
      "Retrieved record 329 of 608 for the city of port-gentil\n",
      "Retrieved record 330 of 608 for the city of rostovka\n",
      "Retrieved record 331 of 608 for the city of yate\n",
      "Retrieved record 332 of 608 for the city of porbandar\n",
      "Retrieved record 333 of 608 for the city of melo\n",
      "Retrieved record 334 of 608 for the city of atasu\n",
      "Retrieved record 335 of 608 for the city of luderitz\n",
      "Retrieved record 336 of 608 for the city of mandalgovi\n",
      "Retrieved record 337 of 608 for the city of naryan-mar\n",
      "Retrieved record 338 of 608 for the city of riyadh\n",
      "Retrieved record 339 of 608 for the city of ratnagiri\n",
      "Retrieved record 340 of 608 for the city of severo-yeniseyskiy\n",
      "Could not retrieve record 341 of 608 for the city of barentsburg\n",
      "Retrieved record 342 of 608 for the city of maymyo\n",
      "Retrieved record 343 of 608 for the city of tirumullaivasal\n",
      "Retrieved record 344 of 608 for the city of omsukchan\n",
      "Retrieved record 345 of 608 for the city of tateyama\n",
      "Retrieved record 346 of 608 for the city of tchibanga\n",
      "Retrieved record 347 of 608 for the city of comodoro rivadavia\n",
      "Retrieved record 348 of 608 for the city of margate\n",
      "Retrieved record 349 of 608 for the city of tottori\n",
      "Could not retrieve record 350 of 608 for the city of balimo\n",
      "Retrieved record 351 of 608 for the city of natal\n",
      "Retrieved record 352 of 608 for the city of cabedelo\n",
      "Retrieved record 353 of 608 for the city of lasa\n",
      "Retrieved record 354 of 608 for the city of kebumen\n",
      "Retrieved record 355 of 608 for the city of college\n",
      "Could not retrieve record 356 of 608 for the city of jabiru\n",
      "Retrieved record 357 of 608 for the city of podhum\n",
      "Retrieved record 358 of 608 for the city of gunjur\n",
      "Could not retrieve record 359 of 608 for the city of azar shahr\n",
      "Retrieved record 360 of 608 for the city of ust-ishim\n",
      "Retrieved record 361 of 608 for the city of pinyug\n",
      "Retrieved record 362 of 608 for the city of mirnyy\n",
      "Retrieved record 363 of 608 for the city of gevrai\n",
      "Retrieved record 364 of 608 for the city of cabo san lucas\n",
      "Retrieved record 365 of 608 for the city of koumac\n",
      "Retrieved record 366 of 608 for the city of waitati\n",
      "Retrieved record 367 of 608 for the city of port jervis\n",
      "Retrieved record 368 of 608 for the city of marawi\n",
      "Could not retrieve record 369 of 608 for the city of dzhusaly\n",
      "Retrieved record 370 of 608 for the city of nokaneng\n",
      "Retrieved record 371 of 608 for the city of griffith\n",
      "Retrieved record 372 of 608 for the city of havre-saint-pierre\n",
      "Retrieved record 373 of 608 for the city of yingcheng\n",
      "Retrieved record 374 of 608 for the city of colares\n",
      "Retrieved record 375 of 608 for the city of saldanha\n",
      "Retrieved record 376 of 608 for the city of la orilla\n",
      "Retrieved record 377 of 608 for the city of hay river\n",
      "Retrieved record 378 of 608 for the city of adrar\n",
      "Retrieved record 379 of 608 for the city of taoudenni\n",
      "Retrieved record 380 of 608 for the city of los llanos de aridane\n",
      "Retrieved record 381 of 608 for the city of naze\n",
      "Retrieved record 382 of 608 for the city of marsh harbour\n",
      "Retrieved record 383 of 608 for the city of walvis bay\n",
      "Retrieved record 384 of 608 for the city of sao caetano de odivelas\n",
      "Retrieved record 385 of 608 for the city of rodrigues alves\n",
      "Retrieved record 386 of 608 for the city of lupeni\n",
      "Retrieved record 387 of 608 for the city of brookings\n",
      "Retrieved record 388 of 608 for the city of payo\n",
      "Retrieved record 389 of 608 for the city of lago da pedra\n",
      "Retrieved record 390 of 608 for the city of kosa\n",
      "Retrieved record 391 of 608 for the city of sioux lookout\n",
      "Retrieved record 392 of 608 for the city of koslan\n",
      "Could not retrieve record 393 of 608 for the city of gangotri\n",
      "Retrieved record 394 of 608 for the city of ancud\n",
      "Retrieved record 395 of 608 for the city of ouesso\n",
      "Retrieved record 396 of 608 for the city of basco\n",
      "Retrieved record 397 of 608 for the city of coro\n",
      "Retrieved record 398 of 608 for the city of buchanan\n",
      "Retrieved record 399 of 608 for the city of micco\n",
      "Retrieved record 400 of 608 for the city of honningsvag\n",
      "Retrieved record 401 of 608 for the city of dzhebariki-khaya\n",
      "Retrieved record 402 of 608 for the city of lamar\n",
      "Retrieved record 403 of 608 for the city of inongo\n",
      "Retrieved record 404 of 608 for the city of chauk\n",
      "Retrieved record 405 of 608 for the city of chor\n",
      "Retrieved record 406 of 608 for the city of moron\n",
      "Could not retrieve record 407 of 608 for the city of saleaula\n",
      "Retrieved record 408 of 608 for the city of preobrazheniye\n",
      "Could not retrieve record 409 of 608 for the city of samusu\n",
      "Retrieved record 410 of 608 for the city of nioro\n",
      "Retrieved record 411 of 608 for the city of viedma\n",
      "Retrieved record 412 of 608 for the city of hirado\n",
      "Could not retrieve record 413 of 608 for the city of uwayl\n",
      "Retrieved record 414 of 608 for the city of ilulissat\n",
      "Retrieved record 415 of 608 for the city of killarney\n",
      "Retrieved record 416 of 608 for the city of katobu\n",
      "Retrieved record 417 of 608 for the city of rawlins\n",
      "Retrieved record 418 of 608 for the city of kanniyakumari\n",
      "Could not retrieve record 419 of 608 for the city of lephepe\n",
      "Could not retrieve record 420 of 608 for the city of yanchukan\n",
      "Could not retrieve record 421 of 608 for the city of hihifo\n",
      "Retrieved record 422 of 608 for the city of chadiza\n",
      "Retrieved record 423 of 608 for the city of atherton\n",
      "Retrieved record 424 of 608 for the city of yumen\n",
      "Retrieved record 425 of 608 for the city of whitehorse\n",
      "Retrieved record 426 of 608 for the city of olga\n",
      "Retrieved record 427 of 608 for the city of kodinsk\n",
      "Retrieved record 428 of 608 for the city of namibe\n",
      "Retrieved record 429 of 608 for the city of otradnoye\n",
      "Retrieved record 430 of 608 for the city of iqaluit\n",
      "Retrieved record 431 of 608 for the city of sosnovo-ozerskoye\n",
      "Retrieved record 432 of 608 for the city of teknaf\n",
      "Could not retrieve record 433 of 608 for the city of satitoa\n",
      "Retrieved record 434 of 608 for the city of bull savanna\n",
      "Retrieved record 435 of 608 for the city of ilhabela\n",
      "Retrieved record 436 of 608 for the city of trelew\n",
      "Retrieved record 437 of 608 for the city of zhigansk\n",
      "Retrieved record 438 of 608 for the city of leningradskiy\n",
      "Retrieved record 439 of 608 for the city of novouzensk\n",
      "Retrieved record 440 of 608 for the city of aswan\n",
      "Retrieved record 441 of 608 for the city of kaukauna\n",
      "Retrieved record 442 of 608 for the city of luan\n",
      "Retrieved record 443 of 608 for the city of whitianga\n",
      "Retrieved record 444 of 608 for the city of kisangani\n",
      "Retrieved record 445 of 608 for the city of kaitangata\n",
      "Retrieved record 446 of 608 for the city of tigre\n",
      "Retrieved record 447 of 608 for the city of gallup\n",
      "Retrieved record 448 of 608 for the city of presidente epitacio\n",
      "Retrieved record 449 of 608 for the city of tlacotepec\n",
      "Retrieved record 450 of 608 for the city of tabatinga\n",
      "Retrieved record 451 of 608 for the city of port hardy\n",
      "Retrieved record 452 of 608 for the city of viterbo\n",
      "Retrieved record 453 of 608 for the city of dali\n",
      "Retrieved record 454 of 608 for the city of sayula\n",
      "Retrieved record 455 of 608 for the city of mount gambier\n",
      "Retrieved record 456 of 608 for the city of galesong\n",
      "Retrieved record 457 of 608 for the city of bauchi\n",
      "Retrieved record 458 of 608 for the city of meulaboh\n",
      "Retrieved record 459 of 608 for the city of clyde river\n",
      "Retrieved record 460 of 608 for the city of paita\n",
      "Retrieved record 461 of 608 for the city of sitka\n",
      "Retrieved record 462 of 608 for the city of grand-santi\n",
      "Retrieved record 463 of 608 for the city of semey\n",
      "Retrieved record 464 of 608 for the city of mankapur\n",
      "Retrieved record 465 of 608 for the city of padang\n",
      "Retrieved record 466 of 608 for the city of calama\n",
      "Retrieved record 467 of 608 for the city of thinadhoo\n",
      "Retrieved record 468 of 608 for the city of necochea\n",
      "Retrieved record 469 of 608 for the city of karratha\n",
      "Retrieved record 470 of 608 for the city of grand gaube\n",
      "Retrieved record 471 of 608 for the city of zhanaozen\n"
     ]
    },
    {
     "name": "stdout",
     "output_type": "stream",
     "text": [
      "Retrieved record 472 of 608 for the city of pochutla\n",
      "Retrieved record 473 of 608 for the city of gornopravdinsk\n",
      "Retrieved record 474 of 608 for the city of ugoofaaru\n",
      "Retrieved record 475 of 608 for the city of carlyle\n",
      "Retrieved record 476 of 608 for the city of sangar\n",
      "Retrieved record 477 of 608 for the city of rawson\n",
      "Retrieved record 478 of 608 for the city of beringovskiy\n",
      "Retrieved record 479 of 608 for the city of tiznit\n",
      "Could not retrieve record 480 of 608 for the city of doctor pedro p. pena\n",
      "Retrieved record 481 of 608 for the city of kruisfontein\n",
      "Retrieved record 482 of 608 for the city of bay saint louis\n",
      "Retrieved record 483 of 608 for the city of gigmoto\n",
      "Retrieved record 484 of 608 for the city of antalaha\n",
      "Retrieved record 485 of 608 for the city of juneau\n",
      "Retrieved record 486 of 608 for the city of caramay\n",
      "Retrieved record 487 of 608 for the city of aripuana\n",
      "Retrieved record 488 of 608 for the city of klaksvik\n",
      "Retrieved record 489 of 608 for the city of ishigaki\n",
      "Retrieved record 490 of 608 for the city of khandyga\n",
      "Retrieved record 491 of 608 for the city of mogadishu\n",
      "Retrieved record 492 of 608 for the city of bathsheba\n",
      "Retrieved record 493 of 608 for the city of falmouth\n",
      "Retrieved record 494 of 608 for the city of cayenne\n",
      "Retrieved record 495 of 608 for the city of voh\n",
      "Could not retrieve record 496 of 608 for the city of mouzakion\n",
      "Retrieved record 497 of 608 for the city of olafsvik\n",
      "Retrieved record 498 of 608 for the city of baykit\n",
      "Retrieved record 499 of 608 for the city of mendi\n",
      "Retrieved record 500 of 608 for the city of kousseri\n",
      "Retrieved record 501 of 608 for the city of lakes entrance\n",
      "Retrieved record 502 of 608 for the city of abu dhabi\n",
      "Retrieved record 503 of 608 for the city of belyye berega\n",
      "Retrieved record 504 of 608 for the city of huilong\n",
      "Retrieved record 505 of 608 for the city of ludvika\n",
      "Retrieved record 506 of 608 for the city of ekhabi\n",
      "Retrieved record 507 of 608 for the city of paragould\n",
      "Could not retrieve record 508 of 608 for the city of umm durman\n",
      "Retrieved record 509 of 608 for the city of egvekinot\n",
      "Retrieved record 510 of 608 for the city of arman\n",
      "Retrieved record 511 of 608 for the city of matagami\n",
      "Retrieved record 512 of 608 for the city of vao\n",
      "Retrieved record 513 of 608 for the city of jiaocheng\n",
      "Retrieved record 514 of 608 for the city of pangnirtung\n",
      "Retrieved record 515 of 608 for the city of zhukovo\n",
      "Retrieved record 516 of 608 for the city of sola\n",
      "Retrieved record 517 of 608 for the city of carsamba\n",
      "Retrieved record 518 of 608 for the city of grass valley\n",
      "Retrieved record 519 of 608 for the city of abbeville\n",
      "Retrieved record 520 of 608 for the city of luwuk\n",
      "Retrieved record 521 of 608 for the city of rocha\n",
      "Retrieved record 522 of 608 for the city of arlit\n",
      "Retrieved record 523 of 608 for the city of marrakesh\n",
      "Retrieved record 524 of 608 for the city of darhan\n",
      "Retrieved record 525 of 608 for the city of sakakah\n",
      "Retrieved record 526 of 608 for the city of cantagallo\n",
      "Retrieved record 527 of 608 for the city of almirante\n",
      "Retrieved record 528 of 608 for the city of kongoussi\n",
      "Retrieved record 529 of 608 for the city of oranjemund\n",
      "Retrieved record 530 of 608 for the city of jega\n",
      "Retrieved record 531 of 608 for the city of ulagan\n",
      "Retrieved record 532 of 608 for the city of aksu\n",
      "Could not retrieve record 533 of 608 for the city of athgarh\n",
      "Could not retrieve record 534 of 608 for the city of kobojango\n",
      "Retrieved record 535 of 608 for the city of evensk\n",
      "Retrieved record 536 of 608 for the city of muroto\n",
      "Retrieved record 537 of 608 for the city of dallas\n",
      "Retrieved record 538 of 608 for the city of camopi\n",
      "Retrieved record 539 of 608 for the city of harper\n",
      "Retrieved record 540 of 608 for the city of kailua\n",
      "Retrieved record 541 of 608 for the city of vytegra\n",
      "Retrieved record 542 of 608 for the city of davila\n",
      "Retrieved record 543 of 608 for the city of mezen\n",
      "Retrieved record 544 of 608 for the city of fuerte olimpo\n",
      "Retrieved record 545 of 608 for the city of nishihara\n",
      "Retrieved record 546 of 608 for the city of muros\n",
      "Retrieved record 547 of 608 for the city of nemuro\n",
      "Retrieved record 548 of 608 for the city of rabat\n",
      "Retrieved record 549 of 608 for the city of sri aman\n",
      "Retrieved record 550 of 608 for the city of leiyang\n",
      "Retrieved record 551 of 608 for the city of ninh binh\n",
      "Retrieved record 552 of 608 for the city of suntar\n",
      "Retrieved record 553 of 608 for the city of koson\n",
      "Retrieved record 554 of 608 for the city of nichinan\n",
      "Retrieved record 555 of 608 for the city of kameshkovo\n",
      "Retrieved record 556 of 608 for the city of dayong\n",
      "Retrieved record 557 of 608 for the city of chifeng\n",
      "Retrieved record 558 of 608 for the city of pathein\n",
      "Retrieved record 559 of 608 for the city of bagdarin\n",
      "Retrieved record 560 of 608 for the city of shimoda\n",
      "Retrieved record 561 of 608 for the city of surat\n",
      "Retrieved record 562 of 608 for the city of zhuanghe\n",
      "Retrieved record 563 of 608 for the city of pontianak\n",
      "Retrieved record 564 of 608 for the city of kerugoya\n",
      "Retrieved record 565 of 608 for the city of puerto escondido\n",
      "Retrieved record 566 of 608 for the city of fukue\n",
      "Retrieved record 567 of 608 for the city of kisanga\n",
      "Retrieved record 568 of 608 for the city of shar\n",
      "Retrieved record 569 of 608 for the city of itigi\n",
      "Retrieved record 570 of 608 for the city of kutum\n",
      "Retrieved record 571 of 608 for the city of la ronge\n",
      "Retrieved record 572 of 608 for the city of parksville\n",
      "Retrieved record 573 of 608 for the city of bloemhof\n",
      "Retrieved record 574 of 608 for the city of portland\n",
      "Retrieved record 575 of 608 for the city of keskin\n",
      "Retrieved record 576 of 608 for the city of arrecife\n",
      "Retrieved record 577 of 608 for the city of yuzhou\n",
      "Retrieved record 578 of 608 for the city of flin flon\n",
      "Retrieved record 579 of 608 for the city of kamina\n",
      "Retrieved record 580 of 608 for the city of black river\n",
      "Retrieved record 581 of 608 for the city of toora-khem\n",
      "Retrieved record 582 of 608 for the city of baruun-urt\n",
      "Retrieved record 583 of 608 for the city of tuscaloosa\n",
      "Retrieved record 584 of 608 for the city of launceston\n",
      "Retrieved record 585 of 608 for the city of pithoragarh\n",
      "Retrieved record 586 of 608 for the city of camana\n",
      "Could not retrieve record 587 of 608 for the city of bur gabo\n",
      "Retrieved record 588 of 608 for the city of shubarshi\n",
      "Retrieved record 589 of 608 for the city of kalawit\n",
      "Retrieved record 590 of 608 for the city of zhezkazgan\n",
      "Retrieved record 591 of 608 for the city of tukrah\n",
      "Retrieved record 592 of 608 for the city of buritis\n",
      "Retrieved record 593 of 608 for the city of puerto del rosario\n",
      "Retrieved record 594 of 608 for the city of keti bandar\n",
      "Retrieved record 595 of 608 for the city of kaffrine\n",
      "Retrieved record 596 of 608 for the city of ngorongoro\n",
      "Retrieved record 597 of 608 for the city of khanpur\n",
      "Retrieved record 598 of 608 for the city of hasanabad\n",
      "Could not retrieve record 599 of 608 for the city of tumannyy\n",
      "Retrieved record 600 of 608 for the city of turayf\n",
      "Retrieved record 601 of 608 for the city of sovetskiy\n",
      "Retrieved record 602 of 608 for the city of manggar\n",
      "Retrieved record 603 of 608 for the city of acari\n",
      "Retrieved record 604 of 608 for the city of mackay\n",
      "Retrieved record 605 of 608 for the city of dolores\n",
      "Retrieved record 606 of 608 for the city of jizan\n",
      "Retrieved record 607 of 608 for the city of pitimbu\n",
      "Could not retrieve record 608 of 608 for the city of babanusah\n"
     ]
    },
    {
     "data": {
      "text/html": [
       "<div>\n",
       "<style scoped>\n",
       "    .dataframe tbody tr th:only-of-type {\n",
       "        vertical-align: middle;\n",
       "    }\n",
       "\n",
       "    .dataframe tbody tr th {\n",
       "        vertical-align: top;\n",
       "    }\n",
       "\n",
       "    .dataframe thead th {\n",
       "        text-align: right;\n",
       "    }\n",
       "</style>\n",
       "<table border=\"1\" class=\"dataframe\">\n",
       "  <thead>\n",
       "    <tr style=\"text-align: right;\">\n",
       "      <th></th>\n",
       "      <th>City</th>\n",
       "      <th>Approx. Latitude</th>\n",
       "      <th>Approx. Longitude</th>\n",
       "      <th>Max Temperature (F)</th>\n",
       "      <th>Humidity (%)</th>\n",
       "      <th>Cloudiness</th>\n",
       "      <th>Wind Speed (mph)</th>\n",
       "      <th>Actual Latitude</th>\n",
       "      <th>Actual Longitude</th>\n",
       "      <th>Country</th>\n",
       "      <th>Datetime (Local)</th>\n",
       "    </tr>\n",
       "  </thead>\n",
       "  <tbody>\n",
       "    <tr>\n",
       "      <th>0</th>\n",
       "      <td>bredasdorp</td>\n",
       "      <td>-80.318442</td>\n",
       "      <td>15.532365</td>\n",
       "      <td>55.4</td>\n",
       "      <td>82</td>\n",
       "      <td>8</td>\n",
       "      <td>10.29</td>\n",
       "      <td>-34.53</td>\n",
       "      <td>20.04</td>\n",
       "      <td>ZA</td>\n",
       "      <td>2020-06-29 01:39:56</td>\n",
       "    </tr>\n",
       "    <tr>\n",
       "      <th>1</th>\n",
       "      <td>vaini</td>\n",
       "      <td>-86.226736</td>\n",
       "      <td>-175.515797</td>\n",
       "      <td>78.8</td>\n",
       "      <td>88</td>\n",
       "      <td>75</td>\n",
       "      <td>10.29</td>\n",
       "      <td>-21.2</td>\n",
       "      <td>-175.2</td>\n",
       "      <td>TO</td>\n",
       "      <td>2020-06-29 12:38:34</td>\n",
       "    </tr>\n",
       "    <tr>\n",
       "      <th>2</th>\n",
       "      <td>norman wells</td>\n",
       "      <td>74.582597</td>\n",
       "      <td>-120.095072</td>\n",
       "      <td>75.2</td>\n",
       "      <td>27</td>\n",
       "      <td>40</td>\n",
       "      <td>2.77</td>\n",
       "      <td>65.28</td>\n",
       "      <td>-126.83</td>\n",
       "      <td>CA</td>\n",
       "      <td>2020-06-28 17:39:56</td>\n",
       "    </tr>\n",
       "    <tr>\n",
       "      <th>3</th>\n",
       "      <td>charlestown</td>\n",
       "      <td>15.318038</td>\n",
       "      <td>-64.231231</td>\n",
       "      <td>55</td>\n",
       "      <td>93</td>\n",
       "      <td>57</td>\n",
       "      <td>5.68</td>\n",
       "      <td>-32.95</td>\n",
       "      <td>151.67</td>\n",
       "      <td>AU</td>\n",
       "      <td>2020-06-29 09:35:58</td>\n",
       "    </tr>\n",
       "    <tr>\n",
       "      <th>4</th>\n",
       "      <td>okha</td>\n",
       "      <td>54.451828</td>\n",
       "      <td>142.697843</td>\n",
       "      <td>48.88</td>\n",
       "      <td>90</td>\n",
       "      <td>98</td>\n",
       "      <td>3.47</td>\n",
       "      <td>53.57</td>\n",
       "      <td>142.95</td>\n",
       "      <td>RU</td>\n",
       "      <td>2020-06-29 10:39:56</td>\n",
       "    </tr>\n",
       "  </tbody>\n",
       "</table>\n",
       "</div>"
      ],
      "text/plain": [
       "           City  Approx. Latitude  Approx. Longitude Max Temperature (F)  \\\n",
       "0    bredasdorp        -80.318442          15.532365                55.4   \n",
       "1         vaini        -86.226736        -175.515797                78.8   \n",
       "2  norman wells         74.582597        -120.095072                75.2   \n",
       "3   charlestown         15.318038         -64.231231                  55   \n",
       "4          okha         54.451828         142.697843               48.88   \n",
       "\n",
       "  Humidity (%) Cloudiness Wind Speed (mph) Actual Latitude Actual Longitude  \\\n",
       "0           82          8            10.29          -34.53            20.04   \n",
       "1           88         75            10.29           -21.2           -175.2   \n",
       "2           27         40             2.77           65.28          -126.83   \n",
       "3           93         57             5.68          -32.95           151.67   \n",
       "4           90         98             3.47           53.57           142.95   \n",
       "\n",
       "  Country     Datetime (Local)  \n",
       "0      ZA  2020-06-29 01:39:56  \n",
       "1      TO  2020-06-29 12:38:34  \n",
       "2      CA  2020-06-28 17:39:56  \n",
       "3      AU  2020-06-29 09:35:58  \n",
       "4      RU  2020-06-29 10:39:56  "
      ]
     },
     "execution_count": 66,
     "metadata": {},
     "output_type": "execute_result"
    }
   ],
   "source": [
    "#loop over rows in dataframe to gather info for each city's weather\n",
    "#put in its own cell to allow running separately from the test/setup of the API calls\n",
    "record_count = len(city_list)\n",
    "\n",
    "for i, row in city_list.iterrows():\n",
    "    #use try/except construct to skip over missing cities or missing info\n",
    "    try:\n",
    "        params[\"q\"] = row[\"City\"]\n",
    "        response = requests.get(base_url_current, params)\n",
    "        json_resp = response.json()\n",
    "        addColumns(city_list, json_resp, i, PST_offset)\n",
    "        print(\"Retrieved record {} of {} for the city of {}\".format(i+1, record_count, row[\"City\"]))\n",
    "    except:\n",
    "        city_list[\"City\"][i] = \"Failed\"\n",
    "        print(\"Could not retrieve record {} of {} for the city of {}\".format(i+1, record_count, row[\"City\"]))\n",
    "        \n",
    "\n",
    "city_list.head()"
   ]
  },
  {
   "cell_type": "markdown",
   "metadata": {},
   "source": [
    "### Convert Raw Data to DataFrame\n",
    "* Export the city data into a .csv.\n",
    "* Display the DataFrame"
   ]
  },
  {
   "cell_type": "code",
   "execution_count": 92,
   "metadata": {},
   "outputs": [
    {
     "name": "stdout",
     "output_type": "stream",
     "text": [
      "There is data for 554 cities out of the 608 cities identified, for a retrieval success rate of 91.1%\n"
     ]
    },
    {
     "name": "stderr",
     "output_type": "stream",
     "text": [
      "C:\\Users\\patri\\anaconda3\\lib\\site-packages\\ipykernel_launcher.py:15: SettingWithCopyWarning: \n",
      "A value is trying to be set on a copy of a slice from a DataFrame.\n",
      "Try using .loc[row_indexer,col_indexer] = value instead\n",
      "\n",
      "See the caveats in the documentation: https://pandas.pydata.org/pandas-docs/stable/user_guide/indexing.html#returning-a-view-versus-a-copy\n",
      "  from ipykernel import kernelapp as app\n"
     ]
    },
    {
     "data": {
      "text/plain": [
       "City                    object\n",
       "Approx. Latitude       float64\n",
       "Approx. Longitude      float64\n",
       "Max Temperature (F)    float64\n",
       "Humidity (%)             int64\n",
       "Cloudiness               int64\n",
       "Wind Speed (mph)       float64\n",
       "Actual Latitude        float64\n",
       "Actual Longitude       float64\n",
       "Country                 object\n",
       "Datetime (Local)        object\n",
       "dtype: object"
      ]
     },
     "execution_count": 92,
     "metadata": {},
     "output_type": "execute_result"
    }
   ],
   "source": [
    "remaining_cities = city_list.loc[city_list[\"City\"] != \"Failed\"]\n",
    "city_left_count = len(remaining_cities)\n",
    "print(\"There is data for {} cities out of the {} cities identified, for a retrieval success rate of {:.1%}\"\n",
    "      .format(city_left_count, record_count, (city_left_count/record_count)))\n",
    "\n",
    "remaining_cities.index = [a for a in range(city_left_count)]\n",
    "\n",
    "\n",
    "#must change all the columns other than the three below to numeric types - \n",
    "#they are currently strings!\n",
    "non_numeric_cols = [\"City\", \"Country\", \"Datetime (Local)\"]\n",
    "\n",
    "for col in remaining_cities.columns:\n",
    "    if(col not in non_numeric_cols):\n",
    "        remaining_cities[col] = pd.to_numeric(remaining_cities[col])\n",
    "        \n",
    "remaining_cities.dtypes\n",
    "remaining_cities"
   ]
  },
  {
   "cell_type": "raw",
   "metadata": {},
   "source": []
  },
  {
   "cell_type": "code",
   "execution_count": null,
   "metadata": {},
   "outputs": [],
   "source": []
  },
  {
   "cell_type": "markdown",
   "metadata": {},
   "source": [
    "## Inspect the data and remove the cities where the humidity > 100%.\n",
    "----\n",
    "Skip this step if there are no cities that have humidity > 100%. "
   ]
  },
  {
   "cell_type": "code",
   "execution_count": 96,
   "metadata": {},
   "outputs": [
    {
     "name": "stdout",
     "output_type": "stream",
     "text": [
      "By inspection, the maximum humidity value is 100%, so there are no values greater than 100% in our data!\n"
     ]
    },
    {
     "data": {
      "text/plain": [
       "count    554.000000\n",
       "mean      72.005415\n",
       "std       19.973173\n",
       "min        3.000000\n",
       "25%       63.000000\n",
       "50%       76.000000\n",
       "75%       86.000000\n",
       "max      100.000000\n",
       "Name: Humidity (%), dtype: float64"
      ]
     },
     "execution_count": 96,
     "metadata": {},
     "output_type": "execute_result"
    }
   ],
   "source": [
    "#check if there are any cities with >100% humidity\n",
    "test_stats = remaining_cities[\"Humidity (%)\"].describe(include = \"all\")\n",
    "print(\"By inspection, the maximum humidity value is 100%, so there are no values greater than 100% in our data!\")\n",
    "test_stats"
   ]
  },
  {
   "cell_type": "code",
   "execution_count": 7,
   "metadata": {},
   "outputs": [
    {
     "data": {
      "text/plain": [
       "Int64Index([], dtype='int64')"
      ]
     },
     "execution_count": 7,
     "metadata": {},
     "output_type": "execute_result"
    }
   ],
   "source": [
    "#  Get the indices of cities that have humidity over 100%."
   ]
  },
  {
   "cell_type": "code",
   "execution_count": 8,
   "metadata": {},
   "outputs": [
    {
     "data": {
      "text/html": [
       "<div>\n",
       "<style scoped>\n",
       "    .dataframe tbody tr th:only-of-type {\n",
       "        vertical-align: middle;\n",
       "    }\n",
       "\n",
       "    .dataframe tbody tr th {\n",
       "        vertical-align: top;\n",
       "    }\n",
       "\n",
       "    .dataframe thead th {\n",
       "        text-align: right;\n",
       "    }\n",
       "</style>\n",
       "<table border=\"1\" class=\"dataframe\">\n",
       "  <thead>\n",
       "    <tr style=\"text-align: right;\">\n",
       "      <th></th>\n",
       "      <th>City</th>\n",
       "      <th>Lat</th>\n",
       "      <th>Lng</th>\n",
       "      <th>Max Temp</th>\n",
       "      <th>Humidity</th>\n",
       "      <th>Cloudiness</th>\n",
       "      <th>Wind Speed</th>\n",
       "      <th>Country</th>\n",
       "      <th>Date</th>\n",
       "    </tr>\n",
       "  </thead>\n",
       "  <tbody>\n",
       "    <tr>\n",
       "      <th>0</th>\n",
       "      <td>pimentel</td>\n",
       "      <td>-6.84</td>\n",
       "      <td>-79.93</td>\n",
       "      <td>66.20</td>\n",
       "      <td>29</td>\n",
       "      <td>75</td>\n",
       "      <td>5.82</td>\n",
       "      <td>PE</td>\n",
       "      <td>1585764415</td>\n",
       "    </tr>\n",
       "    <tr>\n",
       "      <th>1</th>\n",
       "      <td>victoria</td>\n",
       "      <td>22.29</td>\n",
       "      <td>114.16</td>\n",
       "      <td>69.01</td>\n",
       "      <td>88</td>\n",
       "      <td>40</td>\n",
       "      <td>18.34</td>\n",
       "      <td>HK</td>\n",
       "      <td>1585764288</td>\n",
       "    </tr>\n",
       "    <tr>\n",
       "      <th>2</th>\n",
       "      <td>padang</td>\n",
       "      <td>-0.95</td>\n",
       "      <td>100.35</td>\n",
       "      <td>79.90</td>\n",
       "      <td>75</td>\n",
       "      <td>99</td>\n",
       "      <td>1.63</td>\n",
       "      <td>ID</td>\n",
       "      <td>1585764115</td>\n",
       "    </tr>\n",
       "    <tr>\n",
       "      <th>3</th>\n",
       "      <td>hasaki</td>\n",
       "      <td>35.73</td>\n",
       "      <td>140.83</td>\n",
       "      <td>55.00</td>\n",
       "      <td>100</td>\n",
       "      <td>75</td>\n",
       "      <td>4.70</td>\n",
       "      <td>JP</td>\n",
       "      <td>1585764415</td>\n",
       "    </tr>\n",
       "    <tr>\n",
       "      <th>4</th>\n",
       "      <td>kahului</td>\n",
       "      <td>20.89</td>\n",
       "      <td>-156.47</td>\n",
       "      <td>70.00</td>\n",
       "      <td>88</td>\n",
       "      <td>1</td>\n",
       "      <td>7.63</td>\n",
       "      <td>US</td>\n",
       "      <td>1585764415</td>\n",
       "    </tr>\n",
       "  </tbody>\n",
       "</table>\n",
       "</div>"
      ],
      "text/plain": [
       "       City    Lat     Lng  Max Temp  Humidity  Cloudiness  Wind Speed  \\\n",
       "0  pimentel  -6.84  -79.93     66.20        29          75        5.82   \n",
       "1  victoria  22.29  114.16     69.01        88          40       18.34   \n",
       "2    padang  -0.95  100.35     79.90        75          99        1.63   \n",
       "3    hasaki  35.73  140.83     55.00       100          75        4.70   \n",
       "4   kahului  20.89 -156.47     70.00        88           1        7.63   \n",
       "\n",
       "  Country        Date  \n",
       "0      PE  1585764415  \n",
       "1      HK  1585764288  \n",
       "2      ID  1585764115  \n",
       "3      JP  1585764415  \n",
       "4      US  1585764415  "
      ]
     },
     "execution_count": 8,
     "metadata": {},
     "output_type": "execute_result"
    }
   ],
   "source": [
    "# Make a new DataFrame equal to the city data to drop all humidity outliers by index.\n",
    "# Passing \"inplace=False\" will make a copy of the city_data DataFrame, which we call \"clean_city_data\".\n"
   ]
  },
  {
   "cell_type": "code",
   "execution_count": 97,
   "metadata": {},
   "outputs": [
    {
     "data": {
      "text/html": [
       "<div>\n",
       "<style scoped>\n",
       "    .dataframe tbody tr th:only-of-type {\n",
       "        vertical-align: middle;\n",
       "    }\n",
       "\n",
       "    .dataframe tbody tr th {\n",
       "        vertical-align: top;\n",
       "    }\n",
       "\n",
       "    .dataframe thead th {\n",
       "        text-align: right;\n",
       "    }\n",
       "</style>\n",
       "<table border=\"1\" class=\"dataframe\">\n",
       "  <thead>\n",
       "    <tr style=\"text-align: right;\">\n",
       "      <th></th>\n",
       "      <th>City</th>\n",
       "      <th>Approx. Latitude</th>\n",
       "      <th>Approx. Longitude</th>\n",
       "      <th>Max Temperature (F)</th>\n",
       "      <th>Humidity (%)</th>\n",
       "      <th>Cloudiness</th>\n",
       "      <th>Wind Speed (mph)</th>\n",
       "      <th>Actual Latitude</th>\n",
       "      <th>Actual Longitude</th>\n",
       "      <th>Country</th>\n",
       "      <th>Datetime (Local)</th>\n",
       "    </tr>\n",
       "  </thead>\n",
       "  <tbody>\n",
       "    <tr>\n",
       "      <th>0</th>\n",
       "      <td>bredasdorp</td>\n",
       "      <td>-80.318442</td>\n",
       "      <td>15.532365</td>\n",
       "      <td>55.40</td>\n",
       "      <td>82</td>\n",
       "      <td>8</td>\n",
       "      <td>10.29</td>\n",
       "      <td>-34.53</td>\n",
       "      <td>20.04</td>\n",
       "      <td>ZA</td>\n",
       "      <td>2020-06-29 01:39:56</td>\n",
       "    </tr>\n",
       "    <tr>\n",
       "      <th>1</th>\n",
       "      <td>vaini</td>\n",
       "      <td>-86.226736</td>\n",
       "      <td>-175.515797</td>\n",
       "      <td>78.80</td>\n",
       "      <td>88</td>\n",
       "      <td>75</td>\n",
       "      <td>10.29</td>\n",
       "      <td>-21.20</td>\n",
       "      <td>-175.20</td>\n",
       "      <td>TO</td>\n",
       "      <td>2020-06-29 12:38:34</td>\n",
       "    </tr>\n",
       "    <tr>\n",
       "      <th>2</th>\n",
       "      <td>norman wells</td>\n",
       "      <td>74.582597</td>\n",
       "      <td>-120.095072</td>\n",
       "      <td>75.20</td>\n",
       "      <td>27</td>\n",
       "      <td>40</td>\n",
       "      <td>2.77</td>\n",
       "      <td>65.28</td>\n",
       "      <td>-126.83</td>\n",
       "      <td>CA</td>\n",
       "      <td>2020-06-28 17:39:56</td>\n",
       "    </tr>\n",
       "    <tr>\n",
       "      <th>3</th>\n",
       "      <td>charlestown</td>\n",
       "      <td>15.318038</td>\n",
       "      <td>-64.231231</td>\n",
       "      <td>55.00</td>\n",
       "      <td>93</td>\n",
       "      <td>57</td>\n",
       "      <td>5.68</td>\n",
       "      <td>-32.95</td>\n",
       "      <td>151.67</td>\n",
       "      <td>AU</td>\n",
       "      <td>2020-06-29 09:35:58</td>\n",
       "    </tr>\n",
       "    <tr>\n",
       "      <th>4</th>\n",
       "      <td>okha</td>\n",
       "      <td>54.451828</td>\n",
       "      <td>142.697843</td>\n",
       "      <td>48.88</td>\n",
       "      <td>90</td>\n",
       "      <td>98</td>\n",
       "      <td>3.47</td>\n",
       "      <td>53.57</td>\n",
       "      <td>142.95</td>\n",
       "      <td>RU</td>\n",
       "      <td>2020-06-29 10:39:56</td>\n",
       "    </tr>\n",
       "    <tr>\n",
       "      <th>...</th>\n",
       "      <td>...</td>\n",
       "      <td>...</td>\n",
       "      <td>...</td>\n",
       "      <td>...</td>\n",
       "      <td>...</td>\n",
       "      <td>...</td>\n",
       "      <td>...</td>\n",
       "      <td>...</td>\n",
       "      <td>...</td>\n",
       "      <td>...</td>\n",
       "      <td>...</td>\n",
       "    </tr>\n",
       "    <tr>\n",
       "      <th>549</th>\n",
       "      <td>acari</td>\n",
       "      <td>-20.981800</td>\n",
       "      <td>-77.344132</td>\n",
       "      <td>64.96</td>\n",
       "      <td>56</td>\n",
       "      <td>12</td>\n",
       "      <td>2.24</td>\n",
       "      <td>-15.43</td>\n",
       "      <td>-74.62</td>\n",
       "      <td>PE</td>\n",
       "      <td>2020-06-28 18:41:52</td>\n",
       "    </tr>\n",
       "    <tr>\n",
       "      <th>550</th>\n",
       "      <td>mackay</td>\n",
       "      <td>-21.423984</td>\n",
       "      <td>148.919434</td>\n",
       "      <td>68.00</td>\n",
       "      <td>77</td>\n",
       "      <td>40</td>\n",
       "      <td>12.75</td>\n",
       "      <td>-21.15</td>\n",
       "      <td>149.20</td>\n",
       "      <td>AU</td>\n",
       "      <td>2020-06-29 09:41:32</td>\n",
       "    </tr>\n",
       "    <tr>\n",
       "      <th>551</th>\n",
       "      <td>dolores</td>\n",
       "      <td>-37.084143</td>\n",
       "      <td>-56.647215</td>\n",
       "      <td>42.15</td>\n",
       "      <td>80</td>\n",
       "      <td>83</td>\n",
       "      <td>6.64</td>\n",
       "      <td>-36.31</td>\n",
       "      <td>-57.68</td>\n",
       "      <td>AR</td>\n",
       "      <td>2020-06-28 20:41:53</td>\n",
       "    </tr>\n",
       "    <tr>\n",
       "      <th>552</th>\n",
       "      <td>jizan</td>\n",
       "      <td>16.565623</td>\n",
       "      <td>43.014889</td>\n",
       "      <td>91.40</td>\n",
       "      <td>75</td>\n",
       "      <td>20</td>\n",
       "      <td>4.70</td>\n",
       "      <td>17.33</td>\n",
       "      <td>42.67</td>\n",
       "      <td>SA</td>\n",
       "      <td>2020-06-29 02:41:53</td>\n",
       "    </tr>\n",
       "    <tr>\n",
       "      <th>553</th>\n",
       "      <td>pitimbu</td>\n",
       "      <td>-7.763459</td>\n",
       "      <td>-29.382537</td>\n",
       "      <td>73.40</td>\n",
       "      <td>100</td>\n",
       "      <td>75</td>\n",
       "      <td>9.17</td>\n",
       "      <td>-7.47</td>\n",
       "      <td>-34.81</td>\n",
       "      <td>BR</td>\n",
       "      <td>2020-06-28 20:41:53</td>\n",
       "    </tr>\n",
       "  </tbody>\n",
       "</table>\n",
       "<p>554 rows × 11 columns</p>\n",
       "</div>"
      ],
      "text/plain": [
       "             City  Approx. Latitude  Approx. Longitude  Max Temperature (F)  \\\n",
       "0      bredasdorp        -80.318442          15.532365                55.40   \n",
       "1           vaini        -86.226736        -175.515797                78.80   \n",
       "2    norman wells         74.582597        -120.095072                75.20   \n",
       "3     charlestown         15.318038         -64.231231                55.00   \n",
       "4            okha         54.451828         142.697843                48.88   \n",
       "..            ...               ...                ...                  ...   \n",
       "549         acari        -20.981800         -77.344132                64.96   \n",
       "550        mackay        -21.423984         148.919434                68.00   \n",
       "551       dolores        -37.084143         -56.647215                42.15   \n",
       "552         jizan         16.565623          43.014889                91.40   \n",
       "553       pitimbu         -7.763459         -29.382537                73.40   \n",
       "\n",
       "     Humidity (%)  Cloudiness  Wind Speed (mph)  Actual Latitude  \\\n",
       "0              82           8             10.29           -34.53   \n",
       "1              88          75             10.29           -21.20   \n",
       "2              27          40              2.77            65.28   \n",
       "3              93          57              5.68           -32.95   \n",
       "4              90          98              3.47            53.57   \n",
       "..            ...         ...               ...              ...   \n",
       "549            56          12              2.24           -15.43   \n",
       "550            77          40             12.75           -21.15   \n",
       "551            80          83              6.64           -36.31   \n",
       "552            75          20              4.70            17.33   \n",
       "553           100          75              9.17            -7.47   \n",
       "\n",
       "     Actual Longitude Country     Datetime (Local)  \n",
       "0               20.04      ZA  2020-06-29 01:39:56  \n",
       "1             -175.20      TO  2020-06-29 12:38:34  \n",
       "2             -126.83      CA  2020-06-28 17:39:56  \n",
       "3              151.67      AU  2020-06-29 09:35:58  \n",
       "4              142.95      RU  2020-06-29 10:39:56  \n",
       "..                ...     ...                  ...  \n",
       "549            -74.62      PE  2020-06-28 18:41:52  \n",
       "550            149.20      AU  2020-06-29 09:41:32  \n",
       "551            -57.68      AR  2020-06-28 20:41:53  \n",
       "552             42.67      SA  2020-06-29 02:41:53  \n",
       "553            -34.81      BR  2020-06-28 20:41:53  \n",
       "\n",
       "[554 rows x 11 columns]"
      ]
     },
     "execution_count": 97,
     "metadata": {},
     "output_type": "execute_result"
    }
   ],
   "source": [
    "# Extract relevant fields from the data frame\n",
    "\n",
    "\n",
    "# Export the City_Data into a csv\n",
    "remaining_cities.to_csv(\"../output_data/Retrieved_City_Weather_Data.csv\")\n",
    "remaining_cities"
   ]
  },
  {
   "cell_type": "markdown",
   "metadata": {},
   "source": [
    "## Plotting the Data\n",
    "* Use proper labeling of the plots using plot titles (including date of analysis) and axes labels.\n",
    "* Save the plotted figures as .pngs."
   ]
  },
  {
   "cell_type": "markdown",
   "metadata": {},
   "source": [
    "## Latitude vs. Temperature Plot"
   ]
  },
  {
   "cell_type": "code",
   "execution_count": 107,
   "metadata": {
    "scrolled": true
   },
   "outputs": [
    {
     "data": {
      "image/png": "[encoded data removed]",
      "text/plain": [
       "<Figure size 432x288 with 1 Axes>"
      ]
     },
     "metadata": {
      "needs_background": "light"
     },
     "output_type": "display_data"
    }
   ],
   "source": [
    "lat_vs_T_axes = remaining_cities.plot(kind=\"scatter\", x=\"Actual Latitude\", y=\"Max Temperature (F)\", \n",
    "                                      title=\"Maximum Temperature (F) vs. City Latitude\")\n",
    "\n",
    "lat_vs_T_axes.get_figure().savefig(\"../output_data/Fig1.png\")"
   ]
  },
  {
   "cell_type": "markdown",
   "metadata": {},
   "source": [
    "## Latitude vs. Humidity Plot"
   ]
  },
  {
   "cell_type": "code",
   "execution_count": 108,
   "metadata": {},
   "outputs": [
    {
     "data": {
      "image/png": "[encoded data removed]",
      "text/plain": [
       "<Figure size 432x288 with 1 Axes>"
      ]
     },
     "metadata": {
      "needs_background": "light"
     },
     "output_type": "display_data"
    }
   ],
   "source": [
    "lat_vs_humidity_axes = remaining_cities.plot(kind=\"scatter\", x=\"Actual Latitude\", y=\"Humidity (%)\", \n",
    "                                      title=\"Humidity (%) vs. City Latitude\")\n",
    "\n",
    "lat_vs_humidity_axes.get_figure().savefig(\"../output_data/Fig2.png\")"
   ]
  },
  {
   "cell_type": "markdown",
   "metadata": {},
   "source": [
    "## Latitude vs. Cloudiness Plot"
   ]
  },
  {
   "cell_type": "code",
   "execution_count": 109,
   "metadata": {},
   "outputs": [
    {
     "data": {
      "image/png": "[encoded data removed]",
      "text/plain": [
       "<Figure size 432x288 with 1 Axes>"
      ]
     },
     "metadata": {
      "needs_background": "light"
     },
     "output_type": "display_data"
    }
   ],
   "source": [
    "lat_vs_cloudiness_axes = remaining_cities.plot(kind=\"scatter\", x=\"Actual Latitude\", y=\"Cloudiness\", \n",
    "                                      title=\"Cloudiness vs. City Latitude\")\n",
    "\n",
    "lat_vs_cloudiness_axes.get_figure().savefig(\"../output_data/Fig3.png\")"
   ]
  },
  {
   "cell_type": "markdown",
   "metadata": {},
   "source": [
    "## Latitude vs. Wind Speed Plot"
   ]
  },
  {
   "cell_type": "code",
   "execution_count": 110,
   "metadata": {},
   "outputs": [
    {
     "data": {
      "image/png": "[encoded data removed]",
      "text/plain": [
       "<Figure size 432x288 with 1 Axes>"
      ]
     },
     "metadata": {
      "needs_background": "light"
     },
     "output_type": "display_data"
    }
   ],
   "source": [
    "lat_vs_wind_speed_axes = remaining_cities.plot(kind=\"scatter\", x=\"Actual Latitude\", y=\"Wind Speed (mph)\", \n",
    "                                      title=\"Wind Speed (mph) vs. City Latitude\")\n",
    "\n",
    "lat_vs_wind_speed_axes.get_figure().savefig(\"../output_data/Fig4.png\")"
   ]
  },
  {
   "cell_type": "markdown",
   "metadata": {},
   "source": [
    "## Linear Regression"
   ]
  },
  {
   "cell_type": "code",
   "execution_count": 14,
   "metadata": {},
   "outputs": [],
   "source": [
    "# OPTIONAL: Create a function to create Linear Regression plots"
   ]
  },
  {
   "cell_type": "code",
   "execution_count": 113,
   "metadata": {},
   "outputs": [
    {
     "name": "stdout",
     "output_type": "stream",
     "text": [
      "There are 385 cities in the northern hemisphere out of 554 cities total, representing 69.5% of all cities in the data set.\n",
      "There are 169 cities in the southern hemisphere out of 554 cities total, representing 30.5% of all cities in the data set.\n"
     ]
    }
   ],
   "source": [
    "# Create Northern and Southern Hemisphere DataFrames\n",
    "\n",
    "#first, get a subset of all the cities that are on or north of the equator for the Northern Hemisphere DataFrame\n",
    "northern_hemisphere = remaining_cities.loc[remaining_cities[\"Actual Latitude\"] >= 0]\n",
    "northern_cities_count = len(northern_hemisphere)\n",
    "print(\"There are {} cities in the northern hemisphere out of {} cities total, representing {:.1%} of all cities in the data set.\"\n",
    "     .format(northern_cities_count, city_left_count, (northern_cities_count/city_left_count)))\n",
    "\n",
    "southern_hemisphere = remaining_cities.loc[remaining_cities[\"Actual Latitude\"] < 0]\n",
    "southern_cities_count = len(southern_hemisphere)\n",
    "print(\"There are {} cities in the southern hemisphere out of {} cities total, representing {:.1%} of all cities in the data set.\"\n",
    "     .format(southern_cities_count, city_left_count, (southern_cities_count/city_left_count)))\n"
   ]
  },
  {
   "cell_type": "markdown",
   "metadata": {},
   "source": [
    "####  Northern Hemisphere - Max Temp vs. Latitude Linear Regression"
   ]
  },
  {
   "cell_type": "code",
   "execution_count": 16,
   "metadata": {},
   "outputs": [
    {
     "name": "stdout",
     "output_type": "stream",
     "text": [
      "The r-squared is: 0.8271188905041935\n"
     ]
    },
    {
     "data": {
      "image/png": "[encoded data removed]",
      "text/plain": [
       "<Figure size 432x288 with 1 Axes>"
      ]
     },
     "metadata": {
      "needs_background": "light"
     },
     "output_type": "display_data"
    }
   ],
   "source": []
  },
  {
   "cell_type": "markdown",
   "metadata": {},
   "source": [
    "####  Southern Hemisphere - Max Temp vs. Latitude Linear Regression"
   ]
  },
  {
   "cell_type": "code",
   "execution_count": 17,
   "metadata": {},
   "outputs": [
    {
     "name": "stdout",
     "output_type": "stream",
     "text": [
      "The r-squared is: 0.39936284758885965\n"
     ]
    },
    {
     "data": {
      "image/png": "[encoded data removed]",
      "text/plain": [
       "<Figure size 432x288 with 1 Axes>"
      ]
     },
     "metadata": {
      "needs_background": "light"
     },
     "output_type": "display_data"
    }
   ],
   "source": []
  },
  {
   "cell_type": "markdown",
   "metadata": {},
   "source": [
    "####  Northern Hemisphere - Humidity (%) vs. Latitude Linear Regression"
   ]
  },
  {
   "cell_type": "code",
   "execution_count": 18,
   "metadata": {},
   "outputs": [
    {
     "name": "stdout",
     "output_type": "stream",
     "text": [
      "The r-squared is: 0.10829462153873139\n"
     ]
    },
    {
     "data": {
      "image/png": "[encoded data removed]",
      "text/plain": [
       "<Figure size 432x288 with 1 Axes>"
      ]
     },
     "metadata": {
      "needs_background": "light"
     },
     "output_type": "display_data"
    }
   ],
   "source": []
  },
  {
   "cell_type": "markdown",
   "metadata": {},
   "source": [
    "####  Southern Hemisphere - Humidity (%) vs. Latitude Linear Regression"
   ]
  },
  {
   "cell_type": "code",
   "execution_count": 19,
   "metadata": {},
   "outputs": [
    {
     "name": "stdout",
     "output_type": "stream",
     "text": [
      "The r-squared is: 0.0008996079328825663\n"
     ]
    },
    {
     "data": {
      "image/png": "[encoded data removed]",
      "text/plain": [
       "<Figure size 432x288 with 1 Axes>"
      ]
     },
     "metadata": {
      "needs_background": "light"
     },
     "output_type": "display_data"
    }
   ],
   "source": []
  },
  {
   "cell_type": "markdown",
   "metadata": {},
   "source": [
    "####  Northern Hemisphere - Cloudiness (%) vs. Latitude Linear Regression"
   ]
  },
  {
   "cell_type": "code",
   "execution_count": 20,
   "metadata": {},
   "outputs": [
    {
     "name": "stdout",
     "output_type": "stream",
     "text": [
      "The r-squared is: 0.05768812657005063\n"
     ]
    },
    {
     "data": {
      "image/png": "[encoded data removed]",
      "text/plain": [
       "<Figure size 432x288 with 1 Axes>"
      ]
     },
     "metadata": {
      "needs_background": "light"
     },
     "output_type": "display_data"
    }
   ],
   "source": []
  },
  {
   "cell_type": "markdown",
   "metadata": {},
   "source": [
    "####  Southern Hemisphere - Cloudiness (%) vs. Latitude Linear Regression"
   ]
  },
  {
   "cell_type": "code",
   "execution_count": 21,
   "metadata": {},
   "outputs": [
    {
     "name": "stdout",
     "output_type": "stream",
     "text": [
      "The r-squared is: 0.0684912094859049\n"
     ]
    },
    {
     "data": {
      "image/png": "[encoded data removed]",
      "text/plain": [
       "<Figure size 432x288 with 1 Axes>"
      ]
     },
     "metadata": {
      "needs_background": "light"
     },
     "output_type": "display_data"
    }
   ],
   "source": []
  },
  {
   "cell_type": "markdown",
   "metadata": {},
   "source": [
    "####  Northern Hemisphere - Wind Speed (mph) vs. Latitude Linear Regression"
   ]
  },
  {
   "cell_type": "code",
   "execution_count": 22,
   "metadata": {},
   "outputs": [
    {
     "name": "stdout",
     "output_type": "stream",
     "text": [
      "The r-squared is: 0.023371104533850804\n"
     ]
    },
    {
     "data": {
      "image/png": "[encoded data removed]",
      "text/plain": [
       "<Figure size 432x288 with 1 Axes>"
      ]
     },
     "metadata": {
      "needs_background": "light"
     },
     "output_type": "display_data"
    }
   ],
   "source": []
  },
  {
   "cell_type": "markdown",
   "metadata": {},
   "source": [
    "####  Southern Hemisphere - Wind Speed (mph) vs. Latitude Linear Regression"
   ]
  },
  {
   "cell_type": "code",
   "execution_count": 23,
   "metadata": {},
   "outputs": [
    {
     "name": "stdout",
     "output_type": "stream",
     "text": [
      "The r-squared is: 0.03381889207758188\n"
     ]
    },
    {
     "data": {
      "image/png": "[encoded data removed]",
      "text/plain": [
       "<Figure size 432x288 with 1 Axes>"
      ]
     },
     "metadata": {
      "needs_background": "light"
     },
     "output_type": "display_data"
    }
   ],
   "source": []
  },
  {
   "cell_type": "code",
   "execution_count": null,
   "metadata": {},
   "outputs": [],
   "source": []
  }
 ],
 "metadata": {
  "anaconda-cloud": {},
  "kernel_info": {
   "name": "python3"
  },
  "kernelspec": {
   "display_name": "Python 3",
   "language": "python",
   "name": "python3"
  },
  "language_info": {
   "codemirror_mode": {
    "name": "ipython",
    "version": 3
   },
   "file_extension": ".py",
   "mimetype": "text/x-python",
   "name": "python",
   "nbconvert_exporter": "python",
   "pygments_lexer": "ipython3",
   "version": "3.7.6"
  },
  "latex_envs": {
   "LaTeX_envs_menu_present": true,
   "autoclose": false,
   "autocomplete": true,
   "bibliofile": "biblio.bib",
   "cite_by": "apalike",
   "current_citInitial": 1,
   "eqLabelWithNumbers": true,
   "eqNumInitial": 1,
   "hotkeys": {
    "equation": "Ctrl-E",
    "itemize": "Ctrl-I"
   },
   "labels_anchors": false,
   "latex_user_defs": false,
   "report_style_numbering": false,
   "user_envs_cfg": false
  },
  "nteract": {
   "version": "0.12.3"
  }
 },
 "nbformat": 4,
 "nbformat_minor": 2
}
